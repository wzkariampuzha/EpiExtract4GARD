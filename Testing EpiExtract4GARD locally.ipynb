{
 "cells": [
  {
   "cell_type": "code",
   "execution_count": 1,
   "metadata": {},
   "outputs": [],
   "source": [
    "from transformers import pipeline, AutoModelForTokenClassification, AutoTokenizer\n",
    "import classify_abs\n",
    "import extract_abs"
   ]
  },
  {
   "cell_type": "code",
   "execution_count": 2,
   "metadata": {},
   "outputs": [],
   "source": [
    "GARD_dict, max_length = extract_abs.load_GARD_diseases()"
   ]
  },
  {
   "cell_type": "code",
   "execution_count": 3,
   "metadata": {},
   "outputs": [],
   "source": [
    "model = AutoModelForTokenClassification.from_pretrained(\"wzkariampuzha/EpiExtract4GARD\")"
   ]
  },
  {
   "cell_type": "code",
   "execution_count": 4,
   "metadata": {},
   "outputs": [],
   "source": [
    "tokenizer = AutoTokenizer.from_pretrained(\"wzkariampuzha/EpiExtract4GARD\")"
   ]
  },
  {
   "cell_type": "code",
   "execution_count": 5,
   "metadata": {},
   "outputs": [],
   "source": [
    "NER_pipeline = pipeline('ner', model=model, tokenizer=tokenizer,aggregation_strategy='simple')"
   ]
  },
  {
   "cell_type": "code",
   "execution_count": 6,
   "metadata": {},
   "outputs": [
    {
     "name": "stdout",
     "output_type": "stream",
     "text": [
      "SEARCH TERM MATCHED TO GARD DICTIONARY. SEARCHING FOR:  ['i cell disease', 'mucolipidosis 2', 'gnpta', 'inclusion cell disease', 'leroy disease', 'n-acetylglucosamine 1phosphotransferase deficiency', 'ml disorder type 2']\n"
     ]
    }
   ],
   "source": [
    "abstract_dict = classify_abs.search_getAbs(extract_abs.autosearch('GARD:0006749',GARD_dict), 20)"
   ]
  },
  {
   "cell_type": "code",
   "execution_count": 7,
   "metadata": {},
   "outputs": [
    {
     "data": {
      "text/plain": [
       "15"
      ]
     },
     "execution_count": 7,
     "metadata": {},
     "output_type": "execute_result"
    }
   ],
   "source": [
    "len(abstract_dict)"
   ]
  },
  {
   "cell_type": "code",
   "execution_count": 8,
   "metadata": {
    "scrolled": true
   },
   "outputs": [
    {
     "name": "stderr",
     "output_type": "stream",
     "text": [
      "Asking to truncate to max_length but no maximum length is provided and the model has no predefined maximum length. Default to no truncation.\n"
     ]
    },
    {
     "name": "stdout",
     "output_type": "stream",
     "text": [
      "Hip disease in Mucopolysaccharidoses and Mucolipidoses: A review of mechanisms, interventions and future perspectives. The hips are frequently involved in inheritable diseases which affect the bones. The clinical and radiological presentation of these diseases may be very similar to common hip disorders as developmental dysplasia of the hip, osteoarthritis and avascular necrosis, so the diagnosis may be easily overlooked and treatment may be suboptimal. Mucopolysaccharidosis (MPS) and Mucolipidosis (ML II and III) are lysosomal storage disorders with multisystemic involvement. Characteristic skeletal abnormalities, known as dysostosis multiplex, are common in MPS and ML and originate from intra-lysosomal storage of glycosaminoglycans in cells of the cartilage, bones and ligaments. The hip joint is severely affected in MPS and ML. Hip pathology results in limitations in mobility and pain from young age, and negatively affects quality of life. In order to better understand the underlying process that causes hip disease in MPS and ML, this review first describes the normal physiological (embryonic) hip joint development, including the interplay between the acetabulum and the femoral head. In the second part the factors contributing to altered hip morphology and function in MPS and ML are discussed, such as abnormal development of the pelvic- and femoral bones (which results in altered biomechanical forces) and inflammation. In the last part of this review therapeutic options and future perspectives are addressed. \n",
      " {'GARD:0007065'} {'Mucopolysaccharidosis'} set() set() []\n",
      "\n",
      "Compound heterozygous mutations in the neuraminidase 1 gene in type 1 sialidosis: A case report and review of literature. <h4>Background</h4>Type 1 sialidosis, also known as cherry-red spot-myoclonus syndrome, is a rare autosomal recessive lysosomal storage disorder presenting in the second decade of life. The most common symptoms are myoclonus, ataxia and seizure. It is rarely encountered in the Chinese mainland.<h4>Case summary</h4>A 22-year-old male presented with complaints of progressive myoclonus, ataxia and slurred speech, without visual symptoms; the presenting symptoms began at the age of 15-year-old. Whole exome sequencing revealed two pathogenic heterozygous missense variants [c.239C>T (p.P80L) and c.544A>G (p.S182G) in the neuraminidase 1 (NEU1) gene], both of which have been identified previously in Asian patients with type 1 sialidosis. All three patients identified in Mainland China come from three unrelated families, but all three show the NEU1 mutations p.S182G and p.P80L pathogenic variants. Increasing sialidase activity through chaperones is a promising therapeutic target in sialidosis.<h4>Conclusion</h4>Through retrospective analysis and summarizing the clinical and genetic characteristics of type 1 sialidosis, we hope to raise awareness of lysosomal storage disorders among clinicians and minimize the delay in diagnosis. \n",
      " set() set() {'china'} set() []\n",
      "\n",
      "Impaired Autophagy in Retinal Pigment Epithelial Cells Induced from iPS Cell of Distal Myopathy with Rimmed Vacuole Patient. <h4>Objective</h4>We generated induced pluripotent stem (iPS) cells from a patient with distal myopathy with rimmed vacuoles (DMRV), in which sialic acids synthesis is reported to be defective. In this study, we examined whether the differentiation to retinal pigment epithelial (RPE) cells and autophagy was affected in the patient derived cells.<h4>Methods</h4>Patient derived iPS cells were established through the transduction of re-programming factors into peripheral mononuclear cells via retrovirus vectors. RPE cells were induced from iPS cells through aggregation culture. Then the autophagy induced by amino acid starvation was estimated by measuring LC3-containing \"puncta\" structure.<h4>Results</h4>A 3D aggregate culture of patient-derived iPS cells resulted in some irregular shapes, and the aggregate contained large vacuoles filled with lipid droplets and cellular components such as damaged mitochondria. RPE cells induced from patient-derived iPS cells showed impaired autophagy flux under amino acid starvation.<h4>Conclusion</h4>These findings were similar to those of sialidosis patient-derived iPS cells, in which cleavage of terminal sialic acids in oligosaccharide chains is defective. This suggests that the control of both the addition and removal of sialic acids are pivotal for autophagy progression. \n",
      " {'GARD:0009493'} {'distal myopathy with rimmed vacuoles'} set() set() []\n",
      "\n",
      "Cardiovascular involvement in alpha-n-acetyl neuraminidase deficiency syndromes (sialidosis type I and II). Sialidosis, a rare autosomal recessive disorder, is caused by a deficiency of NEU1 encoded enzyme alpha-N-acetyl neuraminidase. We report a premature male with neonatal-onset type II sialidosis which was associated with left ventricular dysfunction. The clinical presentation and subsequent progression which culminated in his untimely death at 16 months of age are succinctly described. Early-onset cardiovascular involvement as noted in this patient is not well characterised. The case report is supplemented by a comprehensive review of the determinants, characteristics, and the clinical course of cardiovascular involvement in this rare condition. \n",
      " {'GARD:0007639', 'GARD:0007183'} {'neuraminidase deficiency', 'sialidosis type I'} set() set() []\n",
      "\n",
      "Is hematopoietic stem cell transplantation a therapeutic option for mucolipidosis type II? <h4>Background</h4>Mucolipidosis type II (MLII) is an ultra-rare lysosomal storage disorder caused by defective lysosomal enzyme trafficking. Clinical hallmarks are craniofacial dysmorphia, cardiorespiratory dysfunction, hepatosplenomegaly, skeletal deformities and neurocognitive retardation. Death usually occurs in the first decade of life and no cure exists. Hematopoietic stem cell transplantation (HSCT) has been performed in few MLII patients, but comprehensive follow-up data are extremely scarce.<h4>Methods</h4>MLII diagnosis was confirmed in a female three-month-old patient with the mutations c.2213C > A and c.2220_2221dup in the <i>GNPTAB</i> gene. At nine months of age, the patient received HSCT from a 9/10 human leukocyte antigen (HLA)-matched unrelated donor.<h4>Results</h4>HSCT resulted in a sustained reduction of lysosomal storage und bone metabolism markers. At six years of age, the patient showed normal cardiac function, partial respiratory insufficiency and moderate hepatomegaly, whereas skeletal manifestations had progressed. However, the patient could walk and maintained an overall good quality of life. Neurocognitive testing revealed a developmental quotient of 36%. The patient died at 6.6 years of age following a human metapneumovirus (hMPV) pneumonia.<h4>Conclusions</h4>The exact benefit remains unclear as current literature vastly lacks comparable data on MLII natural history patients. In order to evaluate experimental therapies, in-depth prospective studies and registries of untreated MLII patients are indispensable. \n",
      " set() set() set() {'occurs'} ['9 / 10', '36 %']\n",
      "\n",
      "Dilated cardiomyopathy in mucolipidosis type 2. Mucolipidosis II and III are lysosomal storage diseases caused by pathogenetic mutations in GNPTAB and GNPTG genes which cause an impaired activity of the lysosomal hydrolase N-acetylglucosamine- 1-phosphotransferase, a key enzyme in the synthesis of the mannose-6-phosphate targeting signals on lysosomal enzymes. Patients with MLII alpha/beta present coarse facial features, cessation of statural growth, important skeletal manifestations, impaired neuromotor development and cardiorespiratory involvement. All children appear to have cardiac involvement, but severe dilated cardiomyopathy is uncommon. In this report we describe the case of an 11-month-old girl who is affected by a MLII. Analysis of the GNPTAB gene identified at a heterozygous level the previously described gene variants c. 2693delA p(Lys898Serfs*13) and c. 2956C>T p(Arg986Cys). Her main clinical features were coarse face with gingival hypertrophy, dysostosis multiplex, recurrent respiratory infection and an early onset of dilated cardiomyopathy, an uncommon feature for MLII. To our knowledge, dilated cardiomyopathy has been previously described in literature in only two cases of MLII and in one patient affected by MLIII. \n",
      " {'GARD:0000221'} {'Dilated cardiomyopathy', 'dilated cardiomyopathy'} {'g'} set() []\n",
      "\n"
     ]
    },
    {
     "name": "stdout",
     "output_type": "stream",
     "text": [
      "Mucolipidoses Overview: Past, Present, and Future. Mucolipidosis II and III (ML II/III) are caused by a deficiency of uridine-diphosphate <i>N</i>-acetylglucosamine: lysosomal-enzyme-<i>N</i>-acetylglucosamine-1-phosphotransferase (GlcNAc-1-phosphotransferase, EC2.7.8.17), which tags lysosomal enzymes with a mannose 6-phosphate (M6P) marker for transport to the lysosome. The process is performed by a sequential two-step process: first, GlcNAc-1-phosphotransferase catalyzes the transfer of GlcNAc-1-phosphate to the selected mannose residues on lysosomal enzymes in the cis-Golgi network. The second step removes GlcNAc from lysosomal enzymes by <i>N</i>-acetylglucosamine-1-phosphodiester α-<i>N</i>-acetylglucosaminidase (uncovering enzyme) and exposes the mannose 6-phosphate (M6P) residues in the trans-Golgi network, in which the enzymes are targeted to the lysosomes by M6Preceptors. A deficiency of GlcNAc-1-phosphotransferase causes the hypersecretion of lysosomal enzymes out of cells, resulting in a shortage of multiple lysosomal enzymes within lysosomes. Due to a lack of GlcNAc-1-phosphotransferase, the accumulation of cholesterol, phospholipids, glycosaminoglycans (GAGs), and other undegraded substrates occurs in the lysosomes. Clinically, ML II and ML III exhibit quite similar manifestations to mucopolysaccharidoses (MPSs), including specific skeletal deformities known as dysostosis multiplex and gingival hyperplasia. The life expectancy is less than 10 years in the severe type, and there is no definitive treatment for this disease. In this review, we have described the updated diagnosis and therapy on ML II/III. \n",
      " set() set() set() {'occurs'} []\n",
      "\n",
      "Pathogenic STX3 variants affecting the retinal and intestinal transcripts cause an early-onset severe retinal dystrophy in microvillus inclusion disease subjects. Biallelic STX3 variants were previously reported in five individuals with the severe congenital enteropathy, microvillus inclusion disease (MVID). Here, we provide a significant extension of the phenotypic spectrum caused by STX3 variants. We report ten individuals of diverse geographic origin with biallelic STX3 loss-of-function variants, identified through exome sequencing, single-nucleotide polymorphism array-based homozygosity mapping, and international collaboration. The evaluated individuals all presented with MVID. Eight individuals also displayed early-onset severe retinal dystrophy, i.e., syndromic-intestinal and retinal-disease. These individuals harbored STX3 variants that affected both the retinal and intestinal STX3 transcripts, whereas STX3 variants affected only the intestinal transcript in individuals with solitary MVID. That STX3 is essential for retinal photoreceptor survival was confirmed by the creation of a rod photoreceptor-specific STX3 knockout mouse model which revealed a time-dependent reduction in the number of rod photoreceptors, thinning of the outer nuclear layer, and the eventual loss of both rod and cone photoreceptors. Together, our results provide a link between STX3 loss-of-function variants and a human retinal dystrophy. Depending on the genomic site of a human loss-of-function STX3 variant, it can cause MVID, the novel intestinal-retinal syndrome reported here or, hypothetically, an isolated retinal dystrophy. \n",
      " {'GARD:0007039', 'GARD:0010630'} {'congenital enteropathy', 'microvillus inclusion disease'} set() set() []\n",
      "\n",
      "Proteomics analysis of a human brain sample from a mucolipidosis type IV patient reveals pathophysiological pathways. <h4>Background</h4>Mucolipidosis type IV (MLIV), an ultra-rare neurodevelopmental and neurodegenerative disorder, is caused by mutations in the MCOLN1 gene, which encodes the late endosomal/lysosomal transient receptor potential channel TRPML1 (mucolipin 1). The precise pathophysiogical pathways that cause neurological disease in MLIV are poorly understood. Recently, the first post-mortem brain sample became available from a single MLIV patient, and in the current study we performed mass spectrometry (MS)-based proteomics on this tissue with a view to delineating pathological pathways, and to compare with previously-published data on MLIV, including studies using the Mcoln1<sup>-/-</sup> mouse.<h4>Results</h4>A number of pathways were altered in two brain regions from the MLIV patient, including those related to the lysosome, lipid metabolism, myelination, cellular trafficking and autophagy, mTOR and calmodulin, the complement system and interferon signaling. Of these, levels of some proteins not known previously to be associated with MLIV were altered, including APOD, PLIN4, ATG and proteins related to interferon signaling. Moreover, when proteins detected by proteomics in the human brain were compared with their orthologs detected in the Mcoln1<sup>-/-</sup> mouse by RNAseq, the results were remarkably similar. Finally, analysis of proteins in human and mouse CSF suggest that calbindin 1 and calbindin 2 might be useful as biomarkers to help chart the course of disease development.<h4>Conclusions</h4>Despite the sample size limitations, our findings are consistent with the relatively general changes in lysosomal function previously reported in MLIV, and shed light on new pathways of disease pathophysiology, which is required in order to understand the course of disease development and to determine the efficacy of therapies when they become available for this devastating disease. \n",
      " {'GARD:0000094'} {'mucolipidosis type IV', 'Mucolipidosis type IV'} set() set() []\n",
      "\n",
      "Perioperative management of patients with Mucolipidosis II and III: Lessons from a case series. Mucolipidosis (ML) II and III are complex lysosomal storage disorders characterized by progressive multisystem pathology which can pose challenges to the anesthetist and increase the risks associated with general anesthesia. We sought to review the management of patients with ML II and III undergoing anesthesia in our institution in order to better define recommendations for the preoperative assessment and optimization of these children. We further elected to analyze the conduct of anesthesia, intraoperative management, and perioperative complications that our patients had experienced in order to allow improved informed consent and anesthetic planning. We performed a retrospective examination of the medical notes of those patients who had undergone anesthesia in our institution to identify their clinical features, anesthetic technique, airway management, and perioperative complications. Five children underwent 11 episodes of anesthesia. Fiber-optic or videolaryngoscopy was utilized in six out of seven intubations, with four out of seven requiring a change from the method initially chosen to enable intubation. Four of the five patients had an abnormal echocardiogram. Three patients had radiological evaluation of their cervical spine, with two demonstrating abnormalities. One patient had changes suggesting instability at the atlantoaxial junction. Children and babies with ML II and III present multisystem challenges to the anesthetist. Multidisciplinary planning and assessment, followed by a discussion of risk, should proceed any elective surgery. These complex children should undergo elective anesthesia delivered by an experienced (pediatric) anesthetist in an appropriate tertiary center with on-site pediatric ENT and critical care support. \n",
      " set() set() set() set() []\n",
      "\n",
      "Clinical, radiological and computational studies on two novel GNPTG variants causing mucolipidosis III gamma phenotypes with varying severity. Mucolipidosis III gamma (ML III γ) is a slowly progressive disorder that affects multiple parts of the body such as the skeleton, joints, and connective tissue structures. It is caused by pathogenic variants in the GNPTG gene that provides instructions for producing the γ subunit of GlcNAc-1-phosphotransferase. In this study we aim to characterize clinical findings and biological insights on two novel GNPTG variants causing ML III γ phenotypes with varying severity. We report on two siblings with ML III γ bearing the previously undescribed c.477C > G (p.Y159*) nonsense variant in a homozygous state as well as a patient with ML III γ bearing the novel c.110 + 19_111-17del variant in a homozygous state. These variants were revealed by whole-exome sequencing and Sanger sequencing, respectively. Their parents, who are heterozygotes for the same mutation, are healthy. The clinical and radiographic presentation of ML III γ in our patients who had c.477C > G (p.Y159*) variant is consistent with a relatively severe form of the disease, which is further supported by a working three-dimensional model of the GlcNAc-1-phosphotransferase γ subunit. On the other hand, it is seen that our patient who carries the c.110 + 19_111-17del variant has a milder phenotype. Our findings help broaden the spectrum of GNPTG variants causing ML III γ and offer structural and mechanistic insights into loss of GlcNAc-1-phosphotransferase γ subunit function. \n",
      " set() set() set() set() []\n",
      "\n"
     ]
    },
    {
     "name": "stdout",
     "output_type": "stream",
     "text": [
      "Genome editing in mucopolysaccharidoses and mucolipidoses. Mucopolysaccharidoses (MPS) and mucolipidoses (ML) are disorders that alter lysosome function. While MPS are caused by mutation in enzymes that degrade glycosaminoglycans, the ML are disorders characterized by reduced function in the phosphotransferase enzyme. Multiple clinical features are associated with these diseases and the exact mechanisms that could explain such different clinical manifestations in patients are still unknown. Furthermore, there are no curative treatment for any of MPS and ML conditions so far. Gene editing holds promise as a tool for the creation of cell and animal models to help explain disease pathogenesis, as well as a platform for gene therapy. In this chapter, we discuss the main studies involving genome editing for MPS and the prospect applications for ML. \n",
      " set() set() set() set() []\n",
      "\n",
      "Genetic Enteropathies Linked to Epithelial Structural Abnormalities and Enteroendocrine Deficiency: A Systematic Review. <h4>Objectives</h4>Congenital diarrhea and enteropathies linked to epithelial structural abnormalities constitute 3 different rare diseases: the tufting enteropathies (TE; EPCAM and SPINT2 mutations), microvillous inclusion disease (MVID; MYO5B and STX3 mutations), and tricho-hepato-enteric syndrome (THE; TTC37 and SKIV2L mutations). Moreover, enteroendocrine deficiencies (ED; PCSK1 and NEUROG3 mutations) share common clinical characteristics with TE, THE, and MVID in that the treatment requires, in most cases, long-term parenteral nutrition. Although numerous cases have been reported in the literature, aggregated data on morbidity and mortality are missing owing to the rarity of the diseases.<h4>Methods</h4>We performed a systematic review of all published cases and retrieved 86 articles describing 323 patients (164 boys and 135 girls).<h4>Results</h4>The mortality rate was 20.28%, with a median age at death of 13.5 months (range 0-228 months); the mortality risk was 30.8/1000 person-year; in half of the cases, death was caused by infections. Parenteral nutrition was required in 95.4% of patients and weaning off from parenteral nutrition was achieved in 29.35% at a median age of 23 months (range 3.3-276 months). The patients with ED linked to PCSK1 were nearly all weaned at a median age of 14 months, but most of the patients became overweight. MVID patients with MYO5B mutations were most often born preterm. ED linked to NEUROG3 mutation and THE patients usually presented with intrauterine growth retardation.<h4>Conclusions</h4>This review presents data from 323 patients with congenital diarrhea linked to EPCAM TE, SPINT2 TE, TTC37 THE, SKIV2L THE, MYO5B MVID, STX3 MVID, NEUROG3 ED, and PCSK1 ED mutations. \n",
      " {'GARD:0005258'} {'tricho-hepato-enteric syndrome'} set() set() ['30. 8 / 1000 person']\n",
      "\n",
      "Inappropriate cathepsin K secretion promotes its enzymatic activation driving heart and valve malformation. Although congenital heart defects (CHDs) represent the most common birth defect, a comprehensive understanding of disease etiology remains unknown. This is further complicated since CHDs can occur in isolation or as a feature of another disorder. Analyzing disorders with associated CHDs provides a powerful platform to identify primary pathogenic mechanisms driving disease. Aberrant localization and expression of cathepsin proteases can perpetuate later-stage heart diseases, but their contribution toward CHDs is unclear. To investigate the contribution of cathepsins during cardiovascular development and congenital disease, we analyzed the pathogenesis of cardiac defects in zebrafish models of the lysosomal storage disorder mucolipidosis II (MLII). MLII is caused by mutations in the GlcNAc-1-phosphotransferase enzyme (Gnptab) that disrupt carbohydrate-dependent sorting of lysosomal enzymes. Without Gnptab, lysosomal hydrolases, including cathepsin proteases, are inappropriately secreted. Analyses of heart development in gnptab-deficient zebrafish show cathepsin K secretion increases its activity, disrupts TGF-β-related signaling, and alters myocardial and valvular formation. Importantly, cathepsin K inhibition restored normal heart and valve development in MLII embryos. Collectively, these data identify mislocalized cathepsin K as an initiator of cardiac disease in this lysosomal disorder and establish cathepsin inhibition as a viable therapeutic strategy. \n",
      " set() set() {'g'} set() []\n",
      "\n",
      "Modeling Sialidosis with Neural Precursor Cells Derived from Patient-Derived Induced Pluripotent Stem Cells. Sialidosis, caused by a genetic deficiency of the lysosomal sialidase gene (<i>NEU1</i>), is a systemic disease involving various tissues and organs, including the nervous system. Understanding the neurological dysfunction and pathology associated with sialidosis remains a challenge, partially due to the lack of a human model system. In this study, we have generated two types of induced pluripotent stem cells (iPSCs) with sialidosis-specific <i>NEU1<sup>G227R</sup></i> and <i>NEU1<sup>V275A/R347Q</sup></i> mutations (sialidosis-iPSCs), and further differentiated them into neural precursor cells (iNPCs). Characterization of <i>NEU1<sup>G227R</sup></i>- and <i>NEU1<sup>V275A/R347Q</sup></i>- mutated iNPCs derived from sialidosis-iPSCs (sialidosis-iNPCs) validated that sialidosis-iNPCs faithfully recapitulate key disease-specific phenotypes, including reduced NEU1 activity and impaired lysosomal and autophagic function. In particular, these cells showed defective differentiation into oligodendrocytes and astrocytes, while their neuronal differentiation was not notably affected. Importantly, we found that the phenotypic defects of sialidosis-iNPCs, such as impaired differentiation capacity, could be effectively rescued by the induction of autophagy with rapamycin. Our results demonstrate the first use of a sialidosis-iNPC model with <i>NEU1<sup>G227R</sup></i>- and <i>NEU1<sup>V275A/R347Q</sup></i>- mutation(s) to study the neurological defects of sialidosis, particularly those related to a defective autophagy-lysosome pathway, and may help accelerate the development of new drugs and therapeutics to combat sialidosis and other LSDs. \n",
      " set() set() set() set() []\n",
      "\n"
     ]
    }
   ],
   "source": [
    "for text in abstract_dict.values():\n",
    "    ab_ids, ab_dis, ab_locs, ab_epis, ab_stats = extract_abs.abstract_extraction(text, NER_pipeline, GARD_dict, max_length)\n",
    "    print(text, '\\n',ab_ids, ab_dis, ab_locs, ab_epis, ab_stats)\n",
    "    print('')"
   ]
  },
  {
   "cell_type": "code",
   "execution_count": 9,
   "metadata": {},
   "outputs": [],
   "source": [
    "sample = \"The live-birth prevalence of mucopolysaccharidoses in Estonia. Previous studies on the prevalence of mucopolysaccharidoses (MPS) in different populations have shown considerable variations. There are, however, few data with regard to the prevalence of MPSs in Fenno-Ugric populations or in north-eastern Europe, except for a report about Scandinavian countries. A retrospective epidemiological study of MPSs in Estonia was undertaken, and live-birth prevalence of MPS patients born between 1985 and 2006 was estimated. The live-birth prevalence for all MPS subtypes was found to be 4.05 per 100,000 live births, which is consistent with most other European studies. MPS II had the highest calculated incidence, with 2.16 per 100,000 live births (4.2 per 100,000 male live births), forming 53% of all diagnosed MPS cases, and was twice as high as in other studied European populations. The second most common subtype was MPS IIIA, with a live-birth prevalence of 1.62 in 100,000 live births. With 0.27 out of 100,000 live births, MPS VI had the third-highest live-birth prevalence. No cases of MPS I were diagnosed in Estonia, making the prevalence of MPS I in Estonia much lower than in other European populations. MPSs are the third most frequent inborn error of metabolism in Estonia after phenylketonuria and galactosemia.\""
   ]
  },
  {
   "cell_type": "code",
   "execution_count": 10,
   "metadata": {},
   "outputs": [
    {
     "name": "stdout",
     "output_type": "stream",
     "text": [
      "The live-birth prevalence of mucopolysaccharidoses in Estonia. Previous studies on the prevalence of mucopolysaccharidoses (MPS) in different populations have shown considerable variations. There are, however, few data with regard to the prevalence of MPSs in Fenno-Ugric populations or in north-eastern Europe, except for a report about Scandinavian countries. A retrospective epidemiological study of MPSs in Estonia was undertaken, and live-birth prevalence of MPS patients born between 1985 and 2006 was estimated. The live-birth prevalence for all MPS subtypes was found to be 4.05 per 100,000 live births, which is consistent with most other European studies. MPS II had the highest calculated incidence, with 2.16 per 100,000 live births (4.2 per 100,000 male live births), forming 53% of all diagnosed MPS cases, and was twice as high as in other studied European populations. The second most common subtype was MPS IIIA, with a live-birth prevalence of 1.62 in 100,000 live births. With 0.27 out of 100,000 live births, MPS VI had the third-highest live-birth prevalence. No cases of MPS I were diagnosed in Estonia, making the prevalence of MPS I in Estonia much lower than in other European populations. MPSs are the third most frequent inborn error of metabolism in Estonia after phenylketonuria and galactosemia. \n",
      " {'GARD:0007095', 'GARD:0007071', 'GARD:0010335', 'GARD:0002424', 'GARD:0006675', 'GARD:0007383'} {'MPS VI', 'MPS II', 'MPS IIIA', 'phenylketonuria', 'galactosemia', 'MPS I'} {'eastern', 'estonia', 'north', 'europe'} {'prevalence', 'incidence'} ['4. 05 per 100, 000 live births', '2. 16 per 100, 000 live births', '4. 2 per 100, 000 male live births', '0. 27 out of', 'births']\n"
     ]
    }
   ],
   "source": [
    "ab_ids, ab_dis, ab_locs, ab_epis, ab_stats = extract_abs.abstract_extraction(sample, NER_pipeline, GARD_dict, max_length)\n",
    "print(sample, '\\n',ab_ids, ab_dis, ab_locs, ab_epis, ab_stats)"
   ]
  }
 ],
 "metadata": {
  "kernelspec": {
   "display_name": "Python 3",
   "language": "python",
   "name": "python3"
  },
  "language_info": {
   "codemirror_mode": {
    "name": "ipython",
    "version": 3
   },
   "file_extension": ".py",
   "mimetype": "text/x-python",
   "name": "python",
   "nbconvert_exporter": "python",
   "pygments_lexer": "ipython3",
   "version": "3.8.3"
  }
 },
 "nbformat": 4,
 "nbformat_minor": 4
}
