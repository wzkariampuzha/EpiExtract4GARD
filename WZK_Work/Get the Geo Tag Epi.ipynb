{
 "cells": [
  {
   "cell_type": "code",
   "execution_count": 1,
   "metadata": {},
   "outputs": [],
   "source": [
    "import xml.etree.ElementTree as ET\n",
    "import re\n",
    "import requests\n",
    "import string\n",
    "import numpy as np\n",
    "import pandas as pd\n",
    "import csv"
   ]
  },
  {
   "cell_type": "code",
   "execution_count": 2,
   "metadata": {},
   "outputs": [],
   "source": [
    "tree = ET.parse('Orpha Epi Data.xml')\n",
    "root = tree.getroot()"
   ]
  },
  {
   "cell_type": "code",
   "execution_count": 3,
   "metadata": {},
   "outputs": [],
   "source": [
    "def getAbs(pmid):\n",
    "    url = 'https://www.ebi.ac.uk/europepmc/webservices/rest/search?query=EXT_ID:'+str(pmid)+'&resulttype=core'\n",
    "    r = requests.get(url)\n",
    "    root = ET.fromstring(r.content)\n",
    "    \n",
    "    results = [abstract.text for abstract in root.iter('abstractText')]\n",
    "    \n",
    "    if len(results) > 0:\n",
    "        return results[0]\n",
    "    else:\n",
    "        return ''"
   ]
  },
  {
   "cell_type": "code",
   "execution_count": 4,
   "metadata": {
    "scrolled": false
   },
   "outputs": [],
   "source": [
    "df = pd.DataFrame(columns=['OrphaCode',' Disease Name','GeoLoc','PMID','Abstract'])"
   ]
  },
  {
   "cell_type": "code",
   "execution_count": 5,
   "metadata": {
    "scrolled": true
   },
   "outputs": [],
   "source": [
    "i=0\n",
    "for disorder in root.iter('Disorder'):  \n",
    "    code = disorder.find('./OrphaCode').text\n",
    "    name = disorder.find('./Name').text\n",
    "    #Each disorder, w/code and name, has multiple prevalence branches\n",
    "    for prevalence in disorder.findall('./PrevalenceList/Prevalence'):\n",
    "        geoloc = prevalence.find('./PrevalenceGeographic/Name').text\n",
    "        source = prevalence.find('./Source').text\n",
    "        #each prevalence, w/geoloc and source, has multiple pmids w/abstracts\n",
    "        if 'PMID' in str(source):\n",
    "                pmids = re.findall('\\d{6,8}', source)\n",
    "                for articleid in pmids:\n",
    "                    pmid = articleid\n",
    "                    abstract = getAbs(articleid)\n",
    "                    #Note: there are duplicate PMIDs next to each other in the dataset\n",
    "                    df.loc[i] = [code]+[name]+[geoloc]+[pmid]+[abstract]\n",
    "                    i+=1\n",
    "        else:\n",
    "            #Activate this code to get everything, even ones w/o PMIDs\n",
    "            #pmid=''\n",
    "            #abstract=''\n",
    "            #df.loc[i] = [code]+[name]+[geoloc]+[pmid]+[abstract]\n",
    "            pass"
   ]
  },
  {
   "cell_type": "code",
   "execution_count": 6,
   "metadata": {
    "scrolled": false
   },
   "outputs": [
    {
     "data": {
      "text/html": [
       "<div>\n",
       "<style scoped>\n",
       "    .dataframe tbody tr th:only-of-type {\n",
       "        vertical-align: middle;\n",
       "    }\n",
       "\n",
       "    .dataframe tbody tr th {\n",
       "        vertical-align: top;\n",
       "    }\n",
       "\n",
       "    .dataframe thead th {\n",
       "        text-align: right;\n",
       "    }\n",
       "</style>\n",
       "<table border=\"1\" class=\"dataframe\">\n",
       "  <thead>\n",
       "    <tr style=\"text-align: right;\">\n",
       "      <th></th>\n",
       "      <th>OrphaCode</th>\n",
       "      <th>Disease Name</th>\n",
       "      <th>GeoLoc</th>\n",
       "      <th>PMID</th>\n",
       "      <th>Abstract</th>\n",
       "    </tr>\n",
       "  </thead>\n",
       "  <tbody>\n",
       "    <tr>\n",
       "      <th>0</th>\n",
       "      <td>166024</td>\n",
       "      <td>Multiple epiphyseal dysplasia, Al-Gazali type</td>\n",
       "      <td>Worldwide</td>\n",
       "      <td>11389160</td>\n",
       "      <td>&lt;h4&gt;Background&lt;/h4&gt;We have previously describe...</td>\n",
       "    </tr>\n",
       "    <tr>\n",
       "      <th>1</th>\n",
       "      <td>166024</td>\n",
       "      <td>Multiple epiphyseal dysplasia, Al-Gazali type</td>\n",
       "      <td>Worldwide</td>\n",
       "      <td>9689990</td>\n",
       "      <td>We report an inbred Omani family with four chi...</td>\n",
       "    </tr>\n",
       "    <tr>\n",
       "      <th>2</th>\n",
       "      <td>166024</td>\n",
       "      <td>Multiple epiphyseal dysplasia, Al-Gazali type</td>\n",
       "      <td>Worldwide</td>\n",
       "      <td>11389160</td>\n",
       "      <td>&lt;h4&gt;Background&lt;/h4&gt;We have previously describe...</td>\n",
       "    </tr>\n",
       "    <tr>\n",
       "      <th>3</th>\n",
       "      <td>166024</td>\n",
       "      <td>Multiple epiphyseal dysplasia, Al-Gazali type</td>\n",
       "      <td>Worldwide</td>\n",
       "      <td>9689990</td>\n",
       "      <td>We report an inbred Omani family with four chi...</td>\n",
       "    </tr>\n",
       "    <tr>\n",
       "      <th>4</th>\n",
       "      <td>58</td>\n",
       "      <td>Alexander disease</td>\n",
       "      <td>Japan</td>\n",
       "      <td>21533827</td>\n",
       "      <td>Alexander disease (AxD) is a rare neurodegener...</td>\n",
       "    </tr>\n",
       "  </tbody>\n",
       "</table>\n",
       "</div>"
      ],
      "text/plain": [
       "  OrphaCode                                   Disease Name     GeoLoc  \\\n",
       "0    166024  Multiple epiphyseal dysplasia, Al-Gazali type  Worldwide   \n",
       "1    166024  Multiple epiphyseal dysplasia, Al-Gazali type  Worldwide   \n",
       "2    166024  Multiple epiphyseal dysplasia, Al-Gazali type  Worldwide   \n",
       "3    166024  Multiple epiphyseal dysplasia, Al-Gazali type  Worldwide   \n",
       "4        58                              Alexander disease      Japan   \n",
       "\n",
       "       PMID                                           Abstract  \n",
       "0  11389160  <h4>Background</h4>We have previously describe...  \n",
       "1   9689990  We report an inbred Omani family with four chi...  \n",
       "2  11389160  <h4>Background</h4>We have previously describe...  \n",
       "3   9689990  We report an inbred Omani family with four chi...  \n",
       "4  21533827  Alexander disease (AxD) is a rare neurodegener...  "
      ]
     },
     "execution_count": 6,
     "metadata": {},
     "output_type": "execute_result"
    }
   ],
   "source": [
    "df.head()"
   ]
  },
  {
   "cell_type": "code",
   "execution_count": 7,
   "metadata": {
    "scrolled": false
   },
   "outputs": [
    {
     "data": {
      "text/html": [
       "<div>\n",
       "<style scoped>\n",
       "    .dataframe tbody tr th:only-of-type {\n",
       "        vertical-align: middle;\n",
       "    }\n",
       "\n",
       "    .dataframe tbody tr th {\n",
       "        vertical-align: top;\n",
       "    }\n",
       "\n",
       "    .dataframe thead th {\n",
       "        text-align: right;\n",
       "    }\n",
       "</style>\n",
       "<table border=\"1\" class=\"dataframe\">\n",
       "  <thead>\n",
       "    <tr style=\"text-align: right;\">\n",
       "      <th></th>\n",
       "      <th>OrphaCode</th>\n",
       "      <th>Disease Name</th>\n",
       "      <th>GeoLoc</th>\n",
       "      <th>PMID</th>\n",
       "      <th>Abstract</th>\n",
       "    </tr>\n",
       "  </thead>\n",
       "  <tbody>\n",
       "    <tr>\n",
       "      <th>10818</th>\n",
       "      <td>99791</td>\n",
       "      <td>Dentin dysplasia type II</td>\n",
       "      <td>Worldwide</td>\n",
       "      <td>10397672</td>\n",
       "      <td>Dentin dysplasia, type II, is an inherited aut...</td>\n",
       "    </tr>\n",
       "    <tr>\n",
       "      <th>10819</th>\n",
       "      <td>99792</td>\n",
       "      <td>Dentin dysplasia-sclerotic bones syndrome</td>\n",
       "      <td>Worldwide</td>\n",
       "      <td>264650</td>\n",
       "      <td>Patients with teeth showing all of the clinica...</td>\n",
       "    </tr>\n",
       "    <tr>\n",
       "      <th>10820</th>\n",
       "      <td>99792</td>\n",
       "      <td>Dentin dysplasia-sclerotic bones syndrome</td>\n",
       "      <td>Worldwide</td>\n",
       "      <td>264650</td>\n",
       "      <td>Patients with teeth showing all of the clinica...</td>\n",
       "    </tr>\n",
       "    <tr>\n",
       "      <th>10821</th>\n",
       "      <td>99776</td>\n",
       "      <td>Mosaic trisomy 9</td>\n",
       "      <td>Worldwide</td>\n",
       "      <td>22249800</td>\n",
       "      <td>CONTEXT:Mosaic trisomy 9 is considered to be a...</td>\n",
       "    </tr>\n",
       "    <tr>\n",
       "      <th>10822</th>\n",
       "      <td>99776</td>\n",
       "      <td>Mosaic trisomy 9</td>\n",
       "      <td>Worldwide</td>\n",
       "      <td>22249800</td>\n",
       "      <td>CONTEXT:Mosaic trisomy 9 is considered to be a...</td>\n",
       "    </tr>\n",
       "  </tbody>\n",
       "</table>\n",
       "</div>"
      ],
      "text/plain": [
       "      OrphaCode                               Disease Name     GeoLoc  \\\n",
       "10818     99791                   Dentin dysplasia type II  Worldwide   \n",
       "10819     99792  Dentin dysplasia-sclerotic bones syndrome  Worldwide   \n",
       "10820     99792  Dentin dysplasia-sclerotic bones syndrome  Worldwide   \n",
       "10821     99776                           Mosaic trisomy 9  Worldwide   \n",
       "10822     99776                           Mosaic trisomy 9  Worldwide   \n",
       "\n",
       "           PMID                                           Abstract  \n",
       "10818  10397672  Dentin dysplasia, type II, is an inherited aut...  \n",
       "10819    264650  Patients with teeth showing all of the clinica...  \n",
       "10820    264650  Patients with teeth showing all of the clinica...  \n",
       "10821  22249800  CONTEXT:Mosaic trisomy 9 is considered to be a...  \n",
       "10822  22249800  CONTEXT:Mosaic trisomy 9 is considered to be a...  "
      ]
     },
     "execution_count": 7,
     "metadata": {},
     "output_type": "execute_result"
    }
   ],
   "source": [
    "df.tail()"
   ]
  },
  {
   "cell_type": "code",
   "execution_count": 8,
   "metadata": {},
   "outputs": [],
   "source": [
    "df.to_csv('orphanet_epi_data2.csv', header = True,index=False, encoding='utf-8')"
   ]
  }
 ],
 "metadata": {
  "kernelspec": {
   "display_name": "Python 3",
   "language": "python",
   "name": "python3"
  },
  "language_info": {
   "codemirror_mode": {
    "name": "ipython",
    "version": 3
   },
   "file_extension": ".py",
   "mimetype": "text/x-python",
   "name": "python",
   "nbconvert_exporter": "python",
   "pygments_lexer": "ipython3",
   "version": "3.8.3"
  }
 },
 "nbformat": 4,
 "nbformat_minor": 4
}
