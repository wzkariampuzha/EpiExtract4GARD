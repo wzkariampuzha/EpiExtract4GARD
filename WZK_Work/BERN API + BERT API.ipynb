{
 "cells": [
  {
   "cell_type": "markdown",
   "id": "7d311f11",
   "metadata": {},
   "source": [
    "The whole premise of this is to put together the BERN NER and regular location NER and see how it works using only API"
   ]
  },
  {
   "cell_type": "code",
   "execution_count": 16,
   "id": "33ef64f2",
   "metadata": {},
   "outputs": [],
   "source": [
    "import requests\n",
    "import numpy as np\n",
    "import pandas as pd"
   ]
  },
  {
   "cell_type": "code",
   "execution_count": 17,
   "id": "a6abc217",
   "metadata": {},
   "outputs": [
    {
     "data": {
      "text/html": [
       "<div>\n",
       "<style scoped>\n",
       "    .dataframe tbody tr th:only-of-type {\n",
       "        vertical-align: middle;\n",
       "    }\n",
       "\n",
       "    .dataframe tbody tr th {\n",
       "        vertical-align: top;\n",
       "    }\n",
       "\n",
       "    .dataframe thead th {\n",
       "        text-align: right;\n",
       "    }\n",
       "</style>\n",
       "<table border=\"1\" class=\"dataframe\">\n",
       "  <thead>\n",
       "    <tr style=\"text-align: right;\">\n",
       "      <th></th>\n",
       "      <th>disease</th>\n",
       "      <th>pmid</th>\n",
       "      <th>abstract</th>\n",
       "      <th>epi_prob</th>\n",
       "      <th>is_epi</th>\n",
       "    </tr>\n",
       "  </thead>\n",
       "  <tbody>\n",
       "    <tr>\n",
       "      <th>0</th>\n",
       "      <td>Deafness, autosomal dominant nonsyndromic sens...</td>\n",
       "      <td>33962637</td>\n",
       "      <td>&lt;h4&gt;Background&lt;/h4&gt;The incidence of hydrocepha...</td>\n",
       "      <td>0.998725</td>\n",
       "      <td>True</td>\n",
       "    </tr>\n",
       "    <tr>\n",
       "      <th>1</th>\n",
       "      <td>Anencephaly and spina bifida X-linked</td>\n",
       "      <td>33962637</td>\n",
       "      <td>&lt;h4&gt;Background&lt;/h4&gt;The incidence of hydrocepha...</td>\n",
       "      <td>0.998725</td>\n",
       "      <td>True</td>\n",
       "    </tr>\n",
       "    <tr>\n",
       "      <th>2</th>\n",
       "      <td>Methylmalonic aciduria, cblB type</td>\n",
       "      <td>33990817</td>\n",
       "      <td>&lt;h4&gt;Introduction&lt;/h4&gt;Limited data are availabl...</td>\n",
       "      <td>0.998415</td>\n",
       "      <td>True</td>\n",
       "    </tr>\n",
       "    <tr>\n",
       "      <th>3</th>\n",
       "      <td>Doyne honeycomb retinal dystrophy</td>\n",
       "      <td>33712046</td>\n",
       "      <td>Juvenile Idiopathic Arthritis is one of the mo...</td>\n",
       "      <td>0.998407</td>\n",
       "      <td>True</td>\n",
       "    </tr>\n",
       "    <tr>\n",
       "      <th>4</th>\n",
       "      <td>Malonyl-CoA decarboxylase deficiency</td>\n",
       "      <td>33185984</td>\n",
       "      <td>&lt;h4&gt;Aim&lt;/h4&gt;To investigate the point prevalenc...</td>\n",
       "      <td>0.998325</td>\n",
       "      <td>True</td>\n",
       "    </tr>\n",
       "    <tr>\n",
       "      <th>5</th>\n",
       "      <td>Pulmonary artery coming from the aorta</td>\n",
       "      <td>19469621</td>\n",
       "      <td>&lt;h4&gt;Background&lt;/h4&gt;Many epidemiological studie...</td>\n",
       "      <td>0.998310</td>\n",
       "      <td>True</td>\n",
       "    </tr>\n",
       "    <tr>\n",
       "      <th>6</th>\n",
       "      <td>Familial hypersecretion of adrenal androgens</td>\n",
       "      <td>32265379</td>\n",
       "      <td>Neonatal herpes simplex virus infection (HSV) ...</td>\n",
       "      <td>0.998232</td>\n",
       "      <td>True</td>\n",
       "    </tr>\n",
       "    <tr>\n",
       "      <th>7</th>\n",
       "      <td>Glutaric acidemia type I</td>\n",
       "      <td>33319155</td>\n",
       "      <td>Neuroendocrine tumors (NETs) are rare neoplasm...</td>\n",
       "      <td>0.998206</td>\n",
       "      <td>True</td>\n",
       "    </tr>\n",
       "    <tr>\n",
       "      <th>8</th>\n",
       "      <td>Q fever</td>\n",
       "      <td>34079380</td>\n",
       "      <td>&lt;h4&gt;Background&lt;/h4&gt;Most epidemiological data o...</td>\n",
       "      <td>0.998180</td>\n",
       "      <td>True</td>\n",
       "    </tr>\n",
       "    <tr>\n",
       "      <th>9</th>\n",
       "      <td>Kallmann syndrome 2</td>\n",
       "      <td>34155029</td>\n",
       "      <td>Scurvy is a disease caused by chronic vitamin ...</td>\n",
       "      <td>0.998178</td>\n",
       "      <td>True</td>\n",
       "    </tr>\n",
       "  </tbody>\n",
       "</table>\n",
       "</div>"
      ],
      "text/plain": [
       "                                             disease      pmid  \\\n",
       "0  Deafness, autosomal dominant nonsyndromic sens...  33962637   \n",
       "1              Anencephaly and spina bifida X-linked  33962637   \n",
       "2                  Methylmalonic aciduria, cblB type  33990817   \n",
       "3                  Doyne honeycomb retinal dystrophy  33712046   \n",
       "4               Malonyl-CoA decarboxylase deficiency  33185984   \n",
       "5             Pulmonary artery coming from the aorta  19469621   \n",
       "6       Familial hypersecretion of adrenal androgens  32265379   \n",
       "7                           Glutaric acidemia type I  33319155   \n",
       "8                                            Q fever  34079380   \n",
       "9                                Kallmann syndrome 2  34155029   \n",
       "\n",
       "                                            abstract  epi_prob  is_epi  \n",
       "0  <h4>Background</h4>The incidence of hydrocepha...  0.998725    True  \n",
       "1  <h4>Background</h4>The incidence of hydrocepha...  0.998725    True  \n",
       "2  <h4>Introduction</h4>Limited data are availabl...  0.998415    True  \n",
       "3  Juvenile Idiopathic Arthritis is one of the mo...  0.998407    True  \n",
       "4  <h4>Aim</h4>To investigate the point prevalenc...  0.998325    True  \n",
       "5  <h4>Background</h4>Many epidemiological studie...  0.998310    True  \n",
       "6  Neonatal herpes simplex virus infection (HSV) ...  0.998232    True  \n",
       "7  Neuroendocrine tumors (NETs) are rare neoplasm...  0.998206    True  \n",
       "8  <h4>Background</h4>Most epidemiological data o...  0.998180    True  \n",
       "9  Scurvy is a disease caused by chronic vitamin ...  0.998178    True  "
      ]
     },
     "execution_count": 17,
     "metadata": {},
     "output_type": "execute_result"
    }
   ],
   "source": [
    "df = pd.read_csv('positive_abstract_set.csv')\n",
    "df = df[0:10]\n",
    "df"
   ]
  },
  {
   "cell_type": "code",
   "execution_count": 26,
   "id": "ef01b72f",
   "metadata": {
    "scrolled": true
   },
   "outputs": [],
   "source": [
    "type(df['abstract'])\n",
    "abstracts = list(df['abstract'])"
   ]
  },
  {
   "cell_type": "code",
   "execution_count": 27,
   "id": "698bf912",
   "metadata": {},
   "outputs": [
    {
     "name": "stdout",
     "output_type": "stream",
     "text": [
      "[\"<h4>Background</h4>The incidence of hydrocephalus in the spinal muscular atrophy (SMA) population relative to the general population is currently unknown. Since the approval of nusinersen, an intrathecally administered drug for SMA, a small number of hydrocephalus cases among nusinersen users have been reported. Currently, the incidence of hydrocephalus in untreated SMA patients is not available, thereby making it difficult to determine if hydrocephalus is a side effect of nusinersen or part of SMA's natural history. This retrospective, matched cohort study used electronic health records (EHRs) to estimate and compare the incidence of hydrocephalus in both SMA patients and matched non-SMA controls in the time period prior to the approval of nusinersen.<h4>Methods</h4>The U.S. Optum® de-identified EHR database contains records for approximately 100 million persons. The current study period spanned January 1, 2007-December 22, 2016. Patients with SMA were identified by one or more International Classification of Diseases (ICD)-9 and/or ICD-10 codes for SMA appearing as primary, admission, or discharge diagnoses, without a pregnancy diagnostic code in the 1-year time before and after the first occurrence of SMA. The first occurrence of SMA defined the index date and non-SMA controls were matched to cases. Incident cases of hydrocephalus were identified with one or more ICD-9 and/or ICD-10 code for any type of hydrocephalus following the index date. Hydrocephalus incidence rates per person-months and the incidence rate ratio comparing SMA cases with non-SMA controls were calculated.<h4>Results</h4>There were 5354 SMA cases and an equal number of\\xa0matched non-SMA controls. Incident hydrocephalus events were identified in 42 SMA cases and 9 non-SMA controls. Hydrocephalus incidence rates per 100,000 person-months were 15.5 (95% CI: 11.2-20.9) among SMA cases and 3.3 (95% CI: 1.5-6.3) among non-SMA controls. The incidence rate ratio was 4.7 (95% CI: 2.4-10.2).<h4>Conclusions</h4>Based on this retrospective analysis utilizing US EHR data, SMA patients had an approximately fourfold increased risk of hydrocephalus compared with non-SMA controls in the era preceding nusinersen treatment. This study may assist in properly evaluating adverse events in nusinersen-treated SMA patients.\", \"<h4>Background</h4>The incidence of hydrocephalus in the spinal muscular atrophy (SMA) population relative to the general population is currently unknown. Since the approval of nusinersen, an intrathecally administered drug for SMA, a small number of hydrocephalus cases among nusinersen users have been reported. Currently, the incidence of hydrocephalus in untreated SMA patients is not available, thereby making it difficult to determine if hydrocephalus is a side effect of nusinersen or part of SMA's natural history. This retrospective, matched cohort study used electronic health records (EHRs) to estimate and compare the incidence of hydrocephalus in both SMA patients and matched non-SMA controls in the time period prior to the approval of nusinersen.<h4>Methods</h4>The U.S. Optum® de-identified EHR database contains records for approximately 100 million persons. The current study period spanned January 1, 2007-December 22, 2016. Patients with SMA were identified by one or more International Classification of Diseases (ICD)-9 and/or ICD-10 codes for SMA appearing as primary, admission, or discharge diagnoses, without a pregnancy diagnostic code in the 1-year time before and after the first occurrence of SMA. The first occurrence of SMA defined the index date and non-SMA controls were matched to cases. Incident cases of hydrocephalus were identified with one or more ICD-9 and/or ICD-10 code for any type of hydrocephalus following the index date. Hydrocephalus incidence rates per person-months and the incidence rate ratio comparing SMA cases with non-SMA controls were calculated.<h4>Results</h4>There were 5354 SMA cases and an equal number of\\xa0matched non-SMA controls. Incident hydrocephalus events were identified in 42 SMA cases and 9 non-SMA controls. Hydrocephalus incidence rates per 100,000 person-months were 15.5 (95% CI: 11.2-20.9) among SMA cases and 3.3 (95% CI: 1.5-6.3) among non-SMA controls. The incidence rate ratio was 4.7 (95% CI: 2.4-10.2).<h4>Conclusions</h4>Based on this retrospective analysis utilizing US EHR data, SMA patients had an approximately fourfold increased risk of hydrocephalus compared with non-SMA controls in the era preceding nusinersen treatment. This study may assist in properly evaluating adverse events in nusinersen-treated SMA patients.\", '<h4>Introduction</h4>Limited data are available on the incidence of primary ophthalmic cancers worldwide. We describe the incidence and trends of primary ophthalmic cancers in Singapore.<h4>Methods</h4>Data on ophthalmic cancers diagnosed in Singapore from 1996 to 2016 were retrieved from the Singapore Cancer Registry for analysis. All were histologically proven primary ophthalmic cancers. Calculations of incidence and age-specific frequency of ophthalmic malignancy were made.<h4>Results</h4>A total of 297 cases were included, with males constituting 59.9%. The race distribution was 78.5% Chinese, 16.5% Malay, 3.7% Indians and 1.3% others. There was an overall increase in ophthalmic malignancies. The mean age of onset was 47.4 years. The most common cancers were retinoblastoma (93.3%) in patients younger than 15 years, and lymphoma (71.3%) in patients aged 15 years and older. There has been an increase in lymphomas from 16.7% in 1968-1995 to 71.3% in 1996-2016 in those aged 15 years and older. The most common types of ophthalmic cancer according to location are lymphoma of the orbit, conjunctiva, cornea and lacrimal gland; retinoblastoma of the retina; and malignant melanoma of the choroid and ciliary body.<h4>Conclusion</h4>Our study reported the incidence and trends of ophthalmic cancer in the Singapore population and showed an overall increase in ophthalmic malignancies in Singapore from 1996-2016. A substantial increase in lymphomas over the last 2 decades was noted. The data could aid clinicians, epidemiologists and policymakers in implementing strategies to address trends in ophthalmic cancers and spur aetiological research to improve quality of life in patients with such cancers.', \"Juvenile Idiopathic Arthritis is one of the most prevalent chronic diseases in children, with an annual incidence of 2-20 cases per 100,000 and a prevalence of 16-150 per 100,000. It is associated with several complications that can cause short-term or long-term disability and reduce the quality of life. Among these, growth and pubertal disorders play an important role. Chronic inflammatory conditions are often associated with growth failure ranging from slight decrease in height velocity to severe forms of short stature. The prevalence of short stature in JIA varies from 10.4% in children with polyarticular disease to 41% of patients with the systemic form, while oligoarthritis is mostly associated with localized excessive bone growth of the affected limb, leading to limb dissymmetry. The pathogenesis of growth disorders is multifactorial and includes the role of chronic inflammation, long-term use of corticosteroids, undernutrition, altered body composition, delay of pubertal onset or slow pubertal progression. These factors can exert a systemic effect on the GH/IGF-1 axis and on the GnRH-gonadotropin-gonadic axis, or a local influence on the growth plate homeostasis and function. Although new therapeutic options are available to control inflammation, there are still 10-20% of patients with severe forms of the disease who show continuous growth impairment, ending in a short final stature. Moreover, delayed puberty is associated with a reduction in the peak bone mass with the possibility of concomitant or future bone fragility. Monitoring of puberty and bone health is essential for a complete health assessment of adolescents with JIA. In these patients, an assessment of the pubertal stage every 6\\u2009months from the age of 9\\u2009years is recommended. Also, linear growth should be always evaluated considering the patient's bone age. The impact of rhGH therapy in children with JIA is still unclear, but it has been shown that if rhGH is added at high dose in a low-inflammatory condition, post steroids and on biologic therapy, it is able to favor a prepubertal growth acceleration, comparable with the catch-up growth response in GH-deficient patients. Here we provide a comprehensive review of the pathogenesis of puberty and growth disorders in children with JIA, which can help the pediatrician to properly and timely assess the presence of growth and pubertal disorders in JIA patients.\", '<h4>Aim</h4>To investigate the point prevalence of hereditary neuromuscular disorders on January 1, 2020 in Northern Norway.<h4>Methods</h4>From January 1, 1999, until January 1, 2020, we screened medical and genetic hospital records in Northern Norway for hereditary neuromuscular disorders.<h4>Results</h4>We identified 542 patients with a hereditary neuromuscular disorder living in Northern Norway, giving a point prevalence of 111.9/100,000 on January 1, 2020. The prevalence of children (<18\\xa0years old) and adults (≥18\\xa0years old) were 57.8/100,000 and 125.1/100,000, respectively. Inherited neuropathies had a prevalence of 38.8/100,000. Charcot-Marie-Tooth and hereditary neuropathy with liability to pressure palsies had a prevalence of 29.9/100,000 and 8.3/100,000, respectively. We calculated a prevalence of 3.7/100,000 for spinal muscular atrophies and 2.4/100,000 for Kennedy disease. Inherited myopathies were found in 67.7/100,000. Among these, we registered 13.4/100,000 myotonic dystrophy type 1, 6.8/100,000 myotonic dystrophy type 2, 7.3/100,000 Duchenne muscular dystrophy, 1.6/100,000 Becker muscular dystrophy, 3.7/100,000 facioscapulohumeral muscular dystrophy, 12.8/100,000 limb-girdle muscular dystrophy, 2.5/100,000 hypokalemic periodic paralysis and 11.4/100,000 myotonia congenita.<h4>Conclusion</h4>Our total prevalence was higher than previously hypothesized in European population-based studies. The prevalence was especially high for myotonia congenita and limb-girdle muscular dystrophy. The prevalence of Charcot-Marie-Tooth polyneuropathy was higher than in most European studies, but lower than previously reported in epidemiological studies in other regions of Norway.', '<h4>Background</h4>Many epidemiological studies have indicated that inbreeding has little or no effect on the incidence of cancer. Due to the high prevalence of consanguinity in Qatar (54%), its influence may nevertheless be of special importance.<h4>Aim</h4>The aim of this study was to examine whether parental consanguinity affects the risk of cancer in a local Arab highly inbred population.<h4>Design</h4>Matched case-control study.<h4>Setting</h4>The study was carried out in Al-Amal cancer hospital and primary health care centers in Qatar over a period from August 2008 to February 2009.<h4>Subjects and methods</h4>The study included 370 Qataris and other Arab expatriates with various types of cancers and 635 controls matched by age and ethnicity. A questionnaire that included socio-demographic information, type of consanguinity, medical history, and tumor grade was designed to collect the information of cases and controls.<h4>Results</h4>The study revealed that the rate of parental consanguinity was similar in both cases (29.5%) and controls (29.9%) with a higher inbreeding coefficient in controls (0.017-/+0.03), compared to cancer patients (0.0155-/+0.03). Other Arab expatriates had a higher incidence of cancer (61.1%) than Qataris (38.9%). The inbreeding coefficient was higher in male cancer patients (0.0189-/+0.03), but lower in female cancer patients (0.014-/+0.03) as compared to controls. Controls were more inbred in the overall studied subjects (23.6%) and women (23.8%) than cases. The coefficient of inbreeding was lower in patients with breast (0.014), skin (0.012), thyroid (0.008) and female genital (0.014) cancers, whereas it was higher in cases for leukemia and lymphoma (0.018), colorectal (0.025) and prostate (0.017), with no significant difference between cases and controls. No significant differences were observed between cases and controls in the parental consanguinity, mean coefficient of inbreeding and proportion of more inbred subjects.<h4>Conclusions</h4>The study findings revealed that although the consanguinity rate is high in our Arab population, it has no effect on the incidence of cancers overall. However, there was an increased risk found for leukemia and lymphoma, colorectal and prostate cancer groups, but a reduced risk in breast, skin, thyroid and female genital cancer groups.', 'Neonatal herpes simplex virus infection (HSV) is rare in neonates, with an estimated global incidence of 10 per 100,000 live births. Neonatal HSV is challenging to diagnose due to often vague signs and symptoms. Untreated, the mortality of some HSV subtypes exceeds 80%. Overtesting and overtreatment can result in prolonged hospitalizations and expose neonates to medication toxicity. In contrast, prompt evaluation and use of empiric antiviral therapy before the results of definitive testing can improve outcomes for infants with HSV. A wide degree of practice variation exists with respect to testing and treatment for neonatal HSV, and more research is required to safely risk-stratify this population. This review presents the epidemiology, risk factors, presenting features, and emergency department management of neonatal HSV infection.', \"Neuroendocrine tumors (NETs) are rare neoplasms, with an estimated annual incidence of 6.9/100\\xa0000. They arise from cells of the diffuse endocrine system, which are mainly dispersed throughout the gastrointestinal (GI), pancreatic, and respiratory tracts. The incidence of GI-NETs has recently begun to show a steady increase. According to the Surveillance, Epidemiology, and End Results database, 53% of patients with NETs present with localized disease, 20% with locoregional disease, and 27% with distant metastases at the time of diagnosis. Surgery is the mainstay for the treatment of locoregional GI-NETs. Endoscopic resection is an option for well-differentiated early GI-NETs, which are thought to very rarely metastasize to lymph nodes. A lesion that is technically difficult to resect via endoscopy is an indication for local resection (partial resection without lymph node dissection). GI-NETs with possible lymph node metastasis is an indication for enterectomy with lymph node dissection. For NETs with metastatic lesions, cytoreduction surgery can control hormonal hypersecretion and alleviate symptoms; therefore, cytoreduction surgery is recommended. The indications for surgery vary and are based on the organ where the NET arose; therefore, an understanding of the patient's clinical state and individualized treatment that is based on the characteristics of the patient's GI-NET is needed. This review summarizes surgical treatments of GI-NETs in each organ.\", '<h4>Background</h4>Most epidemiological data on vitiligo refer to selected environments or focus on the prevalence of comorbidity unrelated to the population.<h4>Objective</h4>Aim of the study was to gain robust representative prevalence data on vitiligo and on associated dermatologic comorbidity in the German adult population.<h4>Methods</h4>A dual population-based approach was applied with 1) primary data obtained between 2004 and 2014 from dermatological exams in the general working population; 2) claims data from a large German statutory health insurance, reference year 2010.<h4>Results</h4>In the working cohort (N = 121,783; 57% male; mean age 43 years), the prevalence of vitiligo was 0.77% (0.84% in men; 0.67% in women). In the claims data (N = 1,619,678; 38% male; mean age 46 years), prevalence was 0.17% (0.14% in men; 0.18% in women). In the working cohort, vitiligo was significantly more common in people with fair skin type, ephelides and port-wine stains and less common in people with acne and solar lentigines. In the claims data, vitiligo was associated with a variety of skin conditions, eg, atopic dermatitis, psoriasis and alopecia areata.<h4>Conclusion</h4>The resulting discrepancy of claims vs primary data between 0.17% and 0.77% indicates the most probable spectrum of vitiligo prevalence in Germany. It is more frequently observed in clinical exams than recorded in claims data, indicating a marked proportion of people seeking no medical help. Such nonattendance may result from the fact that many treatment options do not provide satisfying benefits to the patients.', \"Scurvy is a disease caused by chronic vitamin C deficiency. The greater prevalence was found in the paediatric population with neurodevelopmental disorders such as autism spectrum disorders due to their restricted dietary intake. Our case reported a child with autism who presented with arthralgia and anaemia. Systemic lupus erythematosus was the first diagnostic impression, resulting in over investigation and delayed diagnosis of vitamin C deficiency. After the child was treated with ascorbic acid, the child's symptoms resolved. This case highlighted the importance of developmental and nutritional history taking in the paediatric population. Furthermore, parents and physicians should be concerned about nutritional status, especially in children with restrictive dietary intake.\"]\n"
     ]
    }
   ],
   "source": [
    "print(abstracts)"
   ]
  },
  {
   "cell_type": "code",
   "execution_count": 28,
   "id": "7ab82245",
   "metadata": {},
   "outputs": [],
   "source": [
    "def query_raw(text, url=\"https://bern.korea.ac.kr/plain\"):\n",
    "    return requests.post(url, data={'sample_text': text}).json()"
   ]
  },
  {
   "cell_type": "code",
   "execution_count": 22,
   "id": "72ee4fe4",
   "metadata": {},
   "outputs": [
    {
     "data": {
      "text/plain": [
       "dict"
      ]
     },
     "execution_count": 22,
     "metadata": {},
     "output_type": "execute_result"
    }
   ],
   "source": [
    "x = query_raw(\"Lysosomal storage diseases (LSDs) are a group of inherited metabolic disorders individually considered as rare, and few data on its prevalence has been reported in the literature. The overall birth prevalence of the 29 different LSDs studied in the Portuguese population was calculated to be 25/100000 live births, twice the prevalence previously described in Australia and in The Netherlands. The comparison of the prevalence profile of the LSDs presenting a prevalence higher than 0.5/100000 in the Portuguese, Dutch and Australian populations showed, in the Portuguese, the existence of a higher prevalence of GM2 gangliosidoses (B variant), mucolipidoses (II and III), Niemman-Pick type C and metachromatic leukodystrophy (MLD), and a lower prevalence of Pompe and Fabry. The highest prevalence value for a single LSD is the one of GM2 gangliosidoses (B variant), corresponding to 3/100000, a value which is significantly higher than the prevalence of the most frequent LSD in Dutch, Pompe disease (2/100000) and Australians, Gaucher's disease (GD) (1.8/100000). It is worth noting that the highest prevalence of GM2 gangliosidoses found in the Portuguese is mainly due to the existence of a unique subtype, the rare juvenile B1 variant.\")"
   ]
  },
  {
   "cell_type": "code",
   "execution_count": 30,
   "id": "a887c58c",
   "metadata": {
    "scrolled": true
   },
   "outputs": [
    {
     "name": "stdout",
     "output_type": "stream",
     "text": [
      "{'project': 'BERN', 'sourcedb': '', 'sourceid': '988ea85a8427d1af5827ba42a26e8a1669a0081749d45224a78a9f5f-Thread-12075962', 'text': \"<h4>Background</h4>The incidence of hydrocephalus in the spinal muscular atrophy (SMA) population relative to the general population is currently unknown. Since the approval of nusinersen, an intrathecally administered drug for SMA, a small number of hydrocephalus cases among nusinersen users have been reported. Currently, the incidence of hydrocephalus in untreated SMA patients is not available, thereby making it difficult to determine if hydrocephalus is a side effect of nusinersen or part of SMA's natural history. This retrospective, matched cohort study used electronic health records (EHRs) to estimate and compare the incidence of hydrocephalus in both SMA patients and matched non-SMA controls in the time period prior to the approval of nusinersen.<h4>Methods</h4>The U.S. Optum  de-identified EHR database contains records for approximately 100 million persons. The current study period spanned January 1, 2007-December 22, 2016. Patients with SMA were identified by one or more International Classification of Diseases (ICD)-9 and/or ICD-10 codes for SMA appearing as primary, admission, or discharge diagnoses, without a pregnancy diagnostic code in the 1-year time before and after the first occurrence of SMA. The first occurrence of SMA defined the index date and non-SMA controls were matched to cases. Incident cases of hydrocephalus were identified with one or more ICD-9 and/or ICD-10 code for any type of hydrocephalus following the index date. Hydrocephalus incidence rates per person-months and the incidence rate ratio comparing SMA cases with non-SMA controls were calculated.<h4>Results</h4>There were 5354 SMA cases and an equal number of matched non-SMA controls. Incident hydrocephalus events were identified in 42 SMA cases and 9 non-SMA controls. Hydrocephalus incidence rates per 100,000 person-months were 15.5 (95% CI: 11.2-20.9) among SMA cases and 3.3 (95% CI: 1.5-6.3) among non-SMA controls. The incidence rate ratio was 4.7 (95% CI: 2.4-10.2).<h4>Conclusions</h4>Based on this retrospective analysis utilizing US EHR data, SMA patients had an approximately fourfold increased risk of hydrocephalus compared with non-SMA controls in the era preceding nusinersen treatment. This study may assist in properly evaluating adverse events in nusinersen-treated SMA patients.\", 'denotations': [{'id': ['MESH:D006849', 'OMIM:236600', 'BERN:258766501'], 'span': {'begin': 36, 'end': 49}, 'obj': 'disease'}, {'id': ['MESH:D009134', 'BERN:107424601'], 'span': {'begin': 57, 'end': 80}, 'obj': 'disease'}, {'id': ['MESH:D009134', 'BERN:107424601'], 'span': {'begin': 82, 'end': 85}, 'obj': 'disease'}, {'id': ['MESH:D006849', 'OMIM:236600', 'BERN:258766501'], 'span': {'begin': 251, 'end': 264}, 'obj': 'disease'}, {'id': ['MESH:D006849', 'OMIM:236600', 'BERN:258766501'], 'span': {'begin': 342, 'end': 355}, 'obj': 'disease'}, {'id': ['MESH:D009134', 'BERN:107424601'], 'span': {'begin': 369, 'end': 372}, 'obj': 'disease'}, {'id': ['MESH:D006849', 'OMIM:236600', 'BERN:258766501'], 'span': {'begin': 444, 'end': 457}, 'obj': 'disease'}, {'id': ['MESH:D009134', 'BERN:107424601'], 'span': {'begin': 500, 'end': 503}, 'obj': 'disease'}, {'id': ['MESH:D006849', 'OMIM:236600', 'BERN:258766501'], 'span': {'begin': 643, 'end': 656}, 'obj': 'disease'}, {'id': ['MESH:D009134', 'BERN:107424601'], 'span': {'begin': 665, 'end': 668}, 'obj': 'disease'}, {'id': ['MESH:D009134', 'BERN:107424601'], 'span': {'begin': 959, 'end': 962}, 'obj': 'disease'}, {'id': ['MESH:D009134', 'BERN:107424601'], 'span': {'begin': 1067, 'end': 1070}, 'obj': 'disease'}, {'id': ['MESH:D009134', 'BERN:107424601'], 'span': {'begin': 1224, 'end': 1227}, 'obj': 'disease'}, {'id': ['MESH:D009134', 'BERN:107424601'], 'span': {'begin': 1253, 'end': 1256}, 'obj': 'disease'}, {'id': ['MESH:D006849', 'OMIM:236600', 'BERN:258766501'], 'span': {'begin': 1342, 'end': 1355}, 'obj': 'disease'}, {'id': ['MESH:D006849', 'OMIM:236600', 'BERN:258766501'], 'span': {'begin': 1430, 'end': 1443}, 'obj': 'disease'}, {'id': ['MESH:D006849', 'OMIM:236600', 'BERN:258766501'], 'span': {'begin': 1470, 'end': 1483}, 'obj': 'disease'}, {'id': ['MESH:D009134', 'BERN:107424601'], 'span': {'begin': 1557, 'end': 1560}, 'obj': 'disease'}, {'id': ['MESH:D009134', 'BERN:107424601'], 'span': {'begin': 1637, 'end': 1640}, 'obj': 'disease'}, {'id': ['MESH:D006849', 'OMIM:236600', 'BERN:258766501'], 'span': {'begin': 1705, 'end': 1718}, 'obj': 'disease'}, {'id': ['MESH:D009134', 'BERN:107424601'], 'span': {'begin': 1748, 'end': 1751}, 'obj': 'disease'}, {'id': ['MESH:D006849', 'OMIM:236600', 'BERN:258766501'], 'span': {'begin': 1782, 'end': 1795}, 'obj': 'disease'}, {'id': ['MESH:D009134', 'BERN:107424601'], 'span': {'begin': 1874, 'end': 1877}, 'obj': 'disease'}, {'id': ['MESH:D009134', 'BERN:107424601'], 'span': {'begin': 2066, 'end': 2069}, 'obj': 'disease'}, {'id': ['MESH:D006849', 'OMIM:236600', 'BERN:258766501'], 'span': {'begin': 2127, 'end': 2140}, 'obj': 'disease'}, {'id': ['MESH:D009134', 'BERN:107424601'], 'span': {'begin': 2297, 'end': 2300}, 'obj': 'disease'}], 'timestamp': 'Wed Jul 14 16:40:17 +0000 2021', 'logits': {'disease': [[{'start': 36, 'end': 49, 'id': 'MESH:D006849\\tOMIM:236600\\tBERN:258766501'}, 0.9999997615814209], [{'start': 57, 'end': 80, 'id': 'MESH:D009134\\tBERN:107424601'}, 1], [{'start': 82, 'end': 85, 'id': 'MESH:D009134\\tBERN:107424601'}, 0.9999997615814209], [{'start': 251, 'end': 264, 'id': 'MESH:D006849\\tOMIM:236600\\tBERN:258766501'}, 0.9999997615814209], [{'start': 342, 'end': 355, 'id': 'MESH:D006849\\tOMIM:236600\\tBERN:258766501'}, 0.9999997615814209], [{'start': 369, 'end': 372, 'id': 'MESH:D009134\\tBERN:107424601'}, 0.9999998807907104], [{'start': 444, 'end': 457, 'id': 'MESH:D006849\\tOMIM:236600\\tBERN:258766501'}, 0.9999998807907104], [{'start': 500, 'end': 503, 'id': 'MESH:D009134\\tBERN:107424601'}, 0.999993085861206], [{'start': 643, 'end': 656, 'id': 'MESH:D006849\\tOMIM:236600\\tBERN:258766501'}, 1], [{'start': 665, 'end': 668, 'id': 'MESH:D009134\\tBERN:107424601'}, 0.9999997615814209], [{'start': 959, 'end': 962, 'id': 'MESH:D009134\\tBERN:107424601'}, 0.9999995231628418], [{'start': 1067, 'end': 1070, 'id': 'MESH:D009134\\tBERN:107424601'}, 0.9999995231628418], [{'start': 1224, 'end': 1227, 'id': 'MESH:D009134\\tBERN:107424601'}, 0.9999997615814209], [{'start': 1253, 'end': 1256, 'id': 'MESH:D009134\\tBERN:107424601'}, 0.9999991655349731], [{'start': 1342, 'end': 1355, 'id': 'MESH:D006849\\tOMIM:236600\\tBERN:258766501'}, 0.9999997615814209], [{'start': 1430, 'end': 1443, 'id': 'MESH:D006849\\tOMIM:236600\\tBERN:258766501'}, 0.9999997615814209], [{'start': 1470, 'end': 1483, 'id': 'MESH:D006849\\tOMIM:236600\\tBERN:258766501'}, 0.9999998807907104], [{'start': 1557, 'end': 1560, 'id': 'MESH:D009134\\tBERN:107424601'}, 0.9999991655349731], [{'start': 1637, 'end': 1640, 'id': 'MESH:D009134\\tBERN:107424601'}, 0.9999997615814209], [{'start': 1705, 'end': 1718, 'id': 'MESH:D006849\\tOMIM:236600\\tBERN:258766501'}, 0.9999988079071045], [{'start': 1748, 'end': 1751, 'id': 'MESH:D009134\\tBERN:107424601'}, 0.9999997615814209], [{'start': 1782, 'end': 1795, 'id': 'MESH:D006849\\tOMIM:236600\\tBERN:258766501'}, 1], [{'start': 1874, 'end': 1877, 'id': 'MESH:D009134\\tBERN:107424601'}, 0.9999996423721313], [{'start': 2066, 'end': 2069, 'id': 'MESH:D009134\\tBERN:107424601'}, 0.9999997615814209], [{'start': 2127, 'end': 2140, 'id': 'MESH:D006849\\tOMIM:236600\\tBERN:258766501'}, 1], [{'start': 2297, 'end': 2300, 'id': 'MESH:D009134\\tBERN:107424601'}, 0.9999998807907104]], 'gene': [], 'drug': [], 'species': [[{'start': 373, 'end': 381}, 0.9999998807907104], [{'start': 669, 'end': 677}, 0.9999998807907104], [{'start': 868, 'end': 875}, 0.9999998807907104], [{'start': 945, 'end': 953}, 0.9999998807907104], [{'start': 1504, 'end': 1510}, 0.9999998807907104], [{'start': 1824, 'end': 1830}, 0.9999998807907104], [{'start': 2070, 'end': 2078}, 0.9999998807907104], [{'start': 2301, 'end': 2309}, 0.9999998807907104]]}}\n"
     ]
    }
   ],
   "source": [
    "ner_abs = [query_raw(abstract) for abstract in abstracts]\n",
    "print(ner_abs[1])"
   ]
  },
  {
   "cell_type": "code",
   "execution_count": 31,
   "id": "117564dc",
   "metadata": {
    "scrolled": true
   },
   "outputs": [
    {
     "data": {
      "text/plain": [
       "list"
      ]
     },
     "execution_count": 31,
     "metadata": {},
     "output_type": "execute_result"
    }
   ],
   "source": [
    "type(ner_abs)"
   ]
  },
  {
   "cell_type": "code",
   "execution_count": 32,
   "id": "f491ed92",
   "metadata": {
    "scrolled": false
   },
   "outputs": [
    {
     "data": {
      "text/plain": [
       "dict"
      ]
     },
     "execution_count": 32,
     "metadata": {},
     "output_type": "execute_result"
    }
   ],
   "source": [
    "type(ner_abs[0])"
   ]
  },
  {
   "cell_type": "code",
   "execution_count": 34,
   "id": "0c5d9add",
   "metadata": {
    "scrolled": true
   },
   "outputs": [
    {
     "ename": "ValueError",
     "evalue": "Mixing dicts with non-Series may lead to ambiguous ordering.",
     "output_type": "error",
     "traceback": [
      "\u001b[0;31m---------------------------------------------------------------------------\u001b[0m",
      "\u001b[0;31mValueError\u001b[0m                                Traceback (most recent call last)",
      "\u001b[0;32m/tmp/ipykernel_34646/287687552.py\u001b[0m in \u001b[0;36m<module>\u001b[0;34m\u001b[0m\n\u001b[0;32m----> 1\u001b[0;31m \u001b[0mjsondf\u001b[0m \u001b[0;34m=\u001b[0m \u001b[0mpd\u001b[0m\u001b[0;34m.\u001b[0m\u001b[0mDataFrame\u001b[0m\u001b[0;34m.\u001b[0m\u001b[0mfrom_dict\u001b[0m\u001b[0;34m(\u001b[0m\u001b[0mner_abs\u001b[0m\u001b[0;34m[\u001b[0m\u001b[0;36m0\u001b[0m\u001b[0;34m]\u001b[0m\u001b[0;34m)\u001b[0m\u001b[0;34m\u001b[0m\u001b[0;34m\u001b[0m\u001b[0m\n\u001b[0m\u001b[1;32m      2\u001b[0m \u001b[0mjsondf\u001b[0m\u001b[0;34m\u001b[0m\u001b[0;34m\u001b[0m\u001b[0m\n",
      "\u001b[0;32m~/env/lib/python3.8/site-packages/pandas/core/frame.py\u001b[0m in \u001b[0;36mfrom_dict\u001b[0;34m(cls, data, orient, dtype, columns)\u001b[0m\n\u001b[1;32m   1371\u001b[0m             \u001b[0;32mraise\u001b[0m \u001b[0mValueError\u001b[0m\u001b[0;34m(\u001b[0m\u001b[0;34m\"only recognize index or columns for orient\"\u001b[0m\u001b[0;34m)\u001b[0m\u001b[0;34m\u001b[0m\u001b[0;34m\u001b[0m\u001b[0m\n\u001b[1;32m   1372\u001b[0m \u001b[0;34m\u001b[0m\u001b[0m\n\u001b[0;32m-> 1373\u001b[0;31m         \u001b[0;32mreturn\u001b[0m \u001b[0mcls\u001b[0m\u001b[0;34m(\u001b[0m\u001b[0mdata\u001b[0m\u001b[0;34m,\u001b[0m \u001b[0mindex\u001b[0m\u001b[0;34m=\u001b[0m\u001b[0mindex\u001b[0m\u001b[0;34m,\u001b[0m \u001b[0mcolumns\u001b[0m\u001b[0;34m=\u001b[0m\u001b[0mcolumns\u001b[0m\u001b[0;34m,\u001b[0m \u001b[0mdtype\u001b[0m\u001b[0;34m=\u001b[0m\u001b[0mdtype\u001b[0m\u001b[0;34m)\u001b[0m\u001b[0;34m\u001b[0m\u001b[0;34m\u001b[0m\u001b[0m\n\u001b[0m\u001b[1;32m   1374\u001b[0m \u001b[0;34m\u001b[0m\u001b[0m\n\u001b[1;32m   1375\u001b[0m     def to_numpy(\n",
      "\u001b[0;32m~/env/lib/python3.8/site-packages/pandas/core/frame.py\u001b[0m in \u001b[0;36m__init__\u001b[0;34m(self, data, index, columns, dtype, copy)\u001b[0m\n\u001b[1;32m    527\u001b[0m \u001b[0;34m\u001b[0m\u001b[0m\n\u001b[1;32m    528\u001b[0m         \u001b[0;32melif\u001b[0m \u001b[0misinstance\u001b[0m\u001b[0;34m(\u001b[0m\u001b[0mdata\u001b[0m\u001b[0;34m,\u001b[0m \u001b[0mdict\u001b[0m\u001b[0;34m)\u001b[0m\u001b[0;34m:\u001b[0m\u001b[0;34m\u001b[0m\u001b[0;34m\u001b[0m\u001b[0m\n\u001b[0;32m--> 529\u001b[0;31m             \u001b[0mmgr\u001b[0m \u001b[0;34m=\u001b[0m \u001b[0minit_dict\u001b[0m\u001b[0;34m(\u001b[0m\u001b[0mdata\u001b[0m\u001b[0;34m,\u001b[0m \u001b[0mindex\u001b[0m\u001b[0;34m,\u001b[0m \u001b[0mcolumns\u001b[0m\u001b[0;34m,\u001b[0m \u001b[0mdtype\u001b[0m\u001b[0;34m=\u001b[0m\u001b[0mdtype\u001b[0m\u001b[0;34m)\u001b[0m\u001b[0;34m\u001b[0m\u001b[0;34m\u001b[0m\u001b[0m\n\u001b[0m\u001b[1;32m    530\u001b[0m         \u001b[0;32melif\u001b[0m \u001b[0misinstance\u001b[0m\u001b[0;34m(\u001b[0m\u001b[0mdata\u001b[0m\u001b[0;34m,\u001b[0m \u001b[0mma\u001b[0m\u001b[0;34m.\u001b[0m\u001b[0mMaskedArray\u001b[0m\u001b[0;34m)\u001b[0m\u001b[0;34m:\u001b[0m\u001b[0;34m\u001b[0m\u001b[0;34m\u001b[0m\u001b[0m\n\u001b[1;32m    531\u001b[0m             \u001b[0;32mimport\u001b[0m \u001b[0mnumpy\u001b[0m\u001b[0;34m.\u001b[0m\u001b[0mma\u001b[0m\u001b[0;34m.\u001b[0m\u001b[0mmrecords\u001b[0m \u001b[0;32mas\u001b[0m \u001b[0mmrecords\u001b[0m\u001b[0;34m\u001b[0m\u001b[0;34m\u001b[0m\u001b[0m\n",
      "\u001b[0;32m~/env/lib/python3.8/site-packages/pandas/core/internals/construction.py\u001b[0m in \u001b[0;36minit_dict\u001b[0;34m(data, index, columns, dtype)\u001b[0m\n\u001b[1;32m    285\u001b[0m             \u001b[0marr\u001b[0m \u001b[0;32mif\u001b[0m \u001b[0;32mnot\u001b[0m \u001b[0mis_datetime64tz_dtype\u001b[0m\u001b[0;34m(\u001b[0m\u001b[0marr\u001b[0m\u001b[0;34m)\u001b[0m \u001b[0;32melse\u001b[0m \u001b[0marr\u001b[0m\u001b[0;34m.\u001b[0m\u001b[0mcopy\u001b[0m\u001b[0;34m(\u001b[0m\u001b[0;34m)\u001b[0m \u001b[0;32mfor\u001b[0m \u001b[0marr\u001b[0m \u001b[0;32min\u001b[0m \u001b[0marrays\u001b[0m\u001b[0;34m\u001b[0m\u001b[0;34m\u001b[0m\u001b[0m\n\u001b[1;32m    286\u001b[0m         ]\n\u001b[0;32m--> 287\u001b[0;31m     \u001b[0;32mreturn\u001b[0m \u001b[0marrays_to_mgr\u001b[0m\u001b[0;34m(\u001b[0m\u001b[0marrays\u001b[0m\u001b[0;34m,\u001b[0m \u001b[0mdata_names\u001b[0m\u001b[0;34m,\u001b[0m \u001b[0mindex\u001b[0m\u001b[0;34m,\u001b[0m \u001b[0mcolumns\u001b[0m\u001b[0;34m,\u001b[0m \u001b[0mdtype\u001b[0m\u001b[0;34m=\u001b[0m\u001b[0mdtype\u001b[0m\u001b[0;34m)\u001b[0m\u001b[0;34m\u001b[0m\u001b[0;34m\u001b[0m\u001b[0m\n\u001b[0m\u001b[1;32m    288\u001b[0m \u001b[0;34m\u001b[0m\u001b[0m\n\u001b[1;32m    289\u001b[0m \u001b[0;34m\u001b[0m\u001b[0m\n",
      "\u001b[0;32m~/env/lib/python3.8/site-packages/pandas/core/internals/construction.py\u001b[0m in \u001b[0;36marrays_to_mgr\u001b[0;34m(arrays, arr_names, index, columns, dtype, verify_integrity)\u001b[0m\n\u001b[1;32m     78\u001b[0m         \u001b[0;31m# figure out the index, if necessary\u001b[0m\u001b[0;34m\u001b[0m\u001b[0;34m\u001b[0m\u001b[0;34m\u001b[0m\u001b[0m\n\u001b[1;32m     79\u001b[0m         \u001b[0;32mif\u001b[0m \u001b[0mindex\u001b[0m \u001b[0;32mis\u001b[0m \u001b[0;32mNone\u001b[0m\u001b[0;34m:\u001b[0m\u001b[0;34m\u001b[0m\u001b[0;34m\u001b[0m\u001b[0m\n\u001b[0;32m---> 80\u001b[0;31m             \u001b[0mindex\u001b[0m \u001b[0;34m=\u001b[0m \u001b[0mextract_index\u001b[0m\u001b[0;34m(\u001b[0m\u001b[0marrays\u001b[0m\u001b[0;34m)\u001b[0m\u001b[0;34m\u001b[0m\u001b[0;34m\u001b[0m\u001b[0m\n\u001b[0m\u001b[1;32m     81\u001b[0m         \u001b[0;32melse\u001b[0m\u001b[0;34m:\u001b[0m\u001b[0;34m\u001b[0m\u001b[0;34m\u001b[0m\u001b[0m\n\u001b[1;32m     82\u001b[0m             \u001b[0mindex\u001b[0m \u001b[0;34m=\u001b[0m \u001b[0mensure_index\u001b[0m\u001b[0;34m(\u001b[0m\u001b[0mindex\u001b[0m\u001b[0;34m)\u001b[0m\u001b[0;34m\u001b[0m\u001b[0;34m\u001b[0m\u001b[0m\n",
      "\u001b[0;32m~/env/lib/python3.8/site-packages/pandas/core/internals/construction.py\u001b[0m in \u001b[0;36mextract_index\u001b[0;34m(data)\u001b[0m\n\u001b[1;32m    402\u001b[0m \u001b[0;34m\u001b[0m\u001b[0m\n\u001b[1;32m    403\u001b[0m             \u001b[0;32mif\u001b[0m \u001b[0mhave_dicts\u001b[0m\u001b[0;34m:\u001b[0m\u001b[0;34m\u001b[0m\u001b[0;34m\u001b[0m\u001b[0m\n\u001b[0;32m--> 404\u001b[0;31m                 raise ValueError(\n\u001b[0m\u001b[1;32m    405\u001b[0m                     \u001b[0;34m\"Mixing dicts with non-Series may lead to ambiguous ordering.\"\u001b[0m\u001b[0;34m\u001b[0m\u001b[0;34m\u001b[0m\u001b[0m\n\u001b[1;32m    406\u001b[0m                 )\n",
      "\u001b[0;31mValueError\u001b[0m: Mixing dicts with non-Series may lead to ambiguous ordering."
     ]
    }
   ],
   "source": [
    "jsondf = pd.DataFrame.from_dict(ner_abs[0])\n",
    "jsondf"
   ]
  },
  {
   "cell_type": "code",
   "execution_count": 35,
   "id": "0bb19e17",
   "metadata": {},
   "outputs": [
    {
     "ename": "ValueError",
     "evalue": "Mixing dicts with non-Series may lead to ambiguous ordering.",
     "output_type": "error",
     "traceback": [
      "\u001b[0;31m---------------------------------------------------------------------------\u001b[0m",
      "\u001b[0;31mValueError\u001b[0m                                Traceback (most recent call last)",
      "\u001b[0;32m/tmp/ipykernel_34646/3749110332.py\u001b[0m in \u001b[0;36m<module>\u001b[0;34m\u001b[0m\n\u001b[0;32m----> 1\u001b[0;31m \u001b[0mjsondf\u001b[0m \u001b[0;34m=\u001b[0m \u001b[0mpd\u001b[0m\u001b[0;34m.\u001b[0m\u001b[0mDataFrame\u001b[0m\u001b[0;34m.\u001b[0m\u001b[0mfrom_dict\u001b[0m\u001b[0;34m(\u001b[0m\u001b[0mquery_raw\u001b[0m\u001b[0;34m(\u001b[0m\u001b[0;34m\"Lysosomal storage diseases (LSDs) are a group of inherited metabolic disorders individually considered as rare, and few data on its prevalence has been reported in the literature. The overall birth prevalence of the 29 different LSDs studied in the Portuguese population was calculated to be 25/100000 live births, twice the prevalence previously described in Australia and in The Netherlands. The comparison of the prevalence profile of the LSDs presenting a prevalence higher than 0.5/100000 in the Portuguese, Dutch and Australian populations showed, in the Portuguese, the existence of a higher prevalence of GM2 gangliosidoses (B variant), mucolipidoses (II and III), Niemman-Pick type C and metachromatic leukodystrophy (MLD), and a lower prevalence of Pompe and Fabry. The highest prevalence value for a single LSD is the one of GM2 gangliosidoses (B variant), corresponding to 3/100000, a value which is significantly higher than the prevalence of the most frequent LSD in Dutch, Pompe disease (2/100000) and Australians, Gaucher's disease (GD) (1.8/100000). It is worth noting that the highest prevalence of GM2 gangliosidoses found in the Portuguese is mainly due to the existence of a unique subtype, the rare juvenile B1 variant.\"\u001b[0m\u001b[0;34m)\u001b[0m\u001b[0;34m)\u001b[0m\u001b[0;34m\u001b[0m\u001b[0;34m\u001b[0m\u001b[0m\n\u001b[0m",
      "\u001b[0;32m~/env/lib/python3.8/site-packages/pandas/core/frame.py\u001b[0m in \u001b[0;36mfrom_dict\u001b[0;34m(cls, data, orient, dtype, columns)\u001b[0m\n\u001b[1;32m   1371\u001b[0m             \u001b[0;32mraise\u001b[0m \u001b[0mValueError\u001b[0m\u001b[0;34m(\u001b[0m\u001b[0;34m\"only recognize index or columns for orient\"\u001b[0m\u001b[0;34m)\u001b[0m\u001b[0;34m\u001b[0m\u001b[0;34m\u001b[0m\u001b[0m\n\u001b[1;32m   1372\u001b[0m \u001b[0;34m\u001b[0m\u001b[0m\n\u001b[0;32m-> 1373\u001b[0;31m         \u001b[0;32mreturn\u001b[0m \u001b[0mcls\u001b[0m\u001b[0;34m(\u001b[0m\u001b[0mdata\u001b[0m\u001b[0;34m,\u001b[0m \u001b[0mindex\u001b[0m\u001b[0;34m=\u001b[0m\u001b[0mindex\u001b[0m\u001b[0;34m,\u001b[0m \u001b[0mcolumns\u001b[0m\u001b[0;34m=\u001b[0m\u001b[0mcolumns\u001b[0m\u001b[0;34m,\u001b[0m \u001b[0mdtype\u001b[0m\u001b[0;34m=\u001b[0m\u001b[0mdtype\u001b[0m\u001b[0;34m)\u001b[0m\u001b[0;34m\u001b[0m\u001b[0;34m\u001b[0m\u001b[0m\n\u001b[0m\u001b[1;32m   1374\u001b[0m \u001b[0;34m\u001b[0m\u001b[0m\n\u001b[1;32m   1375\u001b[0m     def to_numpy(\n",
      "\u001b[0;32m~/env/lib/python3.8/site-packages/pandas/core/frame.py\u001b[0m in \u001b[0;36m__init__\u001b[0;34m(self, data, index, columns, dtype, copy)\u001b[0m\n\u001b[1;32m    527\u001b[0m \u001b[0;34m\u001b[0m\u001b[0m\n\u001b[1;32m    528\u001b[0m         \u001b[0;32melif\u001b[0m \u001b[0misinstance\u001b[0m\u001b[0;34m(\u001b[0m\u001b[0mdata\u001b[0m\u001b[0;34m,\u001b[0m \u001b[0mdict\u001b[0m\u001b[0;34m)\u001b[0m\u001b[0;34m:\u001b[0m\u001b[0;34m\u001b[0m\u001b[0;34m\u001b[0m\u001b[0m\n\u001b[0;32m--> 529\u001b[0;31m             \u001b[0mmgr\u001b[0m \u001b[0;34m=\u001b[0m \u001b[0minit_dict\u001b[0m\u001b[0;34m(\u001b[0m\u001b[0mdata\u001b[0m\u001b[0;34m,\u001b[0m \u001b[0mindex\u001b[0m\u001b[0;34m,\u001b[0m \u001b[0mcolumns\u001b[0m\u001b[0;34m,\u001b[0m \u001b[0mdtype\u001b[0m\u001b[0;34m=\u001b[0m\u001b[0mdtype\u001b[0m\u001b[0;34m)\u001b[0m\u001b[0;34m\u001b[0m\u001b[0;34m\u001b[0m\u001b[0m\n\u001b[0m\u001b[1;32m    530\u001b[0m         \u001b[0;32melif\u001b[0m \u001b[0misinstance\u001b[0m\u001b[0;34m(\u001b[0m\u001b[0mdata\u001b[0m\u001b[0;34m,\u001b[0m \u001b[0mma\u001b[0m\u001b[0;34m.\u001b[0m\u001b[0mMaskedArray\u001b[0m\u001b[0;34m)\u001b[0m\u001b[0;34m:\u001b[0m\u001b[0;34m\u001b[0m\u001b[0;34m\u001b[0m\u001b[0m\n\u001b[1;32m    531\u001b[0m             \u001b[0;32mimport\u001b[0m \u001b[0mnumpy\u001b[0m\u001b[0;34m.\u001b[0m\u001b[0mma\u001b[0m\u001b[0;34m.\u001b[0m\u001b[0mmrecords\u001b[0m \u001b[0;32mas\u001b[0m \u001b[0mmrecords\u001b[0m\u001b[0;34m\u001b[0m\u001b[0;34m\u001b[0m\u001b[0m\n",
      "\u001b[0;32m~/env/lib/python3.8/site-packages/pandas/core/internals/construction.py\u001b[0m in \u001b[0;36minit_dict\u001b[0;34m(data, index, columns, dtype)\u001b[0m\n\u001b[1;32m    285\u001b[0m             \u001b[0marr\u001b[0m \u001b[0;32mif\u001b[0m \u001b[0;32mnot\u001b[0m \u001b[0mis_datetime64tz_dtype\u001b[0m\u001b[0;34m(\u001b[0m\u001b[0marr\u001b[0m\u001b[0;34m)\u001b[0m \u001b[0;32melse\u001b[0m \u001b[0marr\u001b[0m\u001b[0;34m.\u001b[0m\u001b[0mcopy\u001b[0m\u001b[0;34m(\u001b[0m\u001b[0;34m)\u001b[0m \u001b[0;32mfor\u001b[0m \u001b[0marr\u001b[0m \u001b[0;32min\u001b[0m \u001b[0marrays\u001b[0m\u001b[0;34m\u001b[0m\u001b[0;34m\u001b[0m\u001b[0m\n\u001b[1;32m    286\u001b[0m         ]\n\u001b[0;32m--> 287\u001b[0;31m     \u001b[0;32mreturn\u001b[0m \u001b[0marrays_to_mgr\u001b[0m\u001b[0;34m(\u001b[0m\u001b[0marrays\u001b[0m\u001b[0;34m,\u001b[0m \u001b[0mdata_names\u001b[0m\u001b[0;34m,\u001b[0m \u001b[0mindex\u001b[0m\u001b[0;34m,\u001b[0m \u001b[0mcolumns\u001b[0m\u001b[0;34m,\u001b[0m \u001b[0mdtype\u001b[0m\u001b[0;34m=\u001b[0m\u001b[0mdtype\u001b[0m\u001b[0;34m)\u001b[0m\u001b[0;34m\u001b[0m\u001b[0;34m\u001b[0m\u001b[0m\n\u001b[0m\u001b[1;32m    288\u001b[0m \u001b[0;34m\u001b[0m\u001b[0m\n\u001b[1;32m    289\u001b[0m \u001b[0;34m\u001b[0m\u001b[0m\n",
      "\u001b[0;32m~/env/lib/python3.8/site-packages/pandas/core/internals/construction.py\u001b[0m in \u001b[0;36marrays_to_mgr\u001b[0;34m(arrays, arr_names, index, columns, dtype, verify_integrity)\u001b[0m\n\u001b[1;32m     78\u001b[0m         \u001b[0;31m# figure out the index, if necessary\u001b[0m\u001b[0;34m\u001b[0m\u001b[0;34m\u001b[0m\u001b[0;34m\u001b[0m\u001b[0m\n\u001b[1;32m     79\u001b[0m         \u001b[0;32mif\u001b[0m \u001b[0mindex\u001b[0m \u001b[0;32mis\u001b[0m \u001b[0;32mNone\u001b[0m\u001b[0;34m:\u001b[0m\u001b[0;34m\u001b[0m\u001b[0;34m\u001b[0m\u001b[0m\n\u001b[0;32m---> 80\u001b[0;31m             \u001b[0mindex\u001b[0m \u001b[0;34m=\u001b[0m \u001b[0mextract_index\u001b[0m\u001b[0;34m(\u001b[0m\u001b[0marrays\u001b[0m\u001b[0;34m)\u001b[0m\u001b[0;34m\u001b[0m\u001b[0;34m\u001b[0m\u001b[0m\n\u001b[0m\u001b[1;32m     81\u001b[0m         \u001b[0;32melse\u001b[0m\u001b[0;34m:\u001b[0m\u001b[0;34m\u001b[0m\u001b[0;34m\u001b[0m\u001b[0m\n\u001b[1;32m     82\u001b[0m             \u001b[0mindex\u001b[0m \u001b[0;34m=\u001b[0m \u001b[0mensure_index\u001b[0m\u001b[0;34m(\u001b[0m\u001b[0mindex\u001b[0m\u001b[0;34m)\u001b[0m\u001b[0;34m\u001b[0m\u001b[0;34m\u001b[0m\u001b[0m\n",
      "\u001b[0;32m~/env/lib/python3.8/site-packages/pandas/core/internals/construction.py\u001b[0m in \u001b[0;36mextract_index\u001b[0;34m(data)\u001b[0m\n\u001b[1;32m    402\u001b[0m \u001b[0;34m\u001b[0m\u001b[0m\n\u001b[1;32m    403\u001b[0m             \u001b[0;32mif\u001b[0m \u001b[0mhave_dicts\u001b[0m\u001b[0;34m:\u001b[0m\u001b[0;34m\u001b[0m\u001b[0;34m\u001b[0m\u001b[0m\n\u001b[0;32m--> 404\u001b[0;31m                 raise ValueError(\n\u001b[0m\u001b[1;32m    405\u001b[0m                     \u001b[0;34m\"Mixing dicts with non-Series may lead to ambiguous ordering.\"\u001b[0m\u001b[0;34m\u001b[0m\u001b[0;34m\u001b[0m\u001b[0m\n\u001b[1;32m    406\u001b[0m                 )\n",
      "\u001b[0;31mValueError\u001b[0m: Mixing dicts with non-Series may lead to ambiguous ordering."
     ]
    }
   ],
   "source": [
    "jsondf = pd.DataFrame.from_dict(query_raw(\"Lysosomal storage diseases (LSDs) are a group of inherited metabolic disorders individually considered as rare, and few data on its prevalence has been reported in the literature. The overall birth prevalence of the 29 different LSDs studied in the Portuguese population was calculated to be 25/100000 live births, twice the prevalence previously described in Australia and in The Netherlands. The comparison of the prevalence profile of the LSDs presenting a prevalence higher than 0.5/100000 in the Portuguese, Dutch and Australian populations showed, in the Portuguese, the existence of a higher prevalence of GM2 gangliosidoses (B variant), mucolipidoses (II and III), Niemman-Pick type C and metachromatic leukodystrophy (MLD), and a lower prevalence of Pompe and Fabry. The highest prevalence value for a single LSD is the one of GM2 gangliosidoses (B variant), corresponding to 3/100000, a value which is significantly higher than the prevalence of the most frequent LSD in Dutch, Pompe disease (2/100000) and Australians, Gaucher's disease (GD) (1.8/100000). It is worth noting that the highest prevalence of GM2 gangliosidoses found in the Portuguese is mainly due to the existence of a unique subtype, the rare juvenile B1 variant.\"))"
   ]
  },
  {
   "cell_type": "code",
   "execution_count": null,
   "id": "78f224e5",
   "metadata": {},
   "outputs": [],
   "source": [
    "json_object = json.dumps(dictionary, indent = 4)  "
   ]
  },
  {
   "cell_type": "code",
   "execution_count": null,
   "id": "60ecf320",
   "metadata": {},
   "outputs": [],
   "source": [
    "jsondf = pd.io.json.read_json()"
   ]
  },
  {
   "cell_type": "code",
   "execution_count": 1,
   "id": "364eb4bf",
   "metadata": {},
   "outputs": [],
   "source": [
    "pmids = [25274184,10480370,14685153]"
   ]
  },
  {
   "cell_type": "code",
   "execution_count": 6,
   "id": "9a1ef0c5",
   "metadata": {},
   "outputs": [
    {
     "name": "stdout",
     "output_type": "stream",
     "text": [
      "25274184,10480370,14685153\n"
     ]
    }
   ],
   "source": [
    "#put together request string\n",
    "pmidstr = ''\n",
    "for pmid in pmids:\n",
    "    pmidstr+=str(pmid)+','\n",
    "pmidstr = pmidstr.rstrip(pmidstr[-1])\n",
    "print(pmidstr)"
   ]
  },
  {
   "cell_type": "code",
   "execution_count": 7,
   "id": "776e43bf",
   "metadata": {},
   "outputs": [
    {
     "name": "stdout",
     "output_type": "stream",
     "text": [
      "https://bern.korea.ac.kr/pubmed/25274184,10480370,14685153/json\n"
     ]
    }
   ],
   "source": [
    "reqstr = 'https://bern.korea.ac.kr/pubmed/'+pmidstr+'/json'\n",
    "print(reqstr)"
   ]
  },
  {
   "cell_type": "code",
   "execution_count": null,
   "id": "7fc2c6f2",
   "metadata": {},
   "outputs": [],
   "source": [
    "for "
   ]
  }
 ],
 "metadata": {
  "kernelspec": {
   "display_name": "Python 3 (ipykernel)",
   "language": "python",
   "name": "python3"
  },
  "language_info": {
   "codemirror_mode": {
    "name": "ipython",
    "version": 3
   },
   "file_extension": ".py",
   "mimetype": "text/x-python",
   "name": "python",
   "nbconvert_exporter": "python",
   "pygments_lexer": "ipython3",
   "version": "3.8.0"
  }
 },
 "nbformat": 4,
 "nbformat_minor": 5
}
