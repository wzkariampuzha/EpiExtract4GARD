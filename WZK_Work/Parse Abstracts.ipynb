{
 "cells": [
  {
   "cell_type": "code",
   "execution_count": 1,
   "metadata": {
    "scrolled": true
   },
   "outputs": [],
   "source": [
    "#Download necessary dependencies, only need to do once\n",
    "#import sys\n",
    "#!{sys.executable} -m pip install spacy\n",
    "#!{sys.executable} -m spacy download en_core_web_lg\n",
    "#!{sys.executable} -m pip install https://s3-us-west-2.amazonaws.com/ai2-s2-scispacy/releases/v0.4.0/en_ner_bc5cdr_md-0.4.0.tar.gz\n",
    "#!{sys.executable} -m pip install https://s3-us-west-2.amazonaws.com/ai2-s2-scispacy/releases/v0.4.0/en_ner_bionlp13cg_md-0.4.0.tar.gz\n",
    "\n",
    "import csv\n",
    "import spacy\n",
    "import nltk\n",
    "#nltk.download('stopwords')\n",
    "#nltk.download('punkt')\n",
    "from nltk.corpus import stopwords\n",
    "from nltk import tokenize\n",
    "STOPWORDS = set(stopwords.words('english'))\n",
    "import numpy as np\n",
    "import pandas as pd"
   ]
  },
  {
   "cell_type": "code",
   "execution_count": 2,
   "metadata": {},
   "outputs": [],
   "source": [
    "# load spaCy models\n",
    "nlp = spacy.load('en_core_web_lg')\n",
    "nlpSci = spacy.load(\"en_ner_bc5cdr_md\")\n",
    "nlpSci2 = spacy.load('en_ner_bionlp13cg_md')"
   ]
  },
  {
   "cell_type": "code",
   "execution_count": 3,
   "metadata": {},
   "outputs": [],
   "source": [
    "df = pd.read_csv('positive_abstract_set.csv')\n",
    "pmids = df['pmid'].tolist()\n",
    "abstract_test = df['abstract'].tolist()"
   ]
  },
  {
   "cell_type": "code",
   "execution_count": 4,
   "metadata": {},
   "outputs": [
    {
     "name": "stdout",
     "output_type": "stream",
     "text": [
      "31218158\n",
      "In order to ascertain the current status of and challenges posed by the incidence and prevalence of rare diseases in China, this study teases out data on the incidence and prevalence of 121 rare diseases listed in <i>China's First List of Rare Disease</i> to provide rationales and references for the development and promotion of rare-disease-related policies. The National Health Commission of the People's Republic of China issued the <i>Rare Disease Diagnosis and Treatment Guide (2019)</i> (denoted here as <i>China's Rare Disease Diagnosis and Treatment Guide</i>), which cited data on the incidence/prevalence of 21 rare diseases (21 of 121 rare diseases, 17.36%). Data on 68 diseases (56.20%) were found in monographs, literature databases, and official websites. Data on the incidence/prevalence of 70 diseases were compiled, though no data were available for the 51 remaining diseases. There are published data on the incidence/prevalence of only 14 diseases at the national level. Sources of data on the incidence and prevalence of rare diseases mainly include cases counts from hospitals (40.56%), other sources of data (24.48%), screening (20.98%), cross-sectional studies (8.39%), and estimates from models (7.69%). Data on the incidence/prevalence of rare diseases in China are limited and typically lack accuracy, uniformity, and timeliness. Epidemiological data at the national level are greatly lacking, and data are not amenable to comparison. China recently initiated epidemiological studies of rare diseases at the national and regional level. The country will continue to promote, use, and update its list of common rare diseases, actively encourage the coding and registration of cases of rare diseases, and take actions to collect, share, and use that information.\n",
      "33985607\n",
      "Brucellosis remains one of the main zoonoses worldwide. Epidemiological data on human brucellosis in Spain are scarce. The objective of this study was to assess the epidemiological characteristics of inpatient brucellosis in Spain between 1997 and 2015. A retrospective longitudinal descriptive study was performed. Data were requested from the Health Information Institute of the Ministry of Health and Equality, which provided us with the Minimum Basic Data Set of patients admitted to the National Health System. We also obtained data published in the System of Obligatory Notifiable Diseases. A total of 5598 cases were registered. The period incidence rate was 0.67 (95% CI 0.65-0.68) cases per 100 000 person-years. We observed a progressive decrease in the number of cases and annual incidence rates. A total of 3187 cases (56.9%) came from urban areas. The group most at risk comprised men around the fifth decade of life. The average (±s.d.) hospital stay was 12.6 days (±13.1). The overall lethality rate of the cohort was 1.5%. The number of inpatients diagnosed with brucellosis decreased exponentially. The group of patients with the highest risk of brucellosis in our study was males under 45 years of age and of urban origin. The lethality rate has reduced to minimum values. It is probable that hospital discharge records could be a good database for the epidemiological analysis of the hospital management of brucellosis and offer a better information collection system than the notifiable diseases system (EDO in Spanish).\n"
     ]
    }
   ],
   "source": [
    "for i in range(0,2):\n",
    "    print(pmids[i])\n",
    "    print(abstract_test[i])"
   ]
  },
  {
   "cell_type": "code",
   "execution_count": 5,
   "metadata": {},
   "outputs": [],
   "source": [
    "def remove_stopwords(string):\n",
    "    for word in STOPWORDS:\n",
    "        token = ' ' + word + ' '\n",
    "        string = string.replace(token, ' ')\n",
    "        string = string.strip()\n",
    "    return string"
   ]
  },
  {
   "cell_type": "code",
   "execution_count": 6,
   "metadata": {},
   "outputs": [],
   "source": [
    "abstracts =[]\n",
    "for paragraph in df['abstract']:\n",
    "    paragraph = remove_stopwords(paragraph)\n",
    "    abstracts.append(paragraph)"
   ]
  },
  {
   "cell_type": "code",
   "execution_count": 7,
   "metadata": {
    "scrolled": true
   },
   "outputs": [
    {
     "name": "stdout",
     "output_type": "stream",
     "text": [
      "31218158\n",
      "In order ascertain current status challenges posed incidence prevalence rare diseases China, study teases data incidence prevalence 121 rare diseases listed <i>China's First List Rare Disease</i> provide rationales references development promotion rare-disease-related policies. The National Health Commission People's Republic China issued <i>Rare Disease Diagnosis Treatment Guide (2019)</i> (denoted <i>China's Rare Disease Diagnosis Treatment Guide</i>), cited data incidence/prevalence 21 rare diseases (21 121 rare diseases, 17.36%). Data 68 diseases (56.20%) found monographs, literature databases, official websites. Data incidence/prevalence 70 diseases compiled, though data available 51 remaining diseases. There published data incidence/prevalence 14 diseases national level. Sources data incidence prevalence rare diseases mainly include cases counts hospitals (40.56%), sources data (24.48%), screening (20.98%), cross-sectional studies (8.39%), estimates models (7.69%). Data incidence/prevalence rare diseases China limited typically lack accuracy, uniformity, timeliness. Epidemiological data national level greatly lacking, data amenable comparison. China recently initiated epidemiological studies rare diseases national regional level. The country continue promote, use, update list common rare diseases, actively encourage coding registration cases rare diseases, take actions collect, share, use information.\n",
      "33985607\n",
      "Brucellosis remains one main zoonoses worldwide. Epidemiological data human brucellosis Spain scarce. The objective study assess epidemiological characteristics inpatient brucellosis Spain 1997 2015. A retrospective longitudinal descriptive study performed. Data requested Health Information Institute Ministry Health Equality, provided us Minimum Basic Data Set patients admitted National Health System. We also obtained data published System Obligatory Notifiable Diseases. A total 5598 cases registered. The period incidence rate 0.67 (95% CI 0.65-0.68) cases per 100 000 person-years. We observed progressive decrease number cases annual incidence rates. A total 3187 cases (56.9%) came urban areas. The group risk comprised men around fifth decade life. The average (±s.d.) hospital stay 12.6 days (±13.1). The overall lethality rate cohort 1.5%. The number inpatients diagnosed brucellosis decreased exponentially. The group patients highest risk brucellosis study males 45 years age urban origin. The lethality rate reduced minimum values. It probable hospital discharge records could good database epidemiological analysis hospital management brucellosis offer better information collection system notifiable diseases system (EDO Spanish).\n"
     ]
    }
   ],
   "source": [
    "for i in range(0,2):\n",
    "    print(pmids[i])\n",
    "    print(abstracts[i])"
   ]
  },
  {
   "cell_type": "code",
   "execution_count": 8,
   "metadata": {},
   "outputs": [],
   "source": [
    "# Standardize the text of the abstract by replacing all named entities with their entity label\n",
    "# Eg: 3 patients were seen in a clinic in England --> CARDINAL patients were seen in a clinic in GPE\n",
    "def standardizeAbstract(abstract):\n",
    "    doc = nlp(abstract)\n",
    "    newAbstract = abstract\n",
    "    # interate through the entities in the abstract\n",
    "    for e in reversed(doc.ents):\n",
    "        # replace entities with their label\n",
    "        #GPE = GeoPolitical Entity\n",
    "        if e.label_ in {'PERCENT','CARDINAL','GPE','LOC','DATE','TIME','QUANTITY','ORDINAL'}:\n",
    "            start = e.start_char\n",
    "            end = start + len(e.text)\n",
    "            newAbstract = newAbstract[:start] + e.label_ + newAbstract[end:]\n",
    "    return newAbstract"
   ]
  },
  {
   "cell_type": "code",
   "execution_count": 9,
   "metadata": {},
   "outputs": [],
   "source": [
    "# Same process but include scientific entities from scispaCy models\n",
    "def standardizeSciTerms(abstract):\n",
    "    doc = nlpSci(abstract)\n",
    "    newAbstract = abstract\n",
    "    for e in reversed(doc.ents):\n",
    "        start = e.start_char\n",
    "        end = start + len(e.text)\n",
    "        newAbstract = newAbstract[:start] + e.label_ + newAbstract[end:]\n",
    "        \n",
    "    doc = nlpSci2(newAbstract)\n",
    "    for e in reversed(doc.ents):\n",
    "        start = e.start_char\n",
    "        end = start + len(e.text)\n",
    "        newAbstract = newAbstract[:start] + e.label_ + newAbstract[end:]\n",
    "    return newAbstract"
   ]
  },
  {
   "cell_type": "code",
   "execution_count": 10,
   "metadata": {
    "scrolled": false
   },
   "outputs": [],
   "source": [
    "#Turn abstract list into abstract list of sentences\n",
    "#Tokenize abstract into list of sentences -shows as list within list\n",
    "for i in range(len(abstracts)):\n",
    "    abstracts[i] = tokenize.sent_tokenize(abstracts[i])"
   ]
  },
  {
   "cell_type": "code",
   "execution_count": 12,
   "metadata": {
    "scrolled": true
   },
   "outputs": [
    {
     "name": "stdout",
     "output_type": "stream",
     "text": [
      "['<h4>Purpose review</h4>Charcot-Marie-Tooth disease (CMT) one commonest inherited neuromuscular diseases population prevalence 1 2500.', 'This review cover recent advances genetics pathomechanisms CMT leading development rational therapies.<h4>Recent findings</h4>Pathomechanistic therapeutic target advances CMT include identification ErbB receptor signalling pathway therapeutic target CMT1A pharmacological modification unfolded protein response CMT1B.', 'In CMT2D, due mutations glycyl-tRNA synthetase, vascular endothelial growth factor-mediated stimulation Nrp1 receptor identified therapeutic target.', 'Preclinical advances accompanied publication large natural history cohorts identification sensitive biomarker disease (muscle MRI) able detect disease progression CMT1A 1 year.<h4>Summary</h4>Advances next-generation sequencing technology, cell biology animal models CMT paving way rational treatments.', 'The combination robust natural history data identification sensitive biomarkers mean entering exciting therapeutic era field genetic neuropathies.']\n",
      "3rd sentence\n",
      "In CMT2D, due mutations glycyl-tRNA synthetase, vascular endothelial growth factor-mediated stimulation Nrp1 receptor identified therapeutic target.\n"
     ]
    }
   ],
   "source": [
    "print(abstracts[5])\n",
    "#print(abstracts[2])\n",
    "print('3rd sentence')\n",
    "print(abstracts[5][2])"
   ]
  },
  {
   "cell_type": "code",
   "execution_count": 13,
   "metadata": {},
   "outputs": [],
   "source": [
    "def isGeo(sentence):\n",
    "    doc = nlp(sentence)\n",
    "    # interate through the entities in the abstract\n",
    "    for ent in doc.ents:\n",
    "        if ent.label_ in {'GPE','LOC'}:\n",
    "            return True\n",
    "    return False"
   ]
  },
  {
   "cell_type": "code",
   "execution_count": 16,
   "metadata": {},
   "outputs": [],
   "source": [
    "def whereGeo(sentence):\n",
    "    locations = []\n",
    "    doc = nlp(sentence)\n",
    "    # interate through the entities in the sentence\n",
    "    for ent in doc.ents:\n",
    "        if ent.label_ in {'GPE','LOC'}:\n",
    "            locations.append(ent.text)\n",
    "    return locations"
   ]
  },
  {
   "cell_type": "code",
   "execution_count": null,
   "metadata": {},
   "outputs": [],
   "source": [
    "print(abstracts[5][8])\n",
    "location = whereGeo(abstracts[5][8])\n",
    "print(location)\n",
    "#abstracts[5][8] = whereGeo(abstracts[5][8])\n",
    "#print(abstracts[5][8][0])\n"
   ]
  },
  {
   "cell_type": "code",
   "execution_count": 14,
   "metadata": {},
   "outputs": [],
   "source": [
    "geopmids = []\n",
    "geosentences = []\n",
    "#Returns all of the sentences with location information\n",
    "i=1\n",
    "for abstract in abstracts:\n",
    "    for sentence in abstract:\n",
    "        if isGeo(sentence):\n",
    "            geopmids.append(pmids[i])\n",
    "            geosentences.append(sentence)\n",
    "    i+=1"
   ]
  },
  {
   "cell_type": "code",
   "execution_count": null,
   "metadata": {},
   "outputs": [],
   "source": [
    "#this one replaces all sentences with lists of the location data\n",
    "i=0\n",
    "j=0\n",
    "for abstract in abstracts:\n",
    "    for sentence in abstract:\n",
    "        abstracts[i][j] = whereGeo(str(sentence))\n",
    "        j+1\n",
    "    i+=1"
   ]
  },
  {
   "cell_type": "code",
   "execution_count": 17,
   "metadata": {},
   "outputs": [
    {
     "name": "stdout",
     "output_type": "stream",
     "text": [
      "0\n",
      "31218158\n",
      "In order ascertain current status challenges posed incidence prevalence rare diseases China, study teases data incidence prevalence 121 rare diseases listed <i>China's First List Rare Disease</i> provide rationales references development promotion rare-disease-related policies.\n",
      "['China']\n",
      "............................\n",
      "0\n",
      "31218158\n",
      "Data incidence/prevalence rare diseases China limited typically lack accuracy, uniformity, timeliness.\n",
      "['China']\n",
      "............................\n",
      "0\n",
      "31218158\n",
      "China recently initiated epidemiological studies rare diseases national regional level.\n",
      "['China']\n",
      "............................\n",
      "1\n",
      "33985607\n",
      "Epidemiological data human brucellosis Spain scarce.\n",
      "['Spain']\n",
      "............................\n",
      "1\n",
      "33985607\n",
      "The objective study assess epidemiological characteristics inpatient brucellosis Spain 1997 2015.\n",
      "['Spain']\n",
      "............................\n",
      "2\n",
      "33754462\n",
      "<h4>Background</h4>Few data available prevalence neural tube defects (NTDs) within different ethnic communities United Kingdom.\n",
      "['United Kingdom']\n",
      "............................\n",
      "2\n",
      "33754462\n",
      "This study aimed calculate prevalence estimates NTD-affected pregnancies, classified maternal ethnicity, explore variations prevalence might exist.<h4>Methods</h4>A cross-sectional study performed data regional congenital anomaly registers England Wales, NTD-affected pregnancies 2006 2011.\n",
      "['England Wales']\n",
      "............................\n",
      "3\n",
      "33748277\n",
      "Pseudoachondroplasia (PSACH) autosomal dominant skeletal dysplasia estimated incidence ~1/60000 characterized disproportionate short stature, brachydactyly, joint laxity, early-onset osteoarthritis.\n",
      "['Pseudoachondroplasia']\n",
      "............................\n",
      "6\n",
      "31788425\n",
      "<h4>Background</h4>The prevalence metabolic disease Nepal largely unknown.\n",
      "['Nepal']\n",
      "............................\n",
      "6\n",
      "31788425\n",
      "Most reported cases identified based clinical acumen, radiological histopathological findings.<h4>Conclusions</h4>Glucose 6 phosphate dehydrogenase deficiency, Wilson's disease lysosomal disorders considered early diagnosis newborn screening along acknowledged disorders hypothyroidism hemoglobinopathies Nepal.\n",
      "['Nepal']\n",
      "............................\n"
     ]
    }
   ],
   "source": [
    "locInfo = {}\n",
    "\n",
    "i=0\n",
    "for abstract in abstracts:\n",
    "    for sentence in abstract:\n",
    "        if isGeo(sentence):\n",
    "            if(i>6):\n",
    "                break\n",
    "            print(i)\n",
    "            print(pmids[i])\n",
    "            print(sentence)\n",
    "            print(whereGeo(sentence))\n",
    "            print('............................')\n",
    "            locInfo[pmids[i]]=whereGeo(sentence)\n",
    "            #pmidlocs.append(pmids[i])\n",
    "            #locInfo.append(whereGeo(str(sentence)))\n",
    "    i+=1"
   ]
  },
  {
   "cell_type": "code",
   "execution_count": 18,
   "metadata": {
    "scrolled": true
   },
   "outputs": [
    {
     "name": "stdout",
     "output_type": "stream",
     "text": [
      "{31218158: ['China'], 33985607: ['Spain'], 33754462: ['England Wales'], 33748277: ['Pseudoachondroplasia'], 31788425: ['Nepal']}\n"
     ]
    }
   ],
   "source": [
    "print(locInfo)"
   ]
  },
  {
   "cell_type": "code",
   "execution_count": 19,
   "metadata": {
    "scrolled": true
   },
   "outputs": [
    {
     "ename": "NameError",
     "evalue": "name 'pmidlocs' is not defined",
     "output_type": "error",
     "traceback": [
      "\u001b[1;31m---------------------------------------------------------------------------\u001b[0m",
      "\u001b[1;31mNameError\u001b[0m                                 Traceback (most recent call last)",
      "\u001b[1;32m<ipython-input-19-f1efc654b092>\u001b[0m in \u001b[0;36m<module>\u001b[1;34m\u001b[0m\n\u001b[1;32m----> 1\u001b[1;33m \u001b[0mprint\u001b[0m\u001b[1;33m(\u001b[0m\u001b[0mpmidlocs\u001b[0m\u001b[1;33m[\u001b[0m\u001b[1;36m0\u001b[0m\u001b[1;33m]\u001b[0m\u001b[1;33m)\u001b[0m\u001b[1;33m\u001b[0m\u001b[1;33m\u001b[0m\u001b[0m\n\u001b[0m\u001b[0;32m      2\u001b[0m \u001b[1;31m#print(abstracts[0])\u001b[0m\u001b[1;33m\u001b[0m\u001b[1;33m\u001b[0m\u001b[1;33m\u001b[0m\u001b[0m\n\u001b[0;32m      3\u001b[0m \u001b[1;31m#print(abstracts[0][0])\u001b[0m\u001b[1;33m\u001b[0m\u001b[1;33m\u001b[0m\u001b[1;33m\u001b[0m\u001b[0m\n\u001b[0;32m      4\u001b[0m \u001b[0mprint\u001b[0m\u001b[1;33m(\u001b[0m\u001b[0mlocInfo\u001b[0m\u001b[1;33m[\u001b[0m\u001b[1;36m0\u001b[0m\u001b[1;33m]\u001b[0m\u001b[1;33m)\u001b[0m\u001b[1;33m\u001b[0m\u001b[1;33m\u001b[0m\u001b[0m\n",
      "\u001b[1;31mNameError\u001b[0m: name 'pmidlocs' is not defined"
     ]
    }
   ],
   "source": [
    "print(pmidlocs[0])\n",
    "#print(abstracts[0])\n",
    "#print(abstracts[0][0])\n",
    "print(locInfo[0])"
   ]
  },
  {
   "cell_type": "code",
   "execution_count": 20,
   "metadata": {},
   "outputs": [
    {
     "name": "stdout",
     "output_type": "stream",
     "text": [
      "[\"In order ascertain current status challenges posed incidence prevalence rare diseases China, study teases data incidence prevalence 121 rare diseases listed <i>China's First List Rare Disease</i> provide rationales references development promotion rare-disease-related policies.\", \"The National Health Commission People's Republic China issued <i>Rare Disease Diagnosis Treatment Guide (2019)</i> (denoted <i>China's Rare Disease Diagnosis Treatment Guide</i>), cited data incidence/prevalence 21 rare diseases (21 121 rare diseases, 17.36%).\", 'Data 68 diseases (56.20%) found monographs, literature databases, official websites.', 'Data incidence/prevalence 70 diseases compiled, though data available 51 remaining diseases.', 'There published data incidence/prevalence 14 diseases national level.', 'Sources data incidence prevalence rare diseases mainly include cases counts hospitals (40.56%), sources data (24.48%), screening (20.98%), cross-sectional studies (8.39%), estimates models (7.69%).', 'Data incidence/prevalence rare diseases China limited typically lack accuracy, uniformity, timeliness.', 'Epidemiological data national level greatly lacking, data amenable comparison.', 'China recently initiated epidemiological studies rare diseases national regional level.', 'The country continue promote, use, update list common rare diseases, actively encourage coding registration cases rare diseases, take actions collect, share, use information.']\n",
      "----------\n",
      "In order ascertain current status challenges posed incidence prevalence rare diseases China, study teases data incidence prevalence 121 rare diseases listed <i>China's First List Rare Disease</i> provide rationales references development promotion rare-disease-related policies.\n",
      "----------\n",
      "I\n"
     ]
    }
   ],
   "source": [
    "print(abstracts[0])\n",
    "print('----------')\n",
    "print(abstracts[0][0])\n",
    "print('----------')\n",
    "print(abstracts[0][0][0])"
   ]
  },
  {
   "cell_type": "code",
   "execution_count": null,
   "metadata": {
    "scrolled": true
   },
   "outputs": [],
   "source": [
    "for i in range(len(geosentences)):\n",
    "    print(geopmids[1-i])\n",
    "    print(geosentences[1-i])"
   ]
  },
  {
   "cell_type": "code",
   "execution_count": null,
   "metadata": {},
   "outputs": [],
   "source": [
    "print(geopmids)\n",
    "print(geosentences)"
   ]
  },
  {
   "cell_type": "code",
   "execution_count": null,
   "metadata": {},
   "outputs": [],
   "source": []
  }
 ],
 "metadata": {
  "kernelspec": {
   "display_name": "Python 3",
   "language": "python",
   "name": "python3"
  },
  "language_info": {
   "codemirror_mode": {
    "name": "ipython",
    "version": 3
   },
   "file_extension": ".py",
   "mimetype": "text/x-python",
   "name": "python",
   "nbconvert_exporter": "python",
   "pygments_lexer": "ipython3",
   "version": "3.8.3"
  }
 },
 "nbformat": 4,
 "nbformat_minor": 4
}
