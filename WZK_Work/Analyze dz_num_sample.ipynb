{
 "cells": [
  {
   "cell_type": "code",
   "execution_count": 1,
   "id": "c977b4ea",
   "metadata": {},
   "outputs": [
    {
     "name": "stderr",
     "output_type": "stream",
     "text": [
      "2021-07-06 17:25:44.426795: W tensorflow/stream_executor/platform/default/dso_loader.cc:64] Could not load dynamic library 'libcudart.so.11.0'; dlerror: libcudart.so.11.0: cannot open shared object file: No such file or directory\n",
      "2021-07-06 17:25:44.426819: I tensorflow/stream_executor/cuda/cudart_stub.cc:29] Ignore above cudart dlerror if you do not have a GPU set up on your machine.\n"
     ]
    }
   ],
   "source": [
    "#Download any necessary datasets & dependencies, only need to do this once\n",
    "#import sys\n",
    "#!{sys.executable} -m pip install spacy\n",
    "#!{sys.executable} -m spacy download en_core_web_lg\n",
    "#!{sys.executable} -m pip install https://s3-us-west-2.amazonaws.com/ai2-s2-scispacy/releases/v0.4.0/en_ner_bc5cdr_md-0.4.0.tar.gz\n",
    "#!{sys.executable} -m pip install https://s3-us-west-2.amazonaws.com/ai2-s2-scispacy/releases/v0.4.0/en_ner_bionlp13cg_md-0.4.0.tar.gz\n",
    "#!{sys.executable} -m pip install numpy\n",
    "#!{sys.executable} -m pip install pandas\n",
    "#!{sys.executable} -m pip install requests\n",
    "#!{sys.executable} -m pip install matplotlib\n",
    "\n",
    "#Installing dependencies for classify_abs.py\n",
    "#!{sys.executable} -m pip install tensorflow\n",
    "#!{sys.executable} -m pip install nltk\n",
    "#import nltk\n",
    "#nltk.download('stopwords')\n",
    "#nltk.download('punkt')\n",
    "\n",
    "import numpy as np\n",
    "import pandas as pd\n",
    "import requests\n",
    "import xml.etree.ElementTree as ET\n",
    "import spacy\n",
    "import time\n",
    "import datetime\n",
    "from collections import OrderedDict\n",
    "import matplotlib.pyplot as plt; plt.rcdefaults()"
   ]
  },
  {
   "cell_type": "code",
   "execution_count": 2,
   "id": "0d0e4770",
   "metadata": {},
   "outputs": [],
   "source": [
    "df = pd.read_csv('whole_abstract_set.csv')"
   ]
  },
  {
   "cell_type": "code",
   "execution_count": 3,
   "id": "4e4f6eba",
   "metadata": {
    "scrolled": false
   },
   "outputs": [
    {
     "data": {
      "text/html": [
       "<div>\n",
       "<style scoped>\n",
       "    .dataframe tbody tr th:only-of-type {\n",
       "        vertical-align: middle;\n",
       "    }\n",
       "\n",
       "    .dataframe tbody tr th {\n",
       "        vertical-align: top;\n",
       "    }\n",
       "\n",
       "    .dataframe thead th {\n",
       "        text-align: right;\n",
       "    }\n",
       "</style>\n",
       "<table border=\"1\" class=\"dataframe\">\n",
       "  <thead>\n",
       "    <tr style=\"text-align: right;\">\n",
       "      <th></th>\n",
       "      <th>disease</th>\n",
       "      <th>pmid</th>\n",
       "      <th>abstract</th>\n",
       "      <th>epi_prob</th>\n",
       "      <th>is_epi</th>\n",
       "    </tr>\n",
       "  </thead>\n",
       "  <tbody>\n",
       "    <tr>\n",
       "      <th>9279</th>\n",
       "      <td>Cogan-Reese syndrome</td>\n",
       "      <td>33300272</td>\n",
       "      <td>Various methods have been described to treat n...</td>\n",
       "      <td>0.010466</td>\n",
       "      <td>False</td>\n",
       "    </tr>\n",
       "    <tr>\n",
       "      <th>9280</th>\n",
       "      <td>Cogan-Reese syndrome</td>\n",
       "      <td>33530790</td>\n",
       "      <td>&lt;h4&gt;Objective&lt;/h4&gt;To assess the therapeutic ef...</td>\n",
       "      <td>0.014457</td>\n",
       "      <td>False</td>\n",
       "    </tr>\n",
       "    <tr>\n",
       "      <th>9281</th>\n",
       "      <td>Cogan-Reese syndrome</td>\n",
       "      <td>33985356</td>\n",
       "      <td>Mayer-Rokitansky-Kuster-Hauser (MRKH) syndrome...</td>\n",
       "      <td>0.402330</td>\n",
       "      <td>False</td>\n",
       "    </tr>\n",
       "    <tr>\n",
       "      <th>9282</th>\n",
       "      <td>Cogan-Reese syndrome</td>\n",
       "      <td>33898257</td>\n",
       "      <td>Mayer-Rokitansky-Küster-Hauser (MRKH) syndrome...</td>\n",
       "      <td>0.012231</td>\n",
       "      <td>False</td>\n",
       "    </tr>\n",
       "    <tr>\n",
       "      <th>9283</th>\n",
       "      <td>Cogan-Reese syndrome</td>\n",
       "      <td>33461758</td>\n",
       "      <td>&lt;h4&gt;Objective&lt;/h4&gt;To introduce the minimally i...</td>\n",
       "      <td>0.014154</td>\n",
       "      <td>False</td>\n",
       "    </tr>\n",
       "  </tbody>\n",
       "</table>\n",
       "</div>"
      ],
      "text/plain": [
       "                   disease      pmid  \\\n",
       "9279  Cogan-Reese syndrome  33300272   \n",
       "9280  Cogan-Reese syndrome  33530790   \n",
       "9281  Cogan-Reese syndrome  33985356   \n",
       "9282  Cogan-Reese syndrome  33898257   \n",
       "9283  Cogan-Reese syndrome  33461758   \n",
       "\n",
       "                                               abstract  epi_prob  is_epi  \n",
       "9279  Various methods have been described to treat n...  0.010466   False  \n",
       "9280  <h4>Objective</h4>To assess the therapeutic ef...  0.014457   False  \n",
       "9281  Mayer-Rokitansky-Kuster-Hauser (MRKH) syndrome...  0.402330   False  \n",
       "9282  Mayer-Rokitansky-Küster-Hauser (MRKH) syndrome...  0.012231   False  \n",
       "9283  <h4>Objective</h4>To introduce the minimally i...  0.014154   False  "
      ]
     },
     "execution_count": 3,
     "metadata": {},
     "output_type": "execute_result"
    }
   ],
   "source": [
    "df.tail()"
   ]
  },
  {
   "cell_type": "code",
   "execution_count": 4,
   "id": "30a2c80c",
   "metadata": {},
   "outputs": [],
   "source": [
    "#create a dictionary of {disease name, number of epidemiological studies}\n",
    "dz_num = {}\n",
    "for row in df.iterrows():\n",
    "    if row[1][4]: #is_epi bool returned\n",
    "        if row[1][0] in dz_num.keys(): #Check if disease name is in dictionary\n",
    "            dz_num[row[1][0]]+=1\n",
    "        else:\n",
    "            dz_num[row[1][0]] = 1\n",
    "    elif row[1][0] not in dz_num.keys():\n",
    "            dz_num[row[1][0]] = 0"
   ]
  },
  {
   "cell_type": "code",
   "execution_count": 17,
   "id": "92d6c57a",
   "metadata": {
    "scrolled": true
   },
   "outputs": [
    {
     "data": {
      "image/png": "[encoded data removed]",
      "text/plain": [
       "<Figure size 640x480 with 1 Axes>"
      ]
     },
     "metadata": {},
     "output_type": "display_data"
    }
   ],
   "source": [
    "#Plot the figure\n",
    "objects = tuple(dz_num)\n",
    "performance = list(dz_num.values())\n",
    "\n",
    "fig = plt.figure()\n",
    "plt.ylabel('# of Diseases')\n",
    "plt.xlabel('# of Articles')\n",
    "plt.hist(performance)\n",
    "\n",
    "plt.show()"
   ]
  },
  {
   "cell_type": "code",
   "execution_count": 6,
   "id": "b2dce45b",
   "metadata": {},
   "outputs": [],
   "source": [
    "fig.savefig('DiseaseSampleEpi_Hist.png', dpi=400, bbox_inches='tight')"
   ]
  },
  {
   "cell_type": "code",
   "execution_count": 7,
   "id": "d4c17fdd",
   "metadata": {},
   "outputs": [],
   "source": [
    "zero, one, two, three, fourplus =0,0,0,0,0\n",
    "for k, v in dz_num.items():\n",
    "        if v>=4:\n",
    "            fourplus+=1\n",
    "        elif v==3:\n",
    "            three+=1\n",
    "        elif v==2:\n",
    "            two+=1\n",
    "        elif v==1:\n",
    "            one+=1\n",
    "        elif v==0:\n",
    "            zero+=1"
   ]
  },
  {
   "cell_type": "code",
   "execution_count": 8,
   "id": "27daeffb",
   "metadata": {},
   "outputs": [
    {
     "name": "stdout",
     "output_type": "stream",
     "text": [
      "141\n",
      "143\n",
      "89\n",
      "61\n",
      "54\n"
     ]
    }
   ],
   "source": [
    "print(zero)\n",
    "print(one)\n",
    "print(two)\n",
    "print(three)\n",
    "print(fourplus)"
   ]
  }
 ],
 "metadata": {
  "kernelspec": {
   "display_name": "Python 3 (ipykernel)",
   "language": "python",
   "name": "python3"
  },
  "language_info": {
   "codemirror_mode": {
    "name": "ipython",
    "version": 3
   },
   "file_extension": ".py",
   "mimetype": "text/x-python",
   "name": "python",
   "nbconvert_exporter": "python",
   "pygments_lexer": "ipython3",
   "version": "3.8.0"
  }
 },
 "nbformat": 4,
 "nbformat_minor": 5
}
