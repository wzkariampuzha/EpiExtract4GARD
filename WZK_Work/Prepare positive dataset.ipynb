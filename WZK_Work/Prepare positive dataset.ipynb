{
 "cells": [
  {
   "cell_type": "markdown",
   "metadata": {},
   "source": [
    "Prepare the positive dataset.\n",
    "1. Extract PubMed IDs from Orphanet epidemiology sources\n",
    "2. Get MeSH terms for each PubMed ID\n",
    "3. Add all articles with epidemiology, prevalence, or incidence MeSH terms to positive set"
   ]
  },
  {
   "cell_type": "code",
   "execution_count": 1,
   "metadata": {},
   "outputs": [],
   "source": [
    "import xml.etree.ElementTree as ET\n",
    "import re\n",
    "import requests\n",
    "from nltk.stem.wordnet import WordNetLemmatizer\n",
    "from bs4 import BeautifulSoup\n",
    "import string\n",
    "import json\n",
    "import numpy as np\n",
    "import pandas as pd\n",
    "from nltk.stem import PorterStemmer\n",
    "import spacy\n",
    "from spacy.lang.en import English\n",
    "#import sys\n",
    "#!{sys.executable} -m pip install scispacy\n",
    "#!{sys.executable} -m pip install https://s3-us-west-2.amazonaws.com/ai2-s2-scispacy/releases/v0.4.0/en_ner_bc5cdr_md-0.4.0.tar.gz \n",
    "nlpSci = spacy.load(\"en_ner_bc5cdr_md\")"
   ]
  },
  {
   "cell_type": "code",
   "execution_count": 2,
   "metadata": {
    "scrolled": true
   },
   "outputs": [],
   "source": [
    "tree = ET.parse('en_product9_prev-6.25.21.xml')\n",
    "root = tree.getroot()"
   ]
  },
  {
   "cell_type": "markdown",
   "metadata": {},
   "source": [
    "Determine number of sources with PubMed IDs compared to the total number of sources"
   ]
  },
  {
   "cell_type": "code",
   "execution_count": 3,
   "metadata": {},
   "outputs": [],
   "source": [
    "num_pmids = 0\n",
    "c = 0\n",
    "for child in root.iter('*'):\n",
    "    if child.tag == 'Source':\n",
    "        c+=1 #send Jennifer a pull request for the bug below. child.text needs to be str()\n",
    "        if 'PMID' in str(child.text):\n",
    "            pmids = re.findall('\\d{6,8}', child.text)\n",
    "            for pmid in pmids:\n",
    "                num_pmids+=1\n",
    "                c+=1"
   ]
  },
  {
   "cell_type": "code",
   "execution_count": 4,
   "metadata": {},
   "outputs": [
    {
     "data": {
      "text/plain": [
       "(10823, 26233)"
      ]
     },
     "execution_count": 4,
     "metadata": {},
     "output_type": "execute_result"
    }
   ],
   "source": [
    "num_pmids, c"
   ]
  },
  {
   "cell_type": "markdown",
   "metadata": {},
   "source": [
    "Assemble set of pmids for epidemiology studies (prev_pmids)"
   ]
  },
  {
   "cell_type": "code",
   "execution_count": 5,
   "metadata": {
    "scrolled": true
   },
   "outputs": [
    {
     "name": "stdout",
     "output_type": "stream",
     "text": [
      "num articles: 100 num epi mesh: 23 any mesh: 50\n",
      "num articles: 200 num epi mesh: 56 any mesh: 91\n",
      "num articles: 300 num epi mesh: 67 any mesh: 108\n",
      "num articles: 400 num epi mesh: 103 any mesh: 161\n",
      "num articles: 500 num epi mesh: 155 any mesh: 221\n",
      "num articles: 600 num epi mesh: 188 any mesh: 262\n",
      "num articles: 700 num epi mesh: 216 any mesh: 304\n",
      "num articles: 800 num epi mesh: 252 any mesh: 357\n",
      "num articles: 900 num epi mesh: 282 any mesh: 416\n",
      "num articles: 1000 num epi mesh: 320 any mesh: 474\n",
      "num articles: 1100 num epi mesh: 344 any mesh: 520\n",
      "num articles: 1200 num epi mesh: 357 any mesh: 561\n",
      "num articles: 1300 num epi mesh: 394 any mesh: 617\n",
      "num articles: 1400 num epi mesh: 417 any mesh: 662\n",
      "num articles: 1500 num epi mesh: 453 any mesh: 718\n",
      "num articles: 1600 num epi mesh: 474 any mesh: 754\n",
      "num articles: 1700 num epi mesh: 524 any mesh: 816\n",
      "num articles: 1800 num epi mesh: 577 any mesh: 878\n",
      "num articles: 1900 num epi mesh: 613 any mesh: 921\n",
      "num articles: 2000 num epi mesh: 649 any mesh: 967\n",
      "num articles: 2100 num epi mesh: 674 any mesh: 1004\n",
      "num articles: 2200 num epi mesh: 720 any mesh: 1063\n",
      "num articles: 2300 num epi mesh: 748 any mesh: 1095\n",
      "num articles: 2400 num epi mesh: 791 any mesh: 1150\n",
      "num articles: 2500 num epi mesh: 830 any mesh: 1208\n",
      "num articles: 2600 num epi mesh: 852 any mesh: 1248\n",
      "num articles: 2700 num epi mesh: 857 any mesh: 1274\n",
      "num articles: 2800 num epi mesh: 859 any mesh: 1292\n",
      "num articles: 2900 num epi mesh: 861 any mesh: 1330\n",
      "num articles: 3000 num epi mesh: 864 any mesh: 1360\n",
      "num articles: 3100 num epi mesh: 866 any mesh: 1393\n",
      "num articles: 3200 num epi mesh: 866 any mesh: 1440\n",
      "num articles: 3300 num epi mesh: 866 any mesh: 1474\n",
      "num articles: 3400 num epi mesh: 868 any mesh: 1504\n",
      "num articles: 3500 num epi mesh: 868 any mesh: 1525\n",
      "num articles: 3600 num epi mesh: 871 any mesh: 1556\n",
      "num articles: 3700 num epi mesh: 878 any mesh: 1594\n",
      "num articles: 3800 num epi mesh: 880 any mesh: 1614\n",
      "num articles: 3900 num epi mesh: 881 any mesh: 1649\n",
      "num articles: 4000 num epi mesh: 884 any mesh: 1680\n",
      "num articles: 4100 num epi mesh: 888 any mesh: 1718\n",
      "num articles: 4200 num epi mesh: 896 any mesh: 1754\n",
      "num articles: 4300 num epi mesh: 898 any mesh: 1778\n",
      "num articles: 4400 num epi mesh: 899 any mesh: 1808\n",
      "num articles: 4500 num epi mesh: 902 any mesh: 1832\n",
      "num articles: 4600 num epi mesh: 913 any mesh: 1861\n",
      "num articles: 4700 num epi mesh: 915 any mesh: 1890\n",
      "num articles: 4800 num epi mesh: 916 any mesh: 1923\n",
      "num articles: 4900 num epi mesh: 921 any mesh: 1954\n",
      "num articles: 5000 num epi mesh: 939 any mesh: 1990\n",
      "num articles: 5100 num epi mesh: 942 any mesh: 2016\n",
      "num articles: 5200 num epi mesh: 954 any mesh: 2056\n",
      "num articles: 5300 num epi mesh: 978 any mesh: 2098\n",
      "num articles: 5400 num epi mesh: 993 any mesh: 2148\n",
      "num articles: 5500 num epi mesh: 1008 any mesh: 2180\n",
      "num articles: 5600 num epi mesh: 1033 any mesh: 2224\n",
      "num articles: 5700 num epi mesh: 1041 any mesh: 2275\n",
      "num articles: 5800 num epi mesh: 1046 any mesh: 2327\n",
      "num articles: 5900 num epi mesh: 1046 any mesh: 2399\n",
      "num articles: 6000 num epi mesh: 1048 any mesh: 2455\n",
      "num articles: 6100 num epi mesh: 1055 any mesh: 2509\n",
      "num articles: 6200 num epi mesh: 1057 any mesh: 2550\n",
      "num articles: 6300 num epi mesh: 1063 any mesh: 2599\n",
      "num articles: 6400 num epi mesh: 1084 any mesh: 2649\n",
      "num articles: 6500 num epi mesh: 1085 any mesh: 2691\n",
      "num articles: 6600 num epi mesh: 1091 any mesh: 2728\n",
      "num articles: 6700 num epi mesh: 1098 any mesh: 2781\n",
      "num articles: 6800 num epi mesh: 1100 any mesh: 2816\n",
      "num articles: 6900 num epi mesh: 1112 any mesh: 2869\n",
      "num articles: 7000 num epi mesh: 1113 any mesh: 2936\n",
      "num articles: 7100 num epi mesh: 1115 any mesh: 3000\n",
      "num articles: 7200 num epi mesh: 1117 any mesh: 3062\n",
      "num articles: 7300 num epi mesh: 1123 any mesh: 3121\n",
      "num articles: 7400 num epi mesh: 1129 any mesh: 3169\n",
      "num articles: 7500 num epi mesh: 1130 any mesh: 3214\n",
      "num articles: 7600 num epi mesh: 1132 any mesh: 3271\n",
      "num articles: 7700 num epi mesh: 1134 any mesh: 3327\n",
      "num articles: 7800 num epi mesh: 1153 any mesh: 3384\n",
      "num articles: 7900 num epi mesh: 1159 any mesh: 3442\n",
      "num articles: 8000 num epi mesh: 1174 any mesh: 3498\n",
      "num articles: 8100 num epi mesh: 1187 any mesh: 3542\n",
      "num articles: 8200 num epi mesh: 1196 any mesh: 3606\n",
      "num articles: 8300 num epi mesh: 1196 any mesh: 3670\n",
      "num articles: 8400 num epi mesh: 1219 any mesh: 3721\n",
      "num articles: 8500 num epi mesh: 1228 any mesh: 3766\n",
      "num articles: 8600 num epi mesh: 1240 any mesh: 3799\n",
      "num articles: 8700 num epi mesh: 1249 any mesh: 3847\n",
      "num articles: 8800 num epi mesh: 1264 any mesh: 3894\n",
      "num articles: 8900 num epi mesh: 1292 any mesh: 3956\n",
      "num articles: 9000 num epi mesh: 1303 any mesh: 4000\n",
      "num articles: 9100 num epi mesh: 1319 any mesh: 4058\n",
      "num articles: 9200 num epi mesh: 1338 any mesh: 4118\n",
      "num articles: 9300 num epi mesh: 1349 any mesh: 4165\n",
      "num articles: 9400 num epi mesh: 1361 any mesh: 4217\n",
      "num articles: 9500 num epi mesh: 1380 any mesh: 4255\n",
      "num articles: 9600 num epi mesh: 1387 any mesh: 4269\n",
      "num articles: 9700 num epi mesh: 1388 any mesh: 4311\n",
      "num articles: 9800 num epi mesh: 1404 any mesh: 4354\n",
      "num articles: 9900 num epi mesh: 1421 any mesh: 4393\n",
      "num articles: 10000 num epi mesh: 1438 any mesh: 4446\n",
      "num articles: 10100 num epi mesh: 1446 any mesh: 4468\n",
      "num articles: 10200 num epi mesh: 1460 any mesh: 4499\n",
      "num articles: 10300 num epi mesh: 1461 any mesh: 4500\n",
      "num articles: 10400 num epi mesh: 1464 any mesh: 4504\n",
      "num articles: 10500 num epi mesh: 1476 any mesh: 4538\n",
      "num articles: 10600 num epi mesh: 1489 any mesh: 4583\n",
      "num articles: 10700 num epi mesh: 1495 any mesh: 4632\n",
      "num articles: 10800 num epi mesh: 1509 any mesh: 4689\n"
     ]
    }
   ],
   "source": [
    "prev_pmids = set()\n",
    "i = 0\n",
    "any_tags = 0 # number of articles with any MeSH tags (not just epidemiology)\n",
    "for child in root.iter('*'):\n",
    "    if child.tag == 'Source' and 'PMID' in str(child.text):\n",
    "        pmids = re.findall('\\d{6,8}', child.text)\n",
    "        for pmid in pmids:\n",
    "            i += 1\n",
    "            if pmid not in prev_pmids:\n",
    "                #Need to have a dataset of used pmids because Orphanet cites the same pmids multiple times\n",
    "                is_case = False # is case report\n",
    "                hasMesh = False # has epidemiology MeSH terms\n",
    "                anyMesh = False # has any MeSH terms\n",
    "            \n",
    "                #Get publication info(abstract+MeSH) from EBI RESTful API\n",
    "                url = 'https://www.ebi.ac.uk/europepmc/webservices/rest/search?query=EXT_ID:'+pmid+'&resulttype=core'\n",
    "                r = requests.get(url)\n",
    "                pub_root = ET.fromstring(r.content)\n",
    "                            \n",
    "                for child in pub_root.iter('*'):\n",
    "                    if 'mesh' in child.tag:\n",
    "                        anyMesh = True\n",
    "                    if child.tag == 'qualifierName' or child.tag == 'descriptorName':\n",
    "                        if child.text.lower() in {'prevalence','epidemiology','incidence'}:\n",
    "                            hasMesh = True\n",
    "                    # exclude case reports\n",
    "                    if child.tag == 'pubType':\n",
    "                        if child.text == 'Case Reports':\n",
    "                            is_case = True\n",
    "                            break\n",
    "                if anyMesh:\n",
    "                    any_tags += 1\n",
    "                if hasMesh and not is_case:\n",
    "                    prev_pmids.add(pmid)\n",
    "                    \n",
    "            if i % 100 == 0:\n",
    "                print('num articles:',i, 'num epi mesh:', len(prev_pmids), 'any mesh:',any_tags)"
   ]
  },
  {
   "cell_type": "code",
   "execution_count": 6,
   "metadata": {},
   "outputs": [
    {
     "data": {
      "text/plain": [
       "4697"
      ]
     },
     "execution_count": 6,
     "metadata": {},
     "output_type": "execute_result"
    }
   ],
   "source": [
    "any_tags"
   ]
  },
  {
   "cell_type": "code",
   "execution_count": 7,
   "metadata": {
    "scrolled": true
   },
   "outputs": [
    {
     "data": {
      "text/plain": [
       "1510"
      ]
     },
     "execution_count": 7,
     "metadata": {},
     "output_type": "execute_result"
    }
   ],
   "source": [
    "len(prev_pmids)"
   ]
  },
  {
   "cell_type": "code",
   "execution_count": 8,
   "metadata": {},
   "outputs": [],
   "source": [
    "pos_results_mesh = pd.DataFrame(columns=['pmid'])"
   ]
  },
  {
   "cell_type": "code",
   "execution_count": 9,
   "metadata": {},
   "outputs": [],
   "source": [
    "pos_results_mesh['pmid'] = list(prev_pmids)"
   ]
  },
  {
   "cell_type": "code",
   "execution_count": 10,
   "metadata": {},
   "outputs": [],
   "source": [
    "pos_results_mesh.to_csv('orphanet_epi_mesh-6.26.21.csv', index=False, encoding='utf-8')"
   ]
  },
  {
   "cell_type": "markdown",
   "metadata": {},
   "source": [
    "Add abstract column to the dataframe"
   ]
  },
  {
   "cell_type": "code",
   "execution_count": 11,
   "metadata": {},
   "outputs": [],
   "source": [
    "def getAbs(pmid):\n",
    "    url = 'https://www.ebi.ac.uk/europepmc/webservices/rest/search?query=EXT_ID:'+str(pmid)+'&resulttype=core'\n",
    "    r = requests.get(url)\n",
    "    root = ET.fromstring(r.content)\n",
    "    \n",
    "    results = [abstract.text for abstract in root.iter('abstractText')]\n",
    "    \n",
    "    if len(results) > 0:\n",
    "        return results[0]\n",
    "    else:\n",
    "        return ''"
   ]
  },
  {
   "cell_type": "code",
   "execution_count": 12,
   "metadata": {},
   "outputs": [],
   "source": [
    "orphanet_epi_mesh= pd.read_csv('orphanet_epi_mesh-6.26.21.csv')"
   ]
  },
  {
   "cell_type": "code",
   "execution_count": 13,
   "metadata": {
    "scrolled": true
   },
   "outputs": [
    {
     "name": "stdout",
     "output_type": "stream",
     "text": [
      "0\n",
      "50\n",
      "100\n",
      "150\n",
      "200\n",
      "250\n",
      "300\n",
      "350\n",
      "400\n",
      "450\n",
      "500\n",
      "550\n",
      "600\n",
      "650\n",
      "700\n",
      "750\n",
      "800\n",
      "850\n",
      "900\n",
      "950\n",
      "1000\n",
      "1050\n",
      "1100\n",
      "1150\n",
      "1200\n",
      "1250\n",
      "1300\n",
      "1350\n",
      "1400\n",
      "1450\n",
      "1500\n"
     ]
    }
   ],
   "source": [
    "abstracts = []\n",
    "for i,row in orphanet_epi_mesh.iterrows():\n",
    "    if i%50 == 0:\n",
    "        print(i)\n",
    "    abstracts.append(getAbs(row['pmid']))"
   ]
  },
  {
   "cell_type": "code",
   "execution_count": 14,
   "metadata": {
    "scrolled": true
   },
   "outputs": [],
   "source": [
    "orphanet_epi_mesh['abstract'] = abstracts\n",
    "orphanet_epi_mesh['abstract'].replace('', np.nan, inplace=True)\n",
    "orphanet_epi_mesh.dropna(inplace=True)"
   ]
  },
  {
   "cell_type": "code",
   "execution_count": 15,
   "metadata": {},
   "outputs": [],
   "source": [
    "orphanet_epi_mesh.to_csv('positive_dataset.csv', index=False, encoding='utf-8')"
   ]
  },
  {
   "cell_type": "markdown",
   "metadata": {},
   "source": [
    "Option to add articles from searches for rare disease names that have epidemiology MeSH terms. (Resulted in poorer performance from my testing.)"
   ]
  },
  {
   "cell_type": "code",
   "execution_count": null,
   "metadata": {},
   "outputs": [],
   "source": [
    "# get list of all rare disease names on GARD\n",
    "with open('records.json') as f:\n",
    "    records = json.load(f)\n",
    "    \n",
    "disorders = set()\n",
    "\n",
    "for entry in records:\n",
    "    disorders.add(entry['GARD_Name'])"
   ]
  },
  {
   "cell_type": "code",
   "execution_count": null,
   "metadata": {
    "scrolled": true
   },
   "outputs": [],
   "source": [
    "j=0\n",
    "keywords = {'prevalence','epidemiology','incidence'}\n",
    "all_disorders_mesh = pd.DataFrame(columns=['pmid', 'abstract'])\n",
    "for dz in disorders:\n",
    "    if j%50 == 0:\n",
    "        print(j, len(pos_results_disorders))\n",
    "    j+=1\n",
    "    \n",
    "    # get results from searching for rare disease name through EBI API\n",
    "    term = ''\n",
    "    dz_words = dz.split()\n",
    "    for word in dz_words:\n",
    "        term += word + '%20'\n",
    "    query = term[:-3]\n",
    "    url = 'https://www.ebi.ac.uk/europepmc/webservices/rest/search?query='+query+'&resulttype=core'\n",
    "    r = requests.get(url)\n",
    "    root = ET.fromstring(r.content)\n",
    "    \n",
    "    pmid_to_abs = {}\n",
    "    \n",
    "    for result in root.iter('result'):\n",
    "        pmids = [pmid.text for pmid in result.iter('id')]\n",
    "        if len(pmids) > 0:\n",
    "            pmid = pmids[0]\n",
    "            if pmid[0].isdigit():\n",
    "                abstracts = [abstract.text for abstract in result.iter('abstractText')]\n",
    "                if len(abstracts) > 0:\n",
    "                    mesh = set(mesh.text.lower() for mesh in result.iter('descriptorName'))\n",
    "                    mesh2 = set(mesh.text.lower() for mesh in result.iter('qualifierName'))\n",
    "                    # add the pmid if its article has epidemiology MeSH terms\n",
    "                    if len(mesh & keywords) != 0 or len(mesh2 & keywords) != 0:\n",
    "                        all_disorders_mesh = all_disorders_mesh.append({'pmid':pmid, 'abstract':abstracts[0]}\n",
    "                                         , ignore_index=True)\n",
    "    \n",
    "\n",
    "        \n",
    "    "
   ]
  },
  {
   "cell_type": "code",
   "execution_count": null,
   "metadata": {},
   "outputs": [],
   "source": [
    "all_disorders_mesh.to_csv('all_disorders_mesh.csv', index=False, encoding='utf-8')"
   ]
  },
  {
   "cell_type": "code",
   "execution_count": null,
   "metadata": {},
   "outputs": [],
   "source": [
    "all_disorders_mesh = pd.read_csv('all_disorders_mesh.csv')"
   ]
  },
  {
   "cell_type": "code",
   "execution_count": null,
   "metadata": {},
   "outputs": [],
   "source": [
    "combined = pd.concat([all_disorders_mesh, orphanet_epi_mesh]).reset_index(drop=True)"
   ]
  },
  {
   "cell_type": "code",
   "execution_count": null,
   "metadata": {},
   "outputs": [],
   "source": [
    "combined.to_csv('all_mesh.csv', index=False, encoding='utf-8')"
   ]
  },
  {
   "cell_type": "code",
   "execution_count": null,
   "metadata": {},
   "outputs": [],
   "source": []
  }
 ],
 "metadata": {
  "kernelspec": {
   "display_name": "Python 3",
   "language": "python",
   "name": "python3"
  },
  "language_info": {
   "codemirror_mode": {
    "name": "ipython",
    "version": 3
   },
   "file_extension": ".py",
   "mimetype": "text/x-python",
   "name": "python",
   "nbconvert_exporter": "python",
   "pygments_lexer": "ipython3",
   "version": "3.8.3"
  }
 },
 "nbformat": 4,
 "nbformat_minor": 4
}
