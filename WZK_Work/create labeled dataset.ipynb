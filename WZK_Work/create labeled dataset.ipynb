{
 "cells": [
  {
   "cell_type": "code",
   "execution_count": 1,
   "id": "d54d5046",
   "metadata": {},
   "outputs": [
    {
     "name": "stderr",
     "output_type": "stream",
     "text": [
      "2021-07-19 15:27:58.887862: W tensorflow/stream_executor/platform/default/dso_loader.cc:64] Could not load dynamic library 'libcudart.so.11.0'; dlerror: libcudart.so.11.0: cannot open shared object file: No such file or directory\n",
      "2021-07-19 15:27:58.887886: I tensorflow/stream_executor/cuda/cudart_stub.cc:29] Ignore above cudart dlerror if you do not have a GPU set up on your machine.\n"
     ]
    }
   ],
   "source": [
    "#Download all dependencies, only need to do this once\n",
    "#import sys\n",
    "#!{sys.executable} -m pip install spacy\n",
    "#!{sys.executable} -m spacy download en_core_web_lg\n",
    "#!{sys.executable} -m pip install https://s3-us-west-2.amazonaws.com/ai2-s2-scispacy/releases/v0.4.0/en_ner_bc5cdr_md-0.4.0.tar.gz\n",
    "#!{sys.executable} -m pip install https://s3-us-west-2.amazonaws.com/ai2-s2-scispacy/releases/v0.4.0/en_ner_bionlp13cg_md-0.4.0.tar.gz\n",
    "\n",
    "import nltk\n",
    "#nltk.download('stopwords')\n",
    "#nltk.download('punkt')\n",
    "from nltk.corpus import stopwords\n",
    "from nltk import tokenize\n",
    "STOPWORDS = set(stopwords.words('english'))\n",
    "import csv\n",
    "import spacy\n",
    "\n",
    "import numpy as np\n",
    "import pandas as pd"
   ]
  },
  {
   "cell_type": "code",
   "execution_count": 2,
   "id": "e81526af",
   "metadata": {
    "scrolled": true
   },
   "outputs": [
    {
     "data": {
      "text/html": [
       "<div>\n",
       "<style scoped>\n",
       "    .dataframe tbody tr th:only-of-type {\n",
       "        vertical-align: middle;\n",
       "    }\n",
       "\n",
       "    .dataframe tbody tr th {\n",
       "        vertical-align: top;\n",
       "    }\n",
       "\n",
       "    .dataframe thead th {\n",
       "        text-align: right;\n",
       "    }\n",
       "</style>\n",
       "<table border=\"1\" class=\"dataframe\">\n",
       "  <thead>\n",
       "    <tr style=\"text-align: right;\">\n",
       "      <th></th>\n",
       "      <th>disease</th>\n",
       "      <th>pmid</th>\n",
       "      <th>abstract</th>\n",
       "      <th>epi_prob</th>\n",
       "      <th>is_epi</th>\n",
       "    </tr>\n",
       "  </thead>\n",
       "  <tbody>\n",
       "    <tr>\n",
       "      <th>0</th>\n",
       "      <td>Deafness, autosomal dominant nonsyndromic sens...</td>\n",
       "      <td>33962637</td>\n",
       "      <td>&lt;h4&gt;Background&lt;/h4&gt;The incidence of hydrocepha...</td>\n",
       "      <td>0.998725</td>\n",
       "      <td>True</td>\n",
       "    </tr>\n",
       "    <tr>\n",
       "      <th>1</th>\n",
       "      <td>Anencephaly and spina bifida X-linked</td>\n",
       "      <td>33962637</td>\n",
       "      <td>&lt;h4&gt;Background&lt;/h4&gt;The incidence of hydrocepha...</td>\n",
       "      <td>0.998725</td>\n",
       "      <td>True</td>\n",
       "    </tr>\n",
       "    <tr>\n",
       "      <th>2</th>\n",
       "      <td>Methylmalonic aciduria, cblB type</td>\n",
       "      <td>33990817</td>\n",
       "      <td>&lt;h4&gt;Introduction&lt;/h4&gt;Limited data are availabl...</td>\n",
       "      <td>0.998415</td>\n",
       "      <td>True</td>\n",
       "    </tr>\n",
       "    <tr>\n",
       "      <th>3</th>\n",
       "      <td>Doyne honeycomb retinal dystrophy</td>\n",
       "      <td>33712046</td>\n",
       "      <td>Juvenile Idiopathic Arthritis is one of the mo...</td>\n",
       "      <td>0.998407</td>\n",
       "      <td>True</td>\n",
       "    </tr>\n",
       "    <tr>\n",
       "      <th>4</th>\n",
       "      <td>Malonyl-CoA decarboxylase deficiency</td>\n",
       "      <td>33185984</td>\n",
       "      <td>&lt;h4&gt;Aim&lt;/h4&gt;To investigate the point prevalenc...</td>\n",
       "      <td>0.998325</td>\n",
       "      <td>True</td>\n",
       "    </tr>\n",
       "    <tr>\n",
       "      <th>...</th>\n",
       "      <td>...</td>\n",
       "      <td>...</td>\n",
       "      <td>...</td>\n",
       "      <td>...</td>\n",
       "      <td>...</td>\n",
       "    </tr>\n",
       "    <tr>\n",
       "      <th>750</th>\n",
       "      <td>CD4 deficiency</td>\n",
       "      <td>34128866</td>\n",
       "      <td>&lt;h4&gt;Abstract&lt;/h4&gt;Previous studies have suggest...</td>\n",
       "      <td>0.519289</td>\n",
       "      <td>True</td>\n",
       "    </tr>\n",
       "    <tr>\n",
       "      <th>751</th>\n",
       "      <td>Muscle eye brain disease</td>\n",
       "      <td>31344241</td>\n",
       "      <td>&lt;h4&gt;Background and objective&lt;/h4&gt;To understand...</td>\n",
       "      <td>0.514754</td>\n",
       "      <td>True</td>\n",
       "    </tr>\n",
       "    <tr>\n",
       "      <th>752</th>\n",
       "      <td>Enchondromatosis dwarfism deafness</td>\n",
       "      <td>32355641</td>\n",
       "      <td>Anticancer drug nephrotoxicity is an important...</td>\n",
       "      <td>0.512264</td>\n",
       "      <td>True</td>\n",
       "    </tr>\n",
       "    <tr>\n",
       "      <th>753</th>\n",
       "      <td>Severe congenital neutropenia autosomal dominant</td>\n",
       "      <td>33554218</td>\n",
       "      <td>Coronavirus disease 2019 (COVID-19) is emergin...</td>\n",
       "      <td>0.511204</td>\n",
       "      <td>True</td>\n",
       "    </tr>\n",
       "    <tr>\n",
       "      <th>754</th>\n",
       "      <td>Palindromic rheumatism</td>\n",
       "      <td>33780753</td>\n",
       "      <td>To date, retinal implants are the only availab...</td>\n",
       "      <td>0.500894</td>\n",
       "      <td>True</td>\n",
       "    </tr>\n",
       "  </tbody>\n",
       "</table>\n",
       "<p>755 rows × 5 columns</p>\n",
       "</div>"
      ],
      "text/plain": [
       "                                               disease      pmid  \\\n",
       "0    Deafness, autosomal dominant nonsyndromic sens...  33962637   \n",
       "1                Anencephaly and spina bifida X-linked  33962637   \n",
       "2                    Methylmalonic aciduria, cblB type  33990817   \n",
       "3                    Doyne honeycomb retinal dystrophy  33712046   \n",
       "4                 Malonyl-CoA decarboxylase deficiency  33185984   \n",
       "..                                                 ...       ...   \n",
       "750                                     CD4 deficiency  34128866   \n",
       "751                           Muscle eye brain disease  31344241   \n",
       "752                 Enchondromatosis dwarfism deafness  32355641   \n",
       "753   Severe congenital neutropenia autosomal dominant  33554218   \n",
       "754                             Palindromic rheumatism  33780753   \n",
       "\n",
       "                                              abstract  epi_prob  is_epi  \n",
       "0    <h4>Background</h4>The incidence of hydrocepha...  0.998725    True  \n",
       "1    <h4>Background</h4>The incidence of hydrocepha...  0.998725    True  \n",
       "2    <h4>Introduction</h4>Limited data are availabl...  0.998415    True  \n",
       "3    Juvenile Idiopathic Arthritis is one of the mo...  0.998407    True  \n",
       "4    <h4>Aim</h4>To investigate the point prevalenc...  0.998325    True  \n",
       "..                                                 ...       ...     ...  \n",
       "750  <h4>Abstract</h4>Previous studies have suggest...  0.519289    True  \n",
       "751  <h4>Background and objective</h4>To understand...  0.514754    True  \n",
       "752  Anticancer drug nephrotoxicity is an important...  0.512264    True  \n",
       "753  Coronavirus disease 2019 (COVID-19) is emergin...  0.511204    True  \n",
       "754  To date, retinal implants are the only availab...  0.500894    True  \n",
       "\n",
       "[755 rows x 5 columns]"
      ]
     },
     "execution_count": 2,
     "metadata": {},
     "output_type": "execute_result"
    }
   ],
   "source": [
    "df = pd.read_csv(\"positive_abstract_set.csv\")\n",
    "df"
   ]
  },
  {
   "cell_type": "code",
   "execution_count": 3,
   "id": "e5f6e4ac",
   "metadata": {},
   "outputs": [],
   "source": [
    "abstracts = []\n",
    "pmids = []\n",
    "\n",
    "with open(\"positive_abstract_set.csv\", newline='', encoding ='utf-8') as csvfile:\n",
    "    reader = csv.reader(csvfile, delimiter=',')\n",
    "    next(reader)\n",
    "    for row in reader:\n",
    "        abstract = row[2]\n",
    "        # Remove stopwords\n",
    "        for word in STOPWORDS:\n",
    "            token = ' ' + word + ' '\n",
    "            abstract = abstract.replace(token, ' ')\n",
    "            abstract = abstract.replace(' ', ' ')\n",
    "        # Only keep the article if the abstract has more than 5 chars, and it's not one of the curator articles\n",
    "        if len(abstract)>5:\n",
    "            abstracts.append(abstract)\n",
    "            pmids.append(row[1])"
   ]
  },
  {
   "cell_type": "code",
   "execution_count": null,
   "id": "d301f1cd",
   "metadata": {},
   "outputs": [],
   "source": [
    "def remove_stopwords(string):\n",
    "    for word in STOPWORDS:\n",
    "        token = ' ' + word + ' '\n",
    "        string = string.replace(token, ' ')\n",
    "        string = string.strip()\n",
    "    return string"
   ]
  },
  {
   "cell_type": "code",
   "execution_count": null,
   "id": "859da192",
   "metadata": {},
   "outputs": [],
   "source": [
    "abstracts =[]\n",
    "for paragraph in df['abstract']:\n",
    "    paragraph = remove_stopwords(paragraph)\n",
    "    abstracts.append(paragraph)"
   ]
  },
  {
   "cell_type": "code",
   "execution_count": 4,
   "id": "b333e7e6",
   "metadata": {},
   "outputs": [
    {
     "name": "stdout",
     "output_type": "stream",
     "text": [
      "0.9982064962387085\n",
      "Neuroendocrine tumors (NETs) rare neoplasms, estimated annual incidence 6.9/100 000. They arise cells diffuse endocrine system, mainly dispersed throughout gastrointestinal (GI), pancreatic, respiratory tracts. The incidence GI-NETs recently begun show steady increase. According Surveillance, Epidemiology, End Results database, 53% patients NETs present localized disease, 20% locoregional disease, 27% distant metastases time diagnosis. Surgery mainstay treatment locoregional GI-NETs. Endoscopic resection option well-differentiated early GI-NETs, thought rarely metastasize lymph nodes. A lesion technically difficult resect via endoscopy indication local resection (partial resection without lymph node dissection). GI-NETs possible lymph node metastasis indication enterectomy lymph node dissection. For NETs metastatic lesions, cytoreduction surgery control hormonal hypersecretion alleviate symptoms; therefore, cytoreduction surgery recommended. The indications surgery vary based organ NET arose; therefore, understanding patient's clinical state individualized treatment based characteristics patient's GI-NET needed. This review summarizes surgical treatments GI-NETs organ.\n",
      "0.9981799125671387\n",
      "<h4>Background</h4>Most epidemiological data vitiligo refer selected environments focus prevalence comorbidity unrelated population.<h4>Objective</h4>Aim study gain robust representative prevalence data vitiligo associated dermatologic comorbidity German adult population.<h4>Methods</h4>A dual population-based approach applied 1) primary data obtained 2004 2014 dermatological exams general working population; 2) claims data large German statutory health insurance, reference year 2010.<h4>Results</h4>In working cohort (N = 121,783; 57% male; mean age 43 years), prevalence vitiligo 0.77% (0.84% men; 0.67% women). In claims data (N = 1,619,678; 38% male; mean age 46 years), prevalence 0.17% (0.14% men; 0.18% women). In working cohort, vitiligo significantly common people fair skin type, ephelides port-wine stains less common people acne solar lentigines. In claims data, vitiligo associated variety skin conditions, eg, atopic dermatitis, psoriasis alopecia areata.<h4>Conclusion</h4>The resulting discrepancy claims vs primary data 0.17% 0.77% indicates probable spectrum vitiligo prevalence Germany. It frequently observed clinical exams recorded claims data, indicating marked proportion people seeking medical help. Such nonattendance may result fact many treatment options provide satisfying benefits patients.\n"
     ]
    }
   ],
   "source": [
    "for i in range(7,9):\n",
    "    print(pmids[i])\n",
    "    print(abstracts[i])"
   ]
  },
  {
   "cell_type": "code",
   "execution_count": null,
   "id": "c3c129f7",
   "metadata": {},
   "outputs": [],
   "source": [
    "# load spaCy models\n",
    "nlp = spacy.load('en_core_web_lg')"
   ]
  },
  {
   "cell_type": "code",
   "execution_count": null,
   "id": "7c625118",
   "metadata": {},
   "outputs": [],
   "source": [
    "# Standardize the text of the abstract by replacing all named entities with their entity label\n",
    "# Eg: 3 patients were seen in a clinic in England --> CARDINAL patients were seen in a clinic in GPE\n",
    "def standardizeAbstract(abstract):\n",
    "    doc = nlp(abstract)\n",
    "    newAbstract = abstract\n",
    "    # interate through the entities in the abstract\n",
    "    for e in reversed(doc.ents):\n",
    "        # replace entities with their label\n",
    "        #GPE = GeoPolitical Entity\n",
    "        if e.label_ in {'PERCENT','CARDINAL','GPE','LOC','DATE','TIME','QUANTITY','ORDINAL'}:\n",
    "            start = e.start_char\n",
    "            end = start + len(e.text)\n",
    "            newAbstract = newAbstract[:start] + e.label_ + newAbstract[end:]\n",
    "    return newAbstract"
   ]
  },
  {
   "cell_type": "code",
   "execution_count": null,
   "id": "4e160387",
   "metadata": {},
   "outputs": [],
   "source": []
  }
 ],
 "metadata": {
  "kernelspec": {
   "display_name": "Python 3 (ipykernel)",
   "language": "python",
   "name": "python3"
  },
  "language_info": {
   "codemirror_mode": {
    "name": "ipython",
    "version": 3
   },
   "file_extension": ".py",
   "mimetype": "text/x-python",
   "name": "python",
   "nbconvert_exporter": "python",
   "pygments_lexer": "ipython3",
   "version": "3.8.0"
  }
 },
 "nbformat": 4,
 "nbformat_minor": 5
}
