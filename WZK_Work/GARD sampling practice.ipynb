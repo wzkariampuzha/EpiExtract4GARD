{
 "cells": [
  {
   "cell_type": "code",
   "execution_count": 1,
   "metadata": {},
   "outputs": [],
   "source": [
    "import numpy as np\n",
    "import pandas as pd"
   ]
  },
  {
   "cell_type": "code",
   "execution_count": 2,
   "metadata": {
    "scrolled": true
   },
   "outputs": [
    {
     "data": {
      "text/html": [
       "<div>\n",
       "<style scoped>\n",
       "    .dataframe tbody tr th:only-of-type {\n",
       "        vertical-align: middle;\n",
       "    }\n",
       "\n",
       "    .dataframe tbody tr th {\n",
       "        vertical-align: top;\n",
       "    }\n",
       "\n",
       "    .dataframe thead th {\n",
       "        text-align: right;\n",
       "    }\n",
       "</style>\n",
       "<table border=\"1\" class=\"dataframe\">\n",
       "  <thead>\n",
       "    <tr style=\"text-align: right;\">\n",
       "      <th></th>\n",
       "      <th>d.gard_id</th>\n",
       "      <th>d.name</th>\n",
       "      <th>d.synonyms</th>\n",
       "    </tr>\n",
       "  </thead>\n",
       "  <tbody>\n",
       "    <tr>\n",
       "      <th>6056</th>\n",
       "      <td>GARD:0013731</td>\n",
       "      <td>T-cell prolymphocytic leukemia</td>\n",
       "      <td>[T Cell Prolymphocytic Leukemia]</td>\n",
       "    </tr>\n",
       "    <tr>\n",
       "      <th>6057</th>\n",
       "      <td>GARD:0013735</td>\n",
       "      <td>Spastic paraplegia 47</td>\n",
       "      <td>NaN</td>\n",
       "    </tr>\n",
       "    <tr>\n",
       "      <th>6058</th>\n",
       "      <td>GARD:0013737</td>\n",
       "      <td>AP-4-Associated Hereditary Spastic Paraplegia</td>\n",
       "      <td>[Severe intellectual disability and progressiv...</td>\n",
       "    </tr>\n",
       "    <tr>\n",
       "      <th>6059</th>\n",
       "      <td>GARD:0013743</td>\n",
       "      <td>Multicentric osteolysis, nodulosis and arthrop...</td>\n",
       "      <td>[Torg-Winchester Syndrome,Torg Syndrome,Nodulo...</td>\n",
       "    </tr>\n",
       "    <tr>\n",
       "      <th>6060</th>\n",
       "      <td>GARD:0013818</td>\n",
       "      <td>Sphingosine phosphate lyase insufficiency synd...</td>\n",
       "      <td>[SPL insufficiency syndrome,SPLIS,Familial ste...</td>\n",
       "    </tr>\n",
       "  </tbody>\n",
       "</table>\n",
       "</div>"
      ],
      "text/plain": [
       "         d.gard_id                                             d.name  \\\n",
       "6056  GARD:0013731                     T-cell prolymphocytic leukemia   \n",
       "6057  GARD:0013735                              Spastic paraplegia 47   \n",
       "6058  GARD:0013737      AP-4-Associated Hereditary Spastic Paraplegia   \n",
       "6059  GARD:0013743  Multicentric osteolysis, nodulosis and arthrop...   \n",
       "6060  GARD:0013818  Sphingosine phosphate lyase insufficiency synd...   \n",
       "\n",
       "                                             d.synonyms  \n",
       "6056                   [T Cell Prolymphocytic Leukemia]  \n",
       "6057                                                NaN  \n",
       "6058  [Severe intellectual disability and progressiv...  \n",
       "6059  [Torg-Winchester Syndrome,Torg Syndrome,Nodulo...  \n",
       "6060  [SPL insufficiency syndrome,SPLIS,Familial ste...  "
      ]
     },
     "execution_count": 2,
     "metadata": {},
     "output_type": "execute_result"
    }
   ],
   "source": [
    "#Read in GARD diseases\n",
    "df = pd.read_csv('GARD.csv')\n",
    "df.tail()"
   ]
  },
  {
   "cell_type": "code",
   "execution_count": 3,
   "metadata": {},
   "outputs": [],
   "source": [
    "#GARD.csv d.synonyms has oddly saved string data that cannot be converted directly into a list, this converts that\n",
    "def str2list(string):\n",
    "    string = str(string).replace('[','')\n",
    "    string = string.replace(']','')\n",
    "    string = string.strip()\n",
    "    str_list = string.split(',')\n",
    "    for s in str_list:\n",
    "        s = s.strip()\n",
    "    return str_list"
   ]
  },
  {
   "cell_type": "code",
   "execution_count": 4,
   "metadata": {
    "scrolled": false
   },
   "outputs": [
    {
     "data": {
      "text/plain": [
       "0       [FLNMS,Finnish lactic acidosis with hepatic he...\n",
       "1       [AMS,Congenital ablepharon, absent eyelashes/e...\n",
       "2       [Dipetalonemiasis,Dipetalonema infections,Acan...\n",
       "3       [Bassen Kornzweig syndrome,Microsomal triglyce...\n",
       "4                                [Acromesomelic dwarfism]\n",
       "                              ...                        \n",
       "6056                     [T Cell Prolymphocytic Leukemia]\n",
       "6057                                                  NaN\n",
       "6058    [Severe intellectual disability and progressiv...\n",
       "6059    [Torg-Winchester Syndrome,Torg Syndrome,Nodulo...\n",
       "6060    [SPL insufficiency syndrome,SPLIS,Familial ste...\n",
       "Name: d.synonyms, Length: 6061, dtype: object"
      ]
     },
     "execution_count": 4,
     "metadata": {},
     "output_type": "execute_result"
    }
   ],
   "source": [
    "df['d.synonyms']"
   ]
  },
  {
   "cell_type": "code",
   "execution_count": 5,
   "metadata": {},
   "outputs": [],
   "source": [
    "#Convert d.synonym strings into lists\n",
    "i=0\n",
    "for i in range(len(df['d.synonyms'])):\n",
    "    df['d.synonyms'][i] = str2list(df['d.synonyms'][i])"
   ]
  },
  {
   "cell_type": "code",
   "execution_count": 6,
   "metadata": {},
   "outputs": [],
   "source": [
    "#Set up a new, easier to use df, with just id and list of names\n",
    "df_names = pd.DataFrame(df['d.gard_id'],columns=['d.gard_id','d.names'])\n",
    "\n",
    "rowlist = []\n",
    "i=0\n",
    "for i in range(len(df)):\n",
    "    columnlist=[]\n",
    "    columnlist.append(df['d.name'][i])\n",
    "    columnlist+=df['d.synonyms'][i]\n",
    "    rowlist.append(columnlist)\n",
    "df_names['d.names'] = rowlist"
   ]
  },
  {
   "cell_type": "code",
   "execution_count": 7,
   "metadata": {
    "scrolled": true
   },
   "outputs": [
    {
     "data": {
      "text/html": [
       "<div>\n",
       "<style scoped>\n",
       "    .dataframe tbody tr th:only-of-type {\n",
       "        vertical-align: middle;\n",
       "    }\n",
       "\n",
       "    .dataframe tbody tr th {\n",
       "        vertical-align: top;\n",
       "    }\n",
       "\n",
       "    .dataframe thead th {\n",
       "        text-align: right;\n",
       "    }\n",
       "</style>\n",
       "<table border=\"1\" class=\"dataframe\">\n",
       "  <thead>\n",
       "    <tr style=\"text-align: right;\">\n",
       "      <th></th>\n",
       "      <th>d.gard_id</th>\n",
       "      <th>Names</th>\n",
       "    </tr>\n",
       "  </thead>\n",
       "  <tbody>\n",
       "    <tr>\n",
       "      <th>0</th>\n",
       "      <td>GARD:0000001</td>\n",
       "      <td>[GRACILE syndrome, FLNMS, Finnish lactic acido...</td>\n",
       "    </tr>\n",
       "    <tr>\n",
       "      <th>1</th>\n",
       "      <td>GARD:0000003</td>\n",
       "      <td>[Ablepharon macrostomia syndrome, AMS, Congeni...</td>\n",
       "    </tr>\n",
       "    <tr>\n",
       "      <th>2</th>\n",
       "      <td>GARD:0000004</td>\n",
       "      <td>[Acanthocheilonemiasis, Dipetalonemiasis, Dipe...</td>\n",
       "    </tr>\n",
       "    <tr>\n",
       "      <th>3</th>\n",
       "      <td>GARD:0000005</td>\n",
       "      <td>[Abetalipoproteinemia, Bassen Kornzweig syndro...</td>\n",
       "    </tr>\n",
       "    <tr>\n",
       "      <th>4</th>\n",
       "      <td>GARD:0000006</td>\n",
       "      <td>[Acromesomelic dysplasia, Acromesomelic dwarfism]</td>\n",
       "    </tr>\n",
       "    <tr>\n",
       "      <th>...</th>\n",
       "      <td>...</td>\n",
       "      <td>...</td>\n",
       "    </tr>\n",
       "    <tr>\n",
       "      <th>6056</th>\n",
       "      <td>GARD:0013731</td>\n",
       "      <td>[T-cell prolymphocytic leukemia, T Cell Prolym...</td>\n",
       "    </tr>\n",
       "    <tr>\n",
       "      <th>6057</th>\n",
       "      <td>GARD:0013735</td>\n",
       "      <td>[Spastic paraplegia 47, nan]</td>\n",
       "    </tr>\n",
       "    <tr>\n",
       "      <th>6058</th>\n",
       "      <td>GARD:0013737</td>\n",
       "      <td>[AP-4-Associated Hereditary Spastic Paraplegia...</td>\n",
       "    </tr>\n",
       "    <tr>\n",
       "      <th>6059</th>\n",
       "      <td>GARD:0013743</td>\n",
       "      <td>[Multicentric osteolysis, nodulosis and arthro...</td>\n",
       "    </tr>\n",
       "    <tr>\n",
       "      <th>6060</th>\n",
       "      <td>GARD:0013818</td>\n",
       "      <td>[Sphingosine phosphate lyase insufficiency syn...</td>\n",
       "    </tr>\n",
       "  </tbody>\n",
       "</table>\n",
       "<p>6061 rows × 2 columns</p>\n",
       "</div>"
      ],
      "text/plain": [
       "         d.gard_id                                              Names\n",
       "0     GARD:0000001  [GRACILE syndrome, FLNMS, Finnish lactic acido...\n",
       "1     GARD:0000003  [Ablepharon macrostomia syndrome, AMS, Congeni...\n",
       "2     GARD:0000004  [Acanthocheilonemiasis, Dipetalonemiasis, Dipe...\n",
       "3     GARD:0000005  [Abetalipoproteinemia, Bassen Kornzweig syndro...\n",
       "4     GARD:0000006  [Acromesomelic dysplasia, Acromesomelic dwarfism]\n",
       "...            ...                                                ...\n",
       "6056  GARD:0013731  [T-cell prolymphocytic leukemia, T Cell Prolym...\n",
       "6057  GARD:0013735                       [Spastic paraplegia 47, nan]\n",
       "6058  GARD:0013737  [AP-4-Associated Hereditary Spastic Paraplegia...\n",
       "6059  GARD:0013743  [Multicentric osteolysis, nodulosis and arthro...\n",
       "6060  GARD:0013818  [Sphingosine phosphate lyase insufficiency syn...\n",
       "\n",
       "[6061 rows x 2 columns]"
      ]
     },
     "execution_count": 7,
     "metadata": {},
     "output_type": "execute_result"
    }
   ],
   "source": [
    "df_names"
   ]
  }
 ],
 "metadata": {
  "kernelspec": {
   "display_name": "Python 3",
   "language": "python",
   "name": "python3"
  },
  "language_info": {
   "codemirror_mode": {
    "name": "ipython",
    "version": 3
   },
   "file_extension": ".py",
   "mimetype": "text/x-python",
   "name": "python",
   "nbconvert_exporter": "python",
   "pygments_lexer": "ipython3",
   "version": "3.8.3"
  }
 },
 "nbformat": 4,
 "nbformat_minor": 4
}
