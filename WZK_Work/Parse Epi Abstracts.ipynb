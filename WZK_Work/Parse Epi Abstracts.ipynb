{
 "cells": [
  {
   "cell_type": "code",
   "execution_count": 1,
   "metadata": {
    "scrolled": true
   },
   "outputs": [],
   "source": [
    "#Download all dependencies, only need to do this once\n",
    "#import sys\n",
    "#!{sys.executable} -m pip install spacy\n",
    "#!{sys.executable} -m spacy download en_core_web_lg\n",
    "#!{sys.executable} -m pip install https://s3-us-west-2.amazonaws.com/ai2-s2-scispacy/releases/v0.4.0/en_ner_bc5cdr_md-0.4.0.tar.gz\n",
    "#!{sys.executable} -m pip install https://s3-us-west-2.amazonaws.com/ai2-s2-scispacy/releases/v0.4.0/en_ner_bionlp13cg_md-0.4.0.tar.gz\n",
    "\n",
    "import nltk\n",
    "#nltk.download('stopwords')\n",
    "#nltk.download('punkt')\n",
    "from nltk.corpus import stopwords\n",
    "from nltk import tokenize\n",
    "STOPWORDS = set(stopwords.words('english'))\n",
    "import csv\n",
    "import spacy\n",
    "import numpy as np\n",
    "import pandas as pd"
   ]
  },
  {
   "cell_type": "code",
   "execution_count": 2,
   "metadata": {},
   "outputs": [],
   "source": [
    "# load spaCy models\n",
    "nlp = spacy.load('en_core_web_lg')\n",
    "nlpSci = spacy.load(\"en_ner_bc5cdr_md\")\n",
    "nlpSci2 = spacy.load('en_ner_bionlp13cg_md')"
   ]
  },
  {
   "cell_type": "code",
   "execution_count": 3,
   "metadata": {},
   "outputs": [],
   "source": [
    "abstracts = []\n",
    "pmids = []\n",
    "\n",
    "with open(\"orphanet_epi_data_test.csv\", newline='', encoding ='utf-8') as csvfile:\n",
    "    reader = csv.reader(csvfile, delimiter=',')\n",
    "    next(reader)\n",
    "    for row in reader:\n",
    "        abstract = row[4]\n",
    "        # Remove stopwords\n",
    "        for word in STOPWORDS:\n",
    "            token = ' ' + word + ' '\n",
    "            abstract = abstract.replace(token, ' ')\n",
    "            abstract = abstract.replace(' ', ' ')\n",
    "        # Only keep the article if the abstract has more than 5 chars, and it's not one of the curator articles\n",
    "        if len(abstract)>5:\n",
    "            abstracts.append(abstract)\n",
    "            pmids.append(row[3])"
   ]
  },
  {
   "cell_type": "code",
   "execution_count": 6,
   "metadata": {
    "scrolled": true
   },
   "outputs": [
    {
     "name": "stdout",
     "output_type": "stream",
     "text": [
      "10480370\n",
      "We calculated relative frequency birth prevalence lysosomal storage diseases (LSDs) The Netherlands based 963 enzymatically confirmed cases diagnosed period 1970-1996. The combined birth prevalence LSDs 14 per 100,000 live births. Glycogenosis type II frequent LSD birth prevalence 2.0 per 100,000 live births, representing 17% diagnosed cases. Within group lipidoses, metachromatic leukodystrophy (MLD) frequent LSD. MLD diagnosed 24% lipidoses calculated birth prevalence 1.42 per 100,000 types combined. Krabbe disease, diagnosed 17% cases, also belongs frequent lipid storage diseases The Netherlands birth prevalence 1.35 per 100,000. The birth prevalence Gaucher disease, commonly regarded frequent lipid storage disease 1.16 per 100,000 types combined. The combined birth prevalence lipid storage diseases 6.2 per 100,000 live births. Within group mucopolysaccharidoses (MPSs), MPS I highest calculated birth prevalence 1.19 per 100,000 (25% cases MPS diagnosed), slightly frequent MPS IIIA estimated birth prevalence 1.16 per 100,000. As group, MPS III comprises 47% MPS cases diagnosed combined birth prevalence 1.89 per 100,000 live births. The birth prevalence MPS II 0.67 per 100,000 (1.30 per 100,000 male live births). All MPSs rare. The combined birth prevalence MPSs 4.5 per 100,000 live births. Mucolipidoses oligosaccharidoses rare birth prevalences 0.04 0.20 individual diseases. Only 49 cases diagnosed 1970 1996. Their combined birth prevalence 1.0 per 100,000 live births.\n",
      "14685153\n",
      "Lysosomal storage diseases (LSDs) group inherited metabolic disorders individually considered rare, data prevalence reported literature. The overall birth prevalence 29 different LSDs studied Portuguese population calculated 25/100000 live births, twice prevalence previously described Australia The Netherlands. The comparison prevalence profile LSDs presenting prevalence higher 0.5/100000 Portuguese, Dutch Australian populations showed, Portuguese, existence higher prevalence GM2 gangliosidoses (B variant), mucolipidoses (II III), Niemman-Pick type C metachromatic leukodystrophy (MLD), lower prevalence Pompe Fabry. The highest prevalence value single LSD one GM2 gangliosidoses (B variant), corresponding 3/100000, value significantly higher prevalence frequent LSD Dutch, Pompe disease (2/100000) Australians, Gaucher's disease (GD) (1.8/100000). It worth noting highest prevalence GM2 gangliosidoses found Portuguese mainly due existence unique subtype, rare juvenile B1 variant.\n"
     ]
    }
   ],
   "source": [
    "for i in range(7,9):\n",
    "    print(pmids[i])\n",
    "    print(abstracts[i])"
   ]
  },
  {
   "cell_type": "code",
   "execution_count": 7,
   "metadata": {},
   "outputs": [],
   "source": [
    "# Standardize the text of the abstract by replacing all named entities with their entity label\n",
    "# Eg: 3 patients were seen in a clinic in England --> CARDINAL patients were seen in a clinic in GPE\n",
    "def standardizeAbstract(abstract):\n",
    "    doc = nlp(abstract)\n",
    "    newAbstract = abstract\n",
    "    # interate through the entities in the abstract\n",
    "    for e in reversed(doc.ents):\n",
    "        # replace entities with their label\n",
    "        #GPE = GeoPolitical Entity\n",
    "        if e.label_ in {'PERCENT','CARDINAL','GPE','LOC','DATE','TIME','QUANTITY','ORDINAL'}:\n",
    "            start = e.start_char\n",
    "            end = start + len(e.text)\n",
    "            newAbstract = newAbstract[:start] + e.label_ + newAbstract[end:]\n",
    "    return newAbstract"
   ]
  },
  {
   "cell_type": "code",
   "execution_count": 8,
   "metadata": {},
   "outputs": [],
   "source": [
    "# Same process but include scientific entities from scispaCy models\n",
    "def standardizeSciTerms(abstract):\n",
    "    doc = nlpSci(abstract)\n",
    "    newAbstract = abstract\n",
    "    for e in reversed(doc.ents):\n",
    "        start = e.start_char\n",
    "        end = start + len(e.text)\n",
    "        newAbstract = newAbstract[:start] + e.label_ + newAbstract[end:]\n",
    "        \n",
    "    doc = nlpSci2(newAbstract)\n",
    "    for e in reversed(doc.ents):\n",
    "        start = e.start_char\n",
    "        end = start + len(e.text)\n",
    "        newAbstract = newAbstract[:start] + e.label_ + newAbstract[end:]\n",
    "    return newAbstract"
   ]
  },
  {
   "cell_type": "code",
   "execution_count": 9,
   "metadata": {
    "scrolled": false
   },
   "outputs": [],
   "source": [
    "#Turn abstract list into abstract list of sentences\n",
    "#Tokenize abstract into list of sentences -shows as list within list\n",
    "for i in range(len(abstracts)):\n",
    "    abstracts[i] = tokenize.sent_tokenize(abstracts[i])"
   ]
  },
  {
   "cell_type": "code",
   "execution_count": 10,
   "metadata": {
    "scrolled": true
   },
   "outputs": [
    {
     "name": "stdout",
     "output_type": "stream",
     "text": [
      "['We calculated relative frequency birth prevalence lysosomal storage diseases (LSDs) The Netherlands based 963 enzymatically confirmed cases diagnosed period 1970-1996.', 'The combined birth prevalence LSDs 14 per 100,000 live births.', 'Glycogenosis type II frequent LSD birth prevalence 2.0 per 100,000 live births, representing 17% diagnosed cases.', 'Within group lipidoses, metachromatic leukodystrophy (MLD) frequent LSD.', 'MLD diagnosed 24% lipidoses calculated birth prevalence 1.42 per 100,000 types combined.', 'Krabbe disease, diagnosed 17% cases, also belongs frequent lipid storage diseases The Netherlands birth prevalence 1.35 per 100,000.', 'The birth prevalence Gaucher disease, commonly regarded frequent lipid storage disease 1.16 per 100,000 types combined.', 'The combined birth prevalence lipid storage diseases 6.2 per 100,000 live births.', 'Within group mucopolysaccharidoses (MPSs), MPS I highest calculated birth prevalence 1.19 per 100,000 (25% cases MPS diagnosed), slightly frequent MPS IIIA estimated birth prevalence 1.16 per 100,000.', 'As group, MPS III comprises 47% MPS cases diagnosed combined birth prevalence 1.89 per 100,000 live births.', 'The birth prevalence MPS II 0.67 per 100,000 (1.30 per 100,000 male live births).', 'All MPSs rare.', 'The combined birth prevalence MPSs 4.5 per 100,000 live births.', 'Mucolipidoses oligosaccharidoses rare birth prevalences 0.04 0.20 individual diseases.', 'Only 49 cases diagnosed 1970 1996.', 'Their combined birth prevalence 1.0 per 100,000 live births.']\n",
      "3rd sentence\n",
      "We calculated relative frequency birth prevalence lysosomal storage diseases (LSDs) The Netherlands based 963 enzymatically confirmed cases diagnosed period 1970-1996.\n"
     ]
    }
   ],
   "source": [
    "print(abstracts[7])\n",
    "#print(abstracts[2])\n",
    "print('3rd sentence')\n",
    "print(abstracts[7][0])"
   ]
  },
  {
   "cell_type": "code",
   "execution_count": 11,
   "metadata": {},
   "outputs": [],
   "source": [
    "def isGeo(sentence):\n",
    "    doc = nlp(sentence)\n",
    "    # interate through the entities in the abstract\n",
    "    for ent in doc.ents:\n",
    "        if ent.label_ in {'GPE','LOC'}:\n",
    "            return True\n",
    "    return False"
   ]
  },
  {
   "cell_type": "code",
   "execution_count": 12,
   "metadata": {},
   "outputs": [],
   "source": [
    "def whereGeo(sentence):\n",
    "    locations = []\n",
    "    doc = nlp(sentence)\n",
    "    # interate through the entities in the sentence\n",
    "    for ent in doc.ents:\n",
    "        if ent.label_ in {'GPE','LOC'}:\n",
    "            locations.append(ent.text)\n",
    "    return locations"
   ]
  },
  {
   "cell_type": "code",
   "execution_count": 15,
   "metadata": {
    "scrolled": true
   },
   "outputs": [
    {
     "name": "stdout",
     "output_type": "stream",
     "text": [
      "However, group, relatively common represent important health problem Australia.\n",
      "['Australia']\n"
     ]
    }
   ],
   "source": [
    "print(abstracts[5][8])\n",
    "location = whereGeo(abstracts[5][8])\n",
    "print(location)\n",
    "#abstracts[5][8] = whereGeo(abstracts[5][8])\n",
    "#print(abstracts[5][8][0])\n"
   ]
  },
  {
   "cell_type": "code",
   "execution_count": 16,
   "metadata": {},
   "outputs": [],
   "source": [
    "geopmids = []\n",
    "geosentences = []\n",
    "#Returns all of the sentences with location information\n",
    "i=1\n",
    "for abstract in abstracts:\n",
    "    for sentence in abstract:\n",
    "        if i%50==0:\n",
    "            print(i)\n",
    "        if isGeo(sentence):\n",
    "            geopmids.append(pmids[i])\n",
    "            geosentences.append(sentence)\n",
    "    i+=1"
   ]
  },
  {
   "cell_type": "code",
   "execution_count": 17,
   "metadata": {
    "scrolled": true
   },
   "outputs": [
    {
     "name": "stdout",
     "output_type": "stream",
     "text": [
      "14685153\n",
      "We calculated relative frequency birth prevalence lysosomal storage diseases (LSDs) The Netherlands based 963 enzymatically confirmed cases diagnosed period 1970-1996.\n",
      "7900112\n",
      "However, group, relatively common represent important health problem Australia.\n",
      "15523498\n",
      "Salla disease, rare elsewhere, fourth common, stemming founder mutation Salla region northern Finland brought Sweden immigration.<h4>Conclusion</h4>The collective incidence LSDs Sweden essentially equal European countries, somewhat different disease pattern.\n",
      "15523498\n",
      "Gaucher disease frequent Sweden European countries, due founder effect mutation (p.L444P) northern Sweden.\n",
      "25274184\n",
      "Relatively higher prevalence LSDs reported north Portugal (25 per 100,000).\n",
      "25274184\n",
      "The overall prevalence LSDs Czech population (12.25 per 100,000) comparable reported countries well-established advanced diagnostics LSDs Netherlands (14 per 100,000), Australia (12.9 per 100,000) Italy (12.1 per 100,000).\n",
      "25274184\n",
      "The aim retrospective study determine prevalence lysosomal storage disorders (LSDs) Czech Republic.\n",
      "20490927\n",
      "The overall birth prevalence 29 different LSDs studied Portuguese population calculated 25/100000 live births, twice prevalence previously described Australia The Netherlands.\n",
      "14685153\n",
      "Krabbe disease, diagnosed 17% cases, also belongs frequent lipid storage diseases The Netherlands birth prevalence 1.35 per 100,000.\n"
     ]
    }
   ],
   "source": [
    "for i in range(len(geosentences)):\n",
    "    print(geopmids[1-i])\n",
    "    print(geosentences[1-i])"
   ]
  },
  {
   "cell_type": "code",
   "execution_count": 18,
   "metadata": {
    "scrolled": true
   },
   "outputs": [
    {
     "name": "stdout",
     "output_type": "stream",
     "text": [
      "['7900112', '14685153', '14685153', '20490927', '25274184', '25274184', '25274184', '15523498', '15523498']\n",
      "['However, group, relatively common represent important health problem Australia.', 'We calculated relative frequency birth prevalence lysosomal storage diseases (LSDs) The Netherlands based 963 enzymatically confirmed cases diagnosed period 1970-1996.', 'Krabbe disease, diagnosed 17% cases, also belongs frequent lipid storage diseases The Netherlands birth prevalence 1.35 per 100,000.', 'The overall birth prevalence 29 different LSDs studied Portuguese population calculated 25/100000 live births, twice prevalence previously described Australia The Netherlands.', 'The aim retrospective study determine prevalence lysosomal storage disorders (LSDs) Czech Republic.', 'The overall prevalence LSDs Czech population (12.25 per 100,000) comparable reported countries well-established advanced diagnostics LSDs Netherlands (14 per 100,000), Australia (12.9 per 100,000) Italy (12.1 per 100,000).', 'Relatively higher prevalence LSDs reported north Portugal (25 per 100,000).', 'Gaucher disease frequent Sweden European countries, due founder effect mutation (p.L444P) northern Sweden.', 'Salla disease, rare elsewhere, fourth common, stemming founder mutation Salla region northern Finland brought Sweden immigration.<h4>Conclusion</h4>The collective incidence LSDs Sweden essentially equal European countries, somewhat different disease pattern.']\n"
     ]
    }
   ],
   "source": [
    "print(geopmids)\n",
    "print(geosentences)"
   ]
  },
  {
   "cell_type": "code",
   "execution_count": null,
   "metadata": {},
   "outputs": [],
   "source": []
  },
  {
   "cell_type": "code",
   "execution_count": 19,
   "metadata": {
    "scrolled": true
   },
   "outputs": [
    {
     "name": "stdout",
     "output_type": "stream",
     "text": [
      "5\n",
      "9918480\n",
      "However, group, relatively common represent important health problem Australia.\n",
      "['Australia']\n",
      "............................\n",
      "7\n",
      "10480370\n",
      "We calculated relative frequency birth prevalence lysosomal storage diseases (LSDs) The Netherlands based 963 enzymatically confirmed cases diagnosed period 1970-1996.\n",
      "['Netherlands']\n",
      "............................\n",
      "7\n",
      "10480370\n",
      "Krabbe disease, diagnosed 17% cases, also belongs frequent lipid storage diseases The Netherlands birth prevalence 1.35 per 100,000.\n",
      "['Netherlands']\n",
      "............................\n",
      "8\n",
      "14685153\n",
      "The overall birth prevalence 29 different LSDs studied Portuguese population calculated 25/100000 live births, twice prevalence previously described Australia The Netherlands.\n",
      "['Australia', 'Netherlands']\n",
      "............................\n",
      "9\n",
      "20490927\n",
      "The aim retrospective study determine prevalence lysosomal storage disorders (LSDs) Czech Republic.\n",
      "['Czech Republic']\n",
      "............................\n",
      "9\n",
      "20490927\n",
      "The overall prevalence LSDs Czech population (12.25 per 100,000) comparable reported countries well-established advanced diagnostics LSDs Netherlands (14 per 100,000), Australia (12.9 per 100,000) Italy (12.1 per 100,000).\n",
      "['Netherlands', 'Australia', 'Italy']\n",
      "............................\n",
      "9\n",
      "20490927\n",
      "Relatively higher prevalence LSDs reported north Portugal (25 per 100,000).\n",
      "['Portugal']\n",
      "............................\n",
      "10\n",
      "25274184\n",
      "Gaucher disease frequent Sweden European countries, due founder effect mutation (p.L444P) northern Sweden.\n",
      "['Sweden', 'Sweden']\n",
      "............................\n",
      "10\n",
      "25274184\n",
      "Salla disease, rare elsewhere, fourth common, stemming founder mutation Salla region northern Finland brought Sweden immigration.<h4>Conclusion</h4>The collective incidence LSDs Sweden essentially equal European countries, somewhat different disease pattern.\n",
      "['Finland', 'Sweden', 'Sweden']\n",
      "............................\n"
     ]
    }
   ],
   "source": [
    "#Returns dictionary of pubmed id and \n",
    "locInfo = {}\n",
    "\n",
    "i=0\n",
    "for abstract in abstracts:\n",
    "    for sentence in abstract:\n",
    "        if isGeo(sentence):\n",
    "            if(i>15):\n",
    "                break\n",
    "            print(i)\n",
    "            print(pmids[i])\n",
    "            print(sentence)\n",
    "            print(whereGeo(sentence))\n",
    "            print('............................')\n",
    "            locInfo[pmids[i]]=whereGeo(sentence)\n",
    "    i+=1"
   ]
  },
  {
   "cell_type": "code",
   "execution_count": 20,
   "metadata": {
    "scrolled": true
   },
   "outputs": [
    {
     "name": "stdout",
     "output_type": "stream",
     "text": [
      "{'9918480': ['Australia'], '10480370': ['Netherlands'], '14685153': ['Australia', 'Netherlands'], '20490927': ['Portugal'], '25274184': ['Finland', 'Sweden', 'Sweden']}\n"
     ]
    }
   ],
   "source": [
    "print(locInfo)"
   ]
  },
  {
   "cell_type": "code",
   "execution_count": null,
   "metadata": {},
   "outputs": [],
   "source": []
  },
  {
   "cell_type": "code",
   "execution_count": null,
   "metadata": {},
   "outputs": [],
   "source": []
  }
 ],
 "metadata": {
  "kernelspec": {
   "display_name": "Python 3 (ipykernel)",
   "language": "python",
   "name": "python3"
  },
  "language_info": {
   "codemirror_mode": {
    "name": "ipython",
    "version": 3
   },
   "file_extension": ".py",
   "mimetype": "text/x-python",
   "name": "python",
   "nbconvert_exporter": "python",
   "pygments_lexer": "ipython3",
   "version": "3.8.0"
  }
 },
 "nbformat": 4,
 "nbformat_minor": 4
}
