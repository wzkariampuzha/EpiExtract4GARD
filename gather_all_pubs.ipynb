{
 "cells": [
  {
   "cell_type": "markdown",
   "id": "169dd223",
   "metadata": {},
   "source": [
    "How many of the 6061 rare diseases tracked by GARD have less than 20 articles?"
   ]
  },
  {
   "cell_type": "code",
   "execution_count": 1,
   "id": "87c8c619",
   "metadata": {},
   "outputs": [],
   "source": [
    "num_articles = 20 #input(\"How many abstracts to gather per disease? \")"
   ]
  },
  {
   "cell_type": "code",
   "execution_count": 2,
   "id": "29215e35",
   "metadata": {},
   "outputs": [
    {
     "name": "stderr",
     "output_type": "stream",
     "text": [
      "2021-07-05 19:29:36.049366: W tensorflow/stream_executor/platform/default/dso_loader.cc:64] Could not load dynamic library 'libcudart.so.11.0'; dlerror: libcudart.so.11.0: cannot open shared object file: No such file or directory\n",
      "2021-07-05 19:29:36.049391: I tensorflow/stream_executor/cuda/cudart_stub.cc:29] Ignore above cudart dlerror if you do not have a GPU set up on your machine.\n"
     ]
    }
   ],
   "source": [
    "#Download any necessary datasets & dependencies, only need to do this once\n",
    "#import sys\n",
    "#!{sys.executable} -m pip install spacy\n",
    "#!{sys.executable} -m spacy download en_core_web_lg\n",
    "#!{sys.executable} -m pip install https://s3-us-west-2.amazonaws.com/ai2-s2-scispacy/releases/v0.4.0/en_ner_bc5cdr_md-0.4.0.tar.gz\n",
    "#!{sys.executable} -m pip install https://s3-us-west-2.amazonaws.com/ai2-s2-scispacy/releases/v0.4.0/en_ner_bionlp13cg_md-0.4.0.tar.gz\n",
    "#!{sys.executable} -m pip install numpy\n",
    "#!{sys.executable} -m pip install pandas\n",
    "#!{sys.executable} -m pip install requests\n",
    "#!{sys.executable} -m pip install matplotlib\n",
    "\n",
    "#Installing dependencies for classify_abs.py\n",
    "#!{sys.executable} -m pip install tensorflow\n",
    "#!{sys.executable} -m pip install nltk\n",
    "#import nltk\n",
    "#nltk.download('stopwords')\n",
    "#nltk.download('punkt')\n",
    "\n",
    "import numpy as np\n",
    "import pandas as pd\n",
    "import requests\n",
    "import xml.etree.ElementTree as ET\n",
    "import spacy\n",
    "import time\n",
    "import datetime\n",
    "from collections import OrderedDict\n",
    "import matplotlib.pyplot as plt; plt.rcdefaults()"
   ]
  },
  {
   "cell_type": "code",
   "execution_count": 3,
   "id": "6856021a",
   "metadata": {
    "scrolled": true
   },
   "outputs": [
    {
     "data": {
      "text/html": [
       "<div>\n",
       "<style scoped>\n",
       "    .dataframe tbody tr th:only-of-type {\n",
       "        vertical-align: middle;\n",
       "    }\n",
       "\n",
       "    .dataframe tbody tr th {\n",
       "        vertical-align: top;\n",
       "    }\n",
       "\n",
       "    .dataframe thead th {\n",
       "        text-align: right;\n",
       "    }\n",
       "</style>\n",
       "<table border=\"1\" class=\"dataframe\">\n",
       "  <thead>\n",
       "    <tr style=\"text-align: right;\">\n",
       "      <th></th>\n",
       "      <th>d.gard_id</th>\n",
       "      <th>d.name</th>\n",
       "      <th>d.synonyms</th>\n",
       "    </tr>\n",
       "  </thead>\n",
       "  <tbody>\n",
       "    <tr>\n",
       "      <th>6056</th>\n",
       "      <td>GARD:0013731</td>\n",
       "      <td>T-cell prolymphocytic leukemia</td>\n",
       "      <td>[T Cell Prolymphocytic Leukemia]</td>\n",
       "    </tr>\n",
       "    <tr>\n",
       "      <th>6057</th>\n",
       "      <td>GARD:0013735</td>\n",
       "      <td>Spastic paraplegia 47</td>\n",
       "      <td>NaN</td>\n",
       "    </tr>\n",
       "    <tr>\n",
       "      <th>6058</th>\n",
       "      <td>GARD:0013737</td>\n",
       "      <td>AP-4-Associated Hereditary Spastic Paraplegia</td>\n",
       "      <td>[Severe intellectual disability and progressiv...</td>\n",
       "    </tr>\n",
       "    <tr>\n",
       "      <th>6059</th>\n",
       "      <td>GARD:0013743</td>\n",
       "      <td>Multicentric osteolysis, nodulosis and arthrop...</td>\n",
       "      <td>[Torg-Winchester Syndrome,Torg Syndrome,Nodulo...</td>\n",
       "    </tr>\n",
       "    <tr>\n",
       "      <th>6060</th>\n",
       "      <td>GARD:0013818</td>\n",
       "      <td>Sphingosine phosphate lyase insufficiency synd...</td>\n",
       "      <td>[SPL insufficiency syndrome,SPLIS,Familial ste...</td>\n",
       "    </tr>\n",
       "  </tbody>\n",
       "</table>\n",
       "</div>"
      ],
      "text/plain": [
       "         d.gard_id                                             d.name  \\\n",
       "6056  GARD:0013731                     T-cell prolymphocytic leukemia   \n",
       "6057  GARD:0013735                              Spastic paraplegia 47   \n",
       "6058  GARD:0013737      AP-4-Associated Hereditary Spastic Paraplegia   \n",
       "6059  GARD:0013743  Multicentric osteolysis, nodulosis and arthrop...   \n",
       "6060  GARD:0013818  Sphingosine phosphate lyase insufficiency synd...   \n",
       "\n",
       "                                             d.synonyms  \n",
       "6056                   [T Cell Prolymphocytic Leukemia]  \n",
       "6057                                                NaN  \n",
       "6058  [Severe intellectual disability and progressiv...  \n",
       "6059  [Torg-Winchester Syndrome,Torg Syndrome,Nodulo...  \n",
       "6060  [SPL insufficiency syndrome,SPLIS,Familial ste...  "
      ]
     },
     "execution_count": 3,
     "metadata": {},
     "output_type": "execute_result"
    }
   ],
   "source": [
    "#Read in GARD diseases\n",
    "df = pd.read_csv('GARD.csv')\n",
    "df.tail()"
   ]
  },
  {
   "cell_type": "code",
   "execution_count": 4,
   "id": "1079d63e",
   "metadata": {},
   "outputs": [],
   "source": [
    "#GARD.csv d.synonyms has oddly saved string data that cannot be converted directly into a list, this converts that\n",
    "def str2list(string):\n",
    "    string = str(string).replace('[','')\n",
    "    string = string.replace(']','')\n",
    "    string = string.strip()\n",
    "    str_list = string.split(',')\n",
    "    for s in str_list:\n",
    "        s = s.strip()\n",
    "        if s=='nan':\n",
    "            str_list.remove('nan')\n",
    "    return str_list"
   ]
  },
  {
   "cell_type": "code",
   "execution_count": 5,
   "id": "ab35d38a",
   "metadata": {},
   "outputs": [],
   "source": [
    "#Convert d.synonym strings into lists\n",
    "i=0\n",
    "for i in range(len(df['d.synonyms'])):\n",
    "    df['d.synonyms'][i] = str2list(df['d.synonyms'][i])"
   ]
  },
  {
   "cell_type": "code",
   "execution_count": 6,
   "id": "11374aec",
   "metadata": {},
   "outputs": [],
   "source": [
    "#Set up a new & easier to use df, with just id and list of names\n",
    "df_names = pd.DataFrame(df['d.gard_id'],columns=['d.gard_id','d.names'])\n",
    "\n",
    "rowlist = []\n",
    "i=0\n",
    "for i in range(len(df)):\n",
    "    columnlist=[]\n",
    "    columnlist.append(df['d.name'][i])\n",
    "    columnlist+=df['d.synonyms'][i]\n",
    "    rowlist.append(columnlist)\n",
    "df_names['d.names'] = rowlist"
   ]
  },
  {
   "cell_type": "code",
   "execution_count": 7,
   "id": "9b8b1bbf",
   "metadata": {
    "scrolled": false
   },
   "outputs": [
    {
     "data": {
      "text/html": [
       "<div>\n",
       "<style scoped>\n",
       "    .dataframe tbody tr th:only-of-type {\n",
       "        vertical-align: middle;\n",
       "    }\n",
       "\n",
       "    .dataframe tbody tr th {\n",
       "        vertical-align: top;\n",
       "    }\n",
       "\n",
       "    .dataframe thead th {\n",
       "        text-align: right;\n",
       "    }\n",
       "</style>\n",
       "<table border=\"1\" class=\"dataframe\">\n",
       "  <thead>\n",
       "    <tr style=\"text-align: right;\">\n",
       "      <th></th>\n",
       "      <th>d.gard_id</th>\n",
       "      <th>d.names</th>\n",
       "    </tr>\n",
       "  </thead>\n",
       "  <tbody>\n",
       "    <tr>\n",
       "      <th>6056</th>\n",
       "      <td>GARD:0013731</td>\n",
       "      <td>[T-cell prolymphocytic leukemia, T Cell Prolym...</td>\n",
       "    </tr>\n",
       "    <tr>\n",
       "      <th>6057</th>\n",
       "      <td>GARD:0013735</td>\n",
       "      <td>[Spastic paraplegia 47]</td>\n",
       "    </tr>\n",
       "    <tr>\n",
       "      <th>6058</th>\n",
       "      <td>GARD:0013737</td>\n",
       "      <td>[AP-4-Associated Hereditary Spastic Paraplegia...</td>\n",
       "    </tr>\n",
       "    <tr>\n",
       "      <th>6059</th>\n",
       "      <td>GARD:0013743</td>\n",
       "      <td>[Multicentric osteolysis, nodulosis and arthro...</td>\n",
       "    </tr>\n",
       "    <tr>\n",
       "      <th>6060</th>\n",
       "      <td>GARD:0013818</td>\n",
       "      <td>[Sphingosine phosphate lyase insufficiency syn...</td>\n",
       "    </tr>\n",
       "  </tbody>\n",
       "</table>\n",
       "</div>"
      ],
      "text/plain": [
       "         d.gard_id                                            d.names\n",
       "6056  GARD:0013731  [T-cell prolymphocytic leukemia, T Cell Prolym...\n",
       "6057  GARD:0013735                            [Spastic paraplegia 47]\n",
       "6058  GARD:0013737  [AP-4-Associated Hereditary Spastic Paraplegia...\n",
       "6059  GARD:0013743  [Multicentric osteolysis, nodulosis and arthro...\n",
       "6060  GARD:0013818  [Sphingosine phosphate lyase insufficiency syn..."
      ]
     },
     "execution_count": 7,
     "metadata": {},
     "output_type": "execute_result"
    }
   ],
   "source": [
    "df_names.tail()"
   ]
  },
  {
   "cell_type": "code",
   "execution_count": 8,
   "id": "4f94b006",
   "metadata": {},
   "outputs": [],
   "source": [
    "def get_pmids_abstract(dz_name, maxResults):\n",
    "    # get results from searching for disease name through EBI API\n",
    "    term = ''\n",
    "    dz_words = dz_name.split()\n",
    "    for word in dz_words:\n",
    "        term += word + '%20'\n",
    "    query = term[:-3]\n",
    "    url = 'https://www.ebi.ac.uk/europepmc/webservices/rest/search?query='+query+'&resulttype=core'\n",
    "    r = requests.get(url)\n",
    "    root = ET.fromstring(r.content)\n",
    "\n",
    "    pmid_abs = {}\n",
    "    i = 0\n",
    "    # loop over resulting articles\n",
    "    for result in root.iter('result'):\n",
    "        if i >= maxResults:\n",
    "            break\n",
    "        pmids = [pmid.text for pmid in result.iter('id')]\n",
    "        if len(pmids) > 0:\n",
    "            pmid = pmids[0]\n",
    "            if pmid[0].isdigit():\n",
    "                abstracts = [abstract.text for abstract in result.iter('abstractText')]\n",
    "                if len(abstracts) > 0:\n",
    "                    pmid_abs[pmid] = abstracts[0]\n",
    "                    i += 1\n",
    "    return pmid_abs, i"
   ]
  },
  {
   "cell_type": "code",
   "execution_count": 9,
   "id": "257c7f2e",
   "metadata": {
    "scrolled": true
   },
   "outputs": [],
   "source": [
    "#Pick all disease names\n",
    "all_dz_list = df_names['d.names'].values.tolist()"
   ]
  },
  {
   "cell_type": "code",
   "execution_count": 10,
   "id": "6e2d8bfd",
   "metadata": {
    "scrolled": true
   },
   "outputs": [
    {
     "name": "stdout",
     "output_type": "stream",
     "text": [
      "500 Mon Jul  5 19:38:20 2021\n",
      "1000 Mon Jul  5 19:46:49 2021\n",
      "1500 Mon Jul  5 19:55:13 2021\n",
      "2000 Mon Jul  5 20:03:40 2021\n",
      "2500 Mon Jul  5 20:12:30 2021\n",
      "3000 Mon Jul  5 20:21:29 2021\n",
      "3500 Mon Jul  5 20:30:14 2021\n",
      "4000 Mon Jul  5 20:39:11 2021\n",
      "4500 Mon Jul  5 20:48:01 2021\n",
      "5000 Mon Jul  5 20:56:54 2021\n",
      "5500 Mon Jul  5 21:05:47 2021\n",
      "6000 Mon Jul  5 21:14:48 2021\n",
      "6500 Mon Jul  5 21:23:45 2021\n",
      "7000 Mon Jul  5 21:32:48 2021\n",
      "7500 Mon Jul  5 21:42:02 2021\n",
      "8000 Mon Jul  5 21:51:14 2021\n",
      "It took 2:26:34.025209 to build dataset of 121220 abstracts.\n",
      "Completion time is: Mon Jul  5 21:56:11 2021\n"
     ]
    }
   ],
   "source": [
    "#Actually get all of the Pubmed IDs and Articles\n",
    "dz_num = {}\n",
    "dz_pmid_abs = []\n",
    "\n",
    "t1 = time.time()\n",
    "counter = 0\n",
    "for namelist in all_dz_list:\n",
    "    i = 0\n",
    "    for name in namelist:\n",
    "        pmid_abs, abs_returned = get_pmids_abstract(name, num_articles)\n",
    "        i+=abs_returned\n",
    "        dz_pmid_abs.append(pmid_abs)\n",
    "        counter+=1\n",
    "        if counter%500==0 and counter>0:\n",
    "            print(counter, time.ctime(time.time()))\n",
    "        if i>=num_articles:\n",
    "            break \n",
    "    dz_num[namelist[0]] = i\n",
    "t2 = time.time()\n",
    "print('It took '+ str(datetime.timedelta(seconds=(t2-t1)))+' to build dataset of '+str(len(all_dz_list)*num_articles)+' abstracts.')\n",
    "print('Completion time is:',time.ctime(t2))"
   ]
  },
  {
   "cell_type": "code",
   "execution_count": 11,
   "id": "f9fb8a77",
   "metadata": {
    "scrolled": false
   },
   "outputs": [],
   "source": [
    "#Sort the dictionary\n",
    "dz_num = dict(sorted(dz_num.items(), key=lambda x: x[1]))"
   ]
  },
  {
   "cell_type": "code",
   "execution_count": 12,
   "id": "b4fd0288",
   "metadata": {
    "scrolled": true
   },
   "outputs": [
    {
     "data": {
      "image/png": "[encoded data removed]",
      "text/plain": [
       "<Figure size 640x480 with 1 Axes>"
      ]
     },
     "metadata": {},
     "output_type": "display_data"
    }
   ],
   "source": [
    "#Plot the figure\n",
    "objects = tuple(dz_num)\n",
    "performance = list(dz_num.values())\n",
    "#y_pos = np.arange(performance)\n",
    "\n",
    "fig = plt.figure()\n",
    "plt.ylabel('# of Diseases')\n",
    "plt.xlabel('# of Articles')\n",
    "plt.hist(performance)\n",
    "\n",
    "plt.show()"
   ]
  },
  {
   "cell_type": "code",
   "execution_count": 13,
   "id": "bc21d984",
   "metadata": {
    "scrolled": false
   },
   "outputs": [],
   "source": [
    "fig.savefig('All_Disease_Hist20.png', dpi=400, bbox_inches='tight')"
   ]
  },
  {
   "cell_type": "code",
   "execution_count": 14,
   "id": "4d5e5bae",
   "metadata": {
    "scrolled": true
   },
   "outputs": [],
   "source": [
    "df_alldiseases = pd.DataFrame(columns=['disease','pmid', 'abstract'])\n",
    "i=0\n",
    "j=0\n",
    "for namelist in all_dz_list:\n",
    "    disease = namelist[0]\n",
    "    for k, v in dz_pmid_abs[j].items():\n",
    "        pmid = k\n",
    "        abstract = v\n",
    "        df_alldiseases.loc[i] = [disease]+[pmid]+[abstract]\n",
    "        i+=1\n",
    "    j+=1"
   ]
  },
  {
   "cell_type": "code",
   "execution_count": 15,
   "id": "4315548c",
   "metadata": {
    "scrolled": true
   },
   "outputs": [
    {
     "data": {
      "text/html": [
       "<div>\n",
       "<style scoped>\n",
       "    .dataframe tbody tr th:only-of-type {\n",
       "        vertical-align: middle;\n",
       "    }\n",
       "\n",
       "    .dataframe tbody tr th {\n",
       "        vertical-align: top;\n",
       "    }\n",
       "\n",
       "    .dataframe thead th {\n",
       "        text-align: right;\n",
       "    }\n",
       "</style>\n",
       "<table border=\"1\" class=\"dataframe\">\n",
       "  <thead>\n",
       "    <tr style=\"text-align: right;\">\n",
       "      <th></th>\n",
       "      <th>disease</th>\n",
       "      <th>pmid</th>\n",
       "      <th>abstract</th>\n",
       "    </tr>\n",
       "  </thead>\n",
       "  <tbody>\n",
       "    <tr>\n",
       "      <th>0</th>\n",
       "      <td>GRACILE syndrome</td>\n",
       "      <td>30226971</td>\n",
       "      <td>GRACILE Syndrome, is an autosomal recessive di...</td>\n",
       "    </tr>\n",
       "    <tr>\n",
       "      <th>1</th>\n",
       "      <td>GRACILE syndrome</td>\n",
       "      <td>24655110</td>\n",
       "      <td>GRACILE syndrome is a rare autosomal recessive...</td>\n",
       "    </tr>\n",
       "    <tr>\n",
       "      <th>2</th>\n",
       "      <td>GRACILE syndrome</td>\n",
       "      <td>33750016</td>\n",
       "      <td>Kenny-Caffey syndrome type 2 (KCS2) and osteoc...</td>\n",
       "    </tr>\n",
       "    <tr>\n",
       "      <th>3</th>\n",
       "      <td>GRACILE syndrome</td>\n",
       "      <td>34160123</td>\n",
       "      <td>Retinoic acid exposures as well as defects in ...</td>\n",
       "    </tr>\n",
       "    <tr>\n",
       "      <th>4</th>\n",
       "      <td>GRACILE syndrome</td>\n",
       "      <td>34077822</td>\n",
       "      <td>We draw attention to a unique presentation, se...</td>\n",
       "    </tr>\n",
       "    <tr>\n",
       "      <th>...</th>\n",
       "      <td>...</td>\n",
       "      <td>...</td>\n",
       "      <td>...</td>\n",
       "    </tr>\n",
       "    <tr>\n",
       "      <th>98547</th>\n",
       "      <td>Sphingosine phosphate lyase insufficiency synd...</td>\n",
       "      <td>34131653</td>\n",
       "      <td>Systemic sclerosis (SSc) is a connective tissu...</td>\n",
       "    </tr>\n",
       "    <tr>\n",
       "      <th>98548</th>\n",
       "      <td>Sphingosine phosphate lyase insufficiency synd...</td>\n",
       "      <td>34155851</td>\n",
       "      <td>&lt;h4&gt;Background&lt;/h4&gt;Surgical interventions in p...</td>\n",
       "    </tr>\n",
       "    <tr>\n",
       "      <th>98549</th>\n",
       "      <td>Sphingosine phosphate lyase insufficiency synd...</td>\n",
       "      <td>34163540</td>\n",
       "      <td>&lt;h4&gt;Background&lt;/h4&gt;Systemic sclerosis (SSc) al...</td>\n",
       "    </tr>\n",
       "    <tr>\n",
       "      <th>98550</th>\n",
       "      <td>Sphingosine phosphate lyase insufficiency synd...</td>\n",
       "      <td>34071779</td>\n",
       "      <td>&lt;b&gt;Objective:&lt;/b&gt; This nationwide study aimed ...</td>\n",
       "    </tr>\n",
       "    <tr>\n",
       "      <th>98551</th>\n",
       "      <td>Sphingosine phosphate lyase insufficiency synd...</td>\n",
       "      <td>33548375</td>\n",
       "      <td>Digital ulcers (DU) are one of the most common...</td>\n",
       "    </tr>\n",
       "  </tbody>\n",
       "</table>\n",
       "<p>98552 rows × 3 columns</p>\n",
       "</div>"
      ],
      "text/plain": [
       "                                                 disease      pmid  \\\n",
       "0                                       GRACILE syndrome  30226971   \n",
       "1                                       GRACILE syndrome  24655110   \n",
       "2                                       GRACILE syndrome  33750016   \n",
       "3                                       GRACILE syndrome  34160123   \n",
       "4                                       GRACILE syndrome  34077822   \n",
       "...                                                  ...       ...   \n",
       "98547  Sphingosine phosphate lyase insufficiency synd...  34131653   \n",
       "98548  Sphingosine phosphate lyase insufficiency synd...  34155851   \n",
       "98549  Sphingosine phosphate lyase insufficiency synd...  34163540   \n",
       "98550  Sphingosine phosphate lyase insufficiency synd...  34071779   \n",
       "98551  Sphingosine phosphate lyase insufficiency synd...  33548375   \n",
       "\n",
       "                                                abstract  \n",
       "0      GRACILE Syndrome, is an autosomal recessive di...  \n",
       "1      GRACILE syndrome is a rare autosomal recessive...  \n",
       "2      Kenny-Caffey syndrome type 2 (KCS2) and osteoc...  \n",
       "3      Retinoic acid exposures as well as defects in ...  \n",
       "4      We draw attention to a unique presentation, se...  \n",
       "...                                                  ...  \n",
       "98547  Systemic sclerosis (SSc) is a connective tissu...  \n",
       "98548  <h4>Background</h4>Surgical interventions in p...  \n",
       "98549  <h4>Background</h4>Systemic sclerosis (SSc) al...  \n",
       "98550  <b>Objective:</b> This nationwide study aimed ...  \n",
       "98551  Digital ulcers (DU) are one of the most common...  \n",
       "\n",
       "[98552 rows x 3 columns]"
      ]
     },
     "execution_count": 15,
     "metadata": {},
     "output_type": "execute_result"
    }
   ],
   "source": [
    "df_alldiseases"
   ]
  },
  {
   "cell_type": "code",
   "execution_count": 16,
   "id": "3361b64f",
   "metadata": {},
   "outputs": [],
   "source": [
    "df_alldiseases.to_csv('all_dz_abstract_set20.csv',index=False)"
   ]
  }
 ],
 "metadata": {
  "kernelspec": {
   "display_name": "Python 3 (ipykernel)",
   "language": "python",
   "name": "python3"
  },
  "language_info": {
   "codemirror_mode": {
    "name": "ipython",
    "version": 3
   },
   "file_extension": ".py",
   "mimetype": "text/x-python",
   "name": "python",
   "nbconvert_exporter": "python",
   "pygments_lexer": "ipython3",
   "version": "3.8.0"
  }
 },
 "nbformat": 4,
 "nbformat_minor": 1
}
